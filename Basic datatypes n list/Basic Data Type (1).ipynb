{
 "cells": [
  {
   "cell_type": "markdown",
   "id": "c708db15",
   "metadata": {},
   "source": [
    "# Numeric"
   ]
  },
  {
   "cell_type": "code",
   "execution_count": 1,
   "id": "33cf89a2",
   "metadata": {},
   "outputs": [],
   "source": [
    "import sys"
   ]
  },
  {
   "cell_type": "code",
   "execution_count": 2,
   "id": "a7562784",
   "metadata": {},
   "outputs": [
    {
     "name": "stdout",
     "output_type": "stream",
     "text": [
      "100\n",
      "<class 'int'>\n",
      "28\n"
     ]
    }
   ],
   "source": [
    "c1 = 100 # Integer data type..\n",
    "print(c1)\n",
    "print(type(c1))  # Type of object.\n",
    "print(sys.getsizeof(c1)) # size of integer object in bytes..\n"
   ]
  },
  {
   "cell_type": "code",
   "execution_count": 3,
   "id": "4d303c50",
   "metadata": {},
   "outputs": [
    {
     "name": "stdout",
     "output_type": "stream",
     "text": [
      "10.0\n",
      "<class 'float'>\n",
      "24\n"
     ]
    }
   ],
   "source": [
    "c2 = 10.0 # Float data type..\n",
    "print(c2)\n",
    "print(type(c2))  # Type of object.\n",
    "print(sys.getsizeof(c2)) # size of float object in bytes.."
   ]
  },
  {
   "cell_type": "code",
   "execution_count": 4,
   "id": "bd1ee1e0",
   "metadata": {},
   "outputs": [
    {
     "name": "stdout",
     "output_type": "stream",
     "text": [
      "10.0\n",
      "<class 'float'>\n",
      "24\n"
     ]
    }
   ],
   "source": [
    "c2 = 10.0 # Float data type\n",
    "print(c2)\n",
    "print(type(c2)) #type of object\n",
    "print(sys.getsizeof(c2)) # size of float object in bytes..\n"
   ]
  },
  {
   "cell_type": "code",
   "execution_count": 5,
   "id": "f69a60cb",
   "metadata": {},
   "outputs": [
    {
     "name": "stdout",
     "output_type": "stream",
     "text": [
      "(10+5j)\n",
      "<class 'complex'>\n",
      "32\n"
     ]
    }
   ],
   "source": [
    "c3 = 10 +5j  #Complex data type\n",
    "print(c3)\n",
    "print(type(c3))  #type of object\n",
    "print(sys.getsizeof(c3)) # size of complex object in bytes..\n"
   ]
  },
  {
   "cell_type": "code",
   "execution_count": 6,
   "id": "14302456",
   "metadata": {},
   "outputs": [
    {
     "name": "stdout",
     "output_type": "stream",
     "text": [
      "28\n"
     ]
    }
   ],
   "source": [
    "print(sys.getsizeof(c1)) # size of integer object in bytes.."
   ]
  },
  {
   "cell_type": "code",
   "execution_count": 7,
   "id": "aad21b2d",
   "metadata": {},
   "outputs": [
    {
     "name": "stdout",
     "output_type": "stream",
     "text": [
      "24\n"
     ]
    }
   ],
   "source": [
    "print(sys.getsizeof(c2)) # size of float object in bytes.."
   ]
  },
  {
   "cell_type": "code",
   "execution_count": 8,
   "id": "b214b824",
   "metadata": {},
   "outputs": [
    {
     "name": "stdout",
     "output_type": "stream",
     "text": [
      "32\n"
     ]
    }
   ],
   "source": [
    "print(sys.getsizeof(c3)) # size of complex object in bytes.."
   ]
  },
  {
   "cell_type": "markdown",
   "id": "b5b724be",
   "metadata": {},
   "source": [
    "#  Boolean\n",
    "\n",
    "* Boolean data type can have only two possible value true or false.."
   ]
  },
  {
   "cell_type": "code",
   "execution_count": 9,
   "id": "1cea236b",
   "metadata": {},
   "outputs": [
    {
     "data": {
      "text/plain": [
       "2"
      ]
     },
     "execution_count": 9,
     "metadata": {},
     "output_type": "execute_result"
    }
   ],
   "source": [
    "bool1 = True # True = 1\n",
    "bool1 + 1"
   ]
  },
  {
   "cell_type": "code",
   "execution_count": 10,
   "id": "7000c7e4",
   "metadata": {},
   "outputs": [],
   "source": [
    "bool2 = False # False = 0"
   ]
  },
  {
   "cell_type": "code",
   "execution_count": 11,
   "id": "e7332d1e",
   "metadata": {},
   "outputs": [
    {
     "name": "stdout",
     "output_type": "stream",
     "text": [
      "<class 'bool'>\n"
     ]
    }
   ],
   "source": [
    "print(type(bool1))"
   ]
  },
  {
   "cell_type": "code",
   "execution_count": 12,
   "id": "9ee798ee",
   "metadata": {},
   "outputs": [
    {
     "name": "stdout",
     "output_type": "stream",
     "text": [
      "<class 'bool'>\n"
     ]
    }
   ],
   "source": [
    "print(type(bool2))"
   ]
  },
  {
   "cell_type": "code",
   "execution_count": 13,
   "id": "d0e17e94",
   "metadata": {},
   "outputs": [
    {
     "data": {
      "text/plain": [
       "False"
      ]
     },
     "execution_count": 13,
     "metadata": {},
     "output_type": "execute_result"
    }
   ],
   "source": [
    "isinstance(22.5,bool) # isinstance return True if the specified object is of the specified type"
   ]
  },
  {
   "cell_type": "code",
   "execution_count": 14,
   "id": "896dc706",
   "metadata": {},
   "outputs": [
    {
     "data": {
      "text/plain": [
       "False"
      ]
     },
     "execution_count": 14,
     "metadata": {},
     "output_type": "execute_result"
    }
   ],
   "source": [
    "bool(None) # as true value of 0 is False.."
   ]
  },
  {
   "cell_type": "code",
   "execution_count": 15,
   "id": "a2d3b09d",
   "metadata": {},
   "outputs": [
    {
     "data": {
      "text/plain": [
       "False"
      ]
     },
     "execution_count": 15,
     "metadata": {},
     "output_type": "execute_result"
    }
   ],
   "source": [
    "bool(0) #as true value of 1 is true"
   ]
  },
  {
   "cell_type": "code",
   "execution_count": 16,
   "id": "828cc614",
   "metadata": {},
   "outputs": [
    {
     "data": {
      "text/plain": [
       "True"
      ]
     },
     "execution_count": 16,
     "metadata": {},
     "output_type": "execute_result"
    }
   ],
   "source": [
    "bool(-3)"
   ]
  },
  {
   "cell_type": "code",
   "execution_count": 17,
   "id": "e4f8f272",
   "metadata": {},
   "outputs": [
    {
     "data": {
      "text/plain": [
       "True"
      ]
     },
     "execution_count": 17,
     "metadata": {},
     "output_type": "execute_result"
    }
   ],
   "source": [
    "bool(2003)"
   ]
  },
  {
   "cell_type": "code",
   "execution_count": 18,
   "id": "e5e5bc82",
   "metadata": {},
   "outputs": [
    {
     "data": {
      "text/plain": [
       "True"
      ]
     },
     "execution_count": 18,
     "metadata": {},
     "output_type": "execute_result"
    }
   ],
   "source": [
    "bool(44)"
   ]
  },
  {
   "cell_type": "markdown",
   "id": "927b5650",
   "metadata": {},
   "source": [
    "# Strings..\n",
    "\n",
    "\n",
    "# String Creation.."
   ]
  },
  {
   "cell_type": "code",
   "execution_count": 19,
   "id": "42f8180e",
   "metadata": {},
   "outputs": [
    {
     "name": "stdout",
     "output_type": "stream",
     "text": [
      "Hello  @566565Guys\n"
     ]
    },
    {
     "data": {
      "text/plain": [
       "str"
      ]
     },
     "execution_count": 19,
     "metadata": {},
     "output_type": "execute_result"
    }
   ],
   "source": [
    "str1 = 'Hello  @566565Guys'# Define a string using single quotes\n",
    "print(str1)\n",
    "type(str1)"
   ]
  },
  {
   "cell_type": "code",
   "execution_count": 20,
   "id": "f566519e",
   "metadata": {},
   "outputs": [
    {
     "name": "stdout",
     "output_type": "stream",
     "text": [
      "hello\n"
     ]
    }
   ],
   "source": [
    "str1 = \"hello\"\n",
    "print(str1)  # Define a string using double quotes"
   ]
  },
  {
   "cell_type": "code",
   "execution_count": 21,
   "id": "09fa8336",
   "metadata": {},
   "outputs": [],
   "source": [
    "# dahufhs"
   ]
  },
  {
   "cell_type": "code",
   "execution_count": 22,
   "id": "7e74d987",
   "metadata": {},
   "outputs": [],
   "source": [
    "# hg\n",
    "# bhbb\n",
    "'''djf\n",
    "fhuhf\n",
    "fdhgh\n",
    "fdb'''\n",
    "a = 10\n",
    "\"\"\"d\n",
    "dvnjv\n",
    "djnvj\"\"\"\n",
    "b = 20"
   ]
  },
  {
   "cell_type": "code",
   "execution_count": 23,
   "id": "c7be1a28",
   "metadata": {},
   "outputs": [
    {
     "name": "stdout",
     "output_type": "stream",
     "text": [
      "Happy \n",
      "Birthday\n",
      "to\n",
      "You\n"
     ]
    }
   ],
   "source": [
    "str1 = '''Happy \n",
    "Birthday\n",
    "to\n",
    "You'''\n",
    "print(str1) # Define a string using triple quotes"
   ]
  },
  {
   "cell_type": "code",
   "execution_count": 24,
   "id": "08097202",
   "metadata": {},
   "outputs": [
    {
     "name": "stdout",
     "output_type": "stream",
     "text": [
      " Oyy Oyy Oyy Oyy\n",
      " Oyy\n"
     ]
    }
   ],
   "source": [
    "str2 = \" Oyy\" \n",
    "str3 = str2*4\n",
    "print(str3)\n",
    "print(str2)"
   ]
  },
  {
   "cell_type": "code",
   "execution_count": 25,
   "id": "a6e3776d",
   "metadata": {},
   "outputs": [
    {
     "data": {
      "text/plain": [
       "16"
      ]
     },
     "execution_count": 25,
     "metadata": {},
     "output_type": "execute_result"
    }
   ],
   "source": [
    "len(str3) #Length of string.."
   ]
  },
  {
   "cell_type": "markdown",
   "id": "67728e9d",
   "metadata": {},
   "source": [
    "# String Indexing.."
   ]
  },
  {
   "cell_type": "code",
   "execution_count": 26,
   "id": "3bec1c89",
   "metadata": {},
   "outputs": [],
   "source": [
    "str3 = \"adjfvc\""
   ]
  },
  {
   "cell_type": "code",
   "execution_count": 27,
   "id": "4102fd36",
   "metadata": {},
   "outputs": [
    {
     "data": {
      "text/plain": [
       "'v'"
      ]
     },
     "execution_count": 27,
     "metadata": {},
     "output_type": "execute_result"
    }
   ],
   "source": [
    "str3[4] # First Character of string.."
   ]
  },
  {
   "cell_type": "code",
   "execution_count": 28,
   "id": "87f82374",
   "metadata": {},
   "outputs": [
    {
     "data": {
      "text/plain": [
       "'c'"
      ]
     },
     "execution_count": 28,
     "metadata": {},
     "output_type": "execute_result"
    }
   ],
   "source": [
    "str3[-1] # Last Character of string.."
   ]
  },
  {
   "cell_type": "code",
   "execution_count": 29,
   "id": "af999e0d",
   "metadata": {},
   "outputs": [
    {
     "data": {
      "text/plain": [
       "'c'"
      ]
     },
     "execution_count": 29,
     "metadata": {},
     "output_type": "execute_result"
    }
   ],
   "source": [
    "str3[5] # 4th character of string.."
   ]
  },
  {
   "cell_type": "code",
   "execution_count": 30,
   "id": "cf203cca",
   "metadata": {},
   "outputs": [
    {
     "data": {
      "text/plain": [
       "'d'"
      ]
     },
     "execution_count": 30,
     "metadata": {},
     "output_type": "execute_result"
    }
   ],
   "source": [
    "str3[-5]"
   ]
  },
  {
   "cell_type": "markdown",
   "id": "9e584e4c",
   "metadata": {},
   "source": [
    "#  String Slicing."
   ]
  },
  {
   "cell_type": "code",
   "execution_count": 31,
   "id": "e4ee2f95",
   "metadata": {},
   "outputs": [
    {
     "data": {
      "text/plain": [
       "'123 78'"
      ]
     },
     "execution_count": 31,
     "metadata": {},
     "output_type": "execute_result"
    }
   ],
   "source": [
    "str1 = \"123 78\"\n",
    "str1"
   ]
  },
  {
   "cell_type": "code",
   "execution_count": 32,
   "id": "7cd4914b",
   "metadata": {},
   "outputs": [
    {
     "data": {
      "text/plain": [
       "'7'"
      ]
     },
     "execution_count": 32,
     "metadata": {},
     "output_type": "execute_result"
    }
   ],
   "source": [
    "str1[-2] #String Slicing  - Fetch all characters from 0 to 5 index location"
   ]
  },
  {
   "cell_type": "code",
   "execution_count": 33,
   "id": "fa3526aa",
   "metadata": {},
   "outputs": [
    {
     "data": {
      "text/plain": [
       "'123 7'"
      ]
     },
     "execution_count": 33,
     "metadata": {},
     "output_type": "execute_result"
    }
   ],
   "source": [
    "str1[:-1] #String slicing - Retrieve all characters between 6-9 index location"
   ]
  },
  {
   "cell_type": "code",
   "execution_count": 34,
   "id": "dcfd83f3",
   "metadata": {},
   "outputs": [
    {
     "data": {
      "text/plain": [
       "'3 78'"
      ]
     },
     "execution_count": 34,
     "metadata": {},
     "output_type": "execute_result"
    }
   ],
   "source": [
    "str1[-4:] # Retrieve last four characters of the string.."
   ]
  },
  {
   "cell_type": "code",
   "execution_count": 35,
   "id": "91a652fb",
   "metadata": {},
   "outputs": [
    {
     "data": {
      "text/plain": [
       "'123 7'"
      ]
     },
     "execution_count": 35,
     "metadata": {},
     "output_type": "execute_result"
    }
   ],
   "source": [
    "str1[:-1] # Retreive first four characters of the string.."
   ]
  },
  {
   "cell_type": "code",
   "execution_count": 36,
   "id": "af2c2573",
   "metadata": {},
   "outputs": [
    {
     "ename": "NameError",
     "evalue": "name 'str1' is not defined",
     "output_type": "error",
     "traceback": [
      "\u001b[1;31m---------------------------------------------------------------------------\u001b[0m",
      "\u001b[1;31mNameError\u001b[0m                                 Traceback (most recent call last)",
      "\u001b[1;32m~\\AppData\\Local\\Temp/ipykernel_10648/3497050094.py\u001b[0m in \u001b[0;36m<module>\u001b[1;34m\u001b[0m\n\u001b[0;32m      1\u001b[0m \u001b[1;32mdel\u001b[0m \u001b[0mstr1\u001b[0m \u001b[1;31m# Delete a string..\u001b[0m\u001b[1;33m\u001b[0m\u001b[1;33m\u001b[0m\u001b[0m\n\u001b[1;32m----> 2\u001b[1;33m \u001b[0mprint\u001b[0m\u001b[1;33m(\u001b[0m\u001b[0mstr1\u001b[0m\u001b[1;33m)\u001b[0m\u001b[1;33m\u001b[0m\u001b[1;33m\u001b[0m\u001b[0m\n\u001b[0m",
      "\u001b[1;31mNameError\u001b[0m: name 'str1' is not defined"
     ]
    }
   ],
   "source": [
    "del str1 # Delete a string..\n",
    "print(str1)"
   ]
  },
  {
   "cell_type": "code",
   "execution_count": 37,
   "id": "40f547ff",
   "metadata": {},
   "outputs": [
    {
     "name": "stdout",
     "output_type": "stream",
     "text": [
      "Tim\n"
     ]
    }
   ],
   "source": [
    "a_1 = \"Jim\"\n",
    "a_2 = \"T\" + a_1[1:]\n",
    "print(a_2)"
   ]
  },
  {
   "cell_type": "code",
   "execution_count": 38,
   "id": "2e5d4c48",
   "metadata": {},
   "outputs": [
    {
     "ename": "TypeError",
     "evalue": "'str' object does not support item assignment",
     "output_type": "error",
     "traceback": [
      "\u001b[1;31m---------------------------------------------------------------------------\u001b[0m",
      "\u001b[1;31mTypeError\u001b[0m                                 Traceback (most recent call last)",
      "\u001b[1;32m~\\AppData\\Local\\Temp/ipykernel_10648/3784946555.py\u001b[0m in \u001b[0;36m<module>\u001b[1;34m\u001b[0m\n\u001b[0;32m      1\u001b[0m \u001b[0ma_1\u001b[0m  \u001b[1;33m=\u001b[0m\u001b[1;34m\"Jimmy\"\u001b[0m \u001b[1;31m# Strings are immutable means elements of the string cannot be updated once assigned..\u001b[0m\u001b[1;33m\u001b[0m\u001b[1;33m\u001b[0m\u001b[0m\n\u001b[1;32m----> 2\u001b[1;33m \u001b[0ma_1\u001b[0m\u001b[1;33m[\u001b[0m\u001b[1;36m0\u001b[0m\u001b[1;33m]\u001b[0m \u001b[1;33m=\u001b[0m \u001b[1;34m\"T\"\u001b[0m\u001b[1;33m\u001b[0m\u001b[1;33m\u001b[0m\u001b[0m\n\u001b[0m\u001b[0;32m      3\u001b[0m \u001b[0mprint\u001b[0m\u001b[1;33m(\u001b[0m\u001b[0ma_1\u001b[0m\u001b[1;33m)\u001b[0m\u001b[1;33m\u001b[0m\u001b[1;33m\u001b[0m\u001b[0m\n",
      "\u001b[1;31mTypeError\u001b[0m: 'str' object does not support item assignment"
     ]
    }
   ],
   "source": [
    "a_1  =\"Jimmy\" # Strings are immutable means elements of the string cannot be updated once assigned..\n",
    "a_1[0] = \"T\"\n",
    "print(a_1) "
   ]
  },
  {
   "cell_type": "markdown",
   "id": "4db00a73",
   "metadata": {},
   "source": [
    "#  # String Concatenation.."
   ]
  },
  {
   "cell_type": "code",
   "execution_count": 73,
   "id": "151093c2",
   "metadata": {},
   "outputs": [
    {
     "name": "stdout",
     "output_type": "stream",
     "text": [
      "1122\n"
     ]
    }
   ],
   "source": [
    "s1= (\"11\")\n",
    "s2 = (\"22\")\n",
    "s3  = s1 + s2\n",
    "print(s3)"
   ]
  },
  {
   "cell_type": "code",
   "execution_count": 40,
   "id": "68646625",
   "metadata": {},
   "outputs": [
    {
     "name": "stdout",
     "output_type": "stream",
     "text": [
      "Hello How Are You?\n"
     ]
    }
   ],
   "source": [
    "s1= \"Hello \"\n",
    "s2 = \"How Are You?\"\n",
    "s3  = s1   + s2\n",
    "print(s3)"
   ]
  },
  {
   "cell_type": "code",
   "execution_count": 41,
   "id": "47288b00",
   "metadata": {},
   "outputs": [
    {
     "data": {
      "text/plain": [
       "(3, 0.4, (88+22j), True)"
      ]
     },
     "execution_count": 41,
     "metadata": {},
     "output_type": "execute_result"
    }
   ],
   "source": [
    "a = 3\n",
    "a\n",
    "a = 3,0.4,88+ 22j,True\n",
    "a"
   ]
  },
  {
   "cell_type": "markdown",
   "id": "b4c6d9cf",
   "metadata": {},
   "source": [
    "#  String Membership"
   ]
  },
  {
   "cell_type": "code",
   "execution_count": 42,
   "id": "adb0aa58",
   "metadata": {},
   "outputs": [
    {
     "name": "stdout",
     "output_type": "stream",
     "text": [
      "True\n",
      "True\n",
      "False\n"
     ]
    }
   ],
   "source": [
    "q1 = \"Job Done\"\n",
    "print(\"Job\" in q1) # Check whether substring \"Job\" is present in string \n",
    "print(\"Done\" in q1) # Check whether substring \"Done\" is present in string \n",
    "print(\"Khatam\" in q1) # Check whether substring \"Khatam\" is present in string  \n"
   ]
  },
  {
   "cell_type": "markdown",
   "id": "549a6eaf",
   "metadata": {},
   "source": [
    "#  String Functions.."
   ]
  },
  {
   "cell_type": "code",
   "execution_count": 43,
   "id": "78896879",
   "metadata": {},
   "outputs": [
    {
     "data": {
      "text/plain": [
       "'@@@#6666Hello@@@###  '"
      ]
     },
     "execution_count": 43,
     "metadata": {},
     "output_type": "execute_result"
    }
   ],
   "source": [
    "a1 = \"@@@#6666Hello@@@###  \"\n",
    "a1"
   ]
  },
  {
   "cell_type": "code",
   "execution_count": 44,
   "id": "7319f115",
   "metadata": {},
   "outputs": [
    {
     "data": {
      "text/plain": [
       "'#6666Hello@@@###  '"
      ]
     },
     "execution_count": 44,
     "metadata": {},
     "output_type": "execute_result"
    }
   ],
   "source": [
    "a1.strip(\"@\") #Removes white spaces from begining and end"
   ]
  },
  {
   "cell_type": "code",
   "execution_count": 45,
   "id": "ab5669cd",
   "metadata": {},
   "outputs": [
    {
     "data": {
      "text/plain": [
       "'@@@#6666Hello@@@###'"
      ]
     },
     "execution_count": 45,
     "metadata": {},
     "output_type": "execute_result"
    }
   ],
   "source": [
    "a1.rstrip() # Removes all whitespaces at the end of string.."
   ]
  },
  {
   "cell_type": "code",
   "execution_count": 46,
   "id": "0e6aa340",
   "metadata": {},
   "outputs": [
    {
     "data": {
      "text/plain": [
       "'@@@#6666Hello@@@###  '"
      ]
     },
     "execution_count": 46,
     "metadata": {},
     "output_type": "execute_result"
    }
   ],
   "source": [
    "a1.lstrip(\"\") # Remove all whitespaces at the begining of the string.."
   ]
  },
  {
   "cell_type": "code",
   "execution_count": 76,
   "id": "e8a28b76",
   "metadata": {},
   "outputs": [
    {
     "data": {
      "text/plain": [
       "'****** Hello Everyone**********'"
      ]
     },
     "execution_count": 76,
     "metadata": {},
     "output_type": "execute_result"
    }
   ],
   "source": [
    "a2 = \"****** Hello Everyone**********\"\n",
    "a2"
   ]
  },
  {
   "cell_type": "code",
   "execution_count": 77,
   "id": "509b3ef4",
   "metadata": {},
   "outputs": [
    {
     "data": {
      "text/plain": [
       "' Hello Everyone'"
      ]
     },
     "execution_count": 77,
     "metadata": {},
     "output_type": "execute_result"
    }
   ],
   "source": [
    "a2.strip('*') # Removes all \"*\" characters from begining and end.."
   ]
  },
  {
   "cell_type": "code",
   "execution_count": 49,
   "id": "0588bf11",
   "metadata": {},
   "outputs": [
    {
     "data": {
      "text/plain": [
       "'****** Hello Everyone'"
      ]
     },
     "execution_count": 49,
     "metadata": {},
     "output_type": "execute_result"
    }
   ],
   "source": [
    "a2.rstrip('*') # Removes all \"*\" charactres at the end of string.."
   ]
  },
  {
   "cell_type": "code",
   "execution_count": 50,
   "id": "52254317",
   "metadata": {},
   "outputs": [
    {
     "data": {
      "text/plain": [
       "' Hello Everyone**********'"
      ]
     },
     "execution_count": 50,
     "metadata": {},
     "output_type": "execute_result"
    }
   ],
   "source": [
    "a2.lstrip(\"*\") #Removes all \"*\" characters at the begining of string.."
   ]
  },
  {
   "cell_type": "code",
   "execution_count": 84,
   "id": "a678ccfc",
   "metadata": {},
   "outputs": [],
   "source": [
    "a3  =\"HeLLo  EvEryOne\""
   ]
  },
  {
   "cell_type": "code",
   "execution_count": 81,
   "id": "f6bd172e",
   "metadata": {},
   "outputs": [
    {
     "data": {
      "text/plain": [
       "'EHeLLo  EvEryOn'"
      ]
     },
     "execution_count": 81,
     "metadata": {},
     "output_type": "execute_result"
    }
   ],
   "source": [
    "a3.strip(\"e\") # Return  whole string in lower case.."
   ]
  },
  {
   "cell_type": "code",
   "execution_count": 53,
   "id": "aaefc291",
   "metadata": {},
   "outputs": [
    {
     "data": {
      "text/plain": [
       "'HeLLo  EvEryOne'"
      ]
     },
     "execution_count": 53,
     "metadata": {},
     "output_type": "execute_result"
    }
   ],
   "source": [
    "a3"
   ]
  },
  {
   "cell_type": "code",
   "execution_count": 54,
   "id": "7b25b821",
   "metadata": {},
   "outputs": [
    {
     "data": {
      "text/plain": [
       "'HELLO  EVERYONE'"
      ]
     },
     "execution_count": 54,
     "metadata": {},
     "output_type": "execute_result"
    }
   ],
   "source": [
    "a3.upper() # Return whole string in upper case.."
   ]
  },
  {
   "cell_type": "code",
   "execution_count": 85,
   "id": "01c01a6c",
   "metadata": {},
   "outputs": [
    {
     "data": {
      "text/plain": [
       "'12LLo  EvEryOne'"
      ]
     },
     "execution_count": 85,
     "metadata": {},
     "output_type": "execute_result"
    }
   ],
   "source": [
    "a3.replace(\"He\" , \"12\" )# Replace substring \"He\" with \"Be\""
   ]
  },
  {
   "cell_type": "code",
   "execution_count": 56,
   "id": "9f27144b",
   "metadata": {},
   "outputs": [
    {
     "data": {
      "text/plain": [
       "'HeLLo  EvEryOne'"
      ]
     },
     "execution_count": 56,
     "metadata": {},
     "output_type": "execute_result"
    }
   ],
   "source": [
    "a3"
   ]
  },
  {
   "cell_type": "code",
   "execution_count": 57,
   "id": "5716a023",
   "metadata": {},
   "outputs": [
    {
     "data": {
      "text/plain": [
       "'Qv bbX DDd vfdD AALLSbf ngmSS SSKf bvnbb KKf bgf nhm KLLLL'"
      ]
     },
     "execution_count": 57,
     "metadata": {},
     "output_type": "execute_result"
    }
   ],
   "source": [
    "a4 = \"Qv bbX DDd vfdD AALLSbf ngmSS SSKf bvnbb KKf bgf nhm KLLLL\"\n",
    "a4"
   ]
  },
  {
   "cell_type": "code",
   "execution_count": 58,
   "id": "134cfca4",
   "metadata": {},
   "outputs": [
    {
     "data": {
      "text/plain": [
       "6"
      ]
     },
     "execution_count": 58,
     "metadata": {},
     "output_type": "execute_result"
    }
   ],
   "source": [
    "a4.count(\"L\")"
   ]
  },
  {
   "cell_type": "code",
   "execution_count": 59,
   "id": "e882179d",
   "metadata": {},
   "outputs": [],
   "source": [
    "a = \" 1 2 4 6\""
   ]
  },
  {
   "cell_type": "code",
   "execution_count": 60,
   "id": "a285190b",
   "metadata": {},
   "outputs": [
    {
     "data": {
      "text/plain": [
       "['1', '2', '4', '6']"
      ]
     },
     "execution_count": 60,
     "metadata": {},
     "output_type": "execute_result"
    }
   ],
   "source": [
    "mylist = a.split() # Split String into substring\n",
    "mylist\n"
   ]
  },
  {
   "cell_type": "code",
   "execution_count": 61,
   "id": "fad0c850",
   "metadata": {},
   "outputs": [
    {
     "name": "stdout",
     "output_type": "stream",
     "text": [
      "False\n",
      "True\n",
      "False\n",
      "False\n"
     ]
    }
   ],
   "source": [
    "\n",
    "a4 = \"LoveYou3000\"\n",
    "print(a4.isalpha()) # returns True if all the characters in the text are letters\n",
    "print(a4.isalnum()) #returns True if a string contains only letters or numbers\n",
    "print(a4.isdecimal()) # returns True if all the characters are decimals (0-9)\n",
    "print(a4.isnumeric()) # returns True if all characters are numeric (0-9)"
   ]
  },
  {
   "cell_type": "code",
   "execution_count": 62,
   "id": "4780c243",
   "metadata": {},
   "outputs": [
    {
     "name": "stdout",
     "output_type": "stream",
     "text": [
      "True\n"
     ]
    }
   ],
   "source": [
    "a1 = \"dgbc\"\n",
    "print(a1.isalpha()) # returns True if all the characters in the text are letters"
   ]
  },
  {
   "cell_type": "code",
   "execution_count": 63,
   "id": "6914747e",
   "metadata": {},
   "outputs": [
    {
     "name": "stdout",
     "output_type": "stream",
     "text": [
      "True\n"
     ]
    }
   ],
   "source": [
    "a1 = \"dsgf6666\"\n",
    "print(a1.isalnum()) #returns True if a string contains only letters or numbers"
   ]
  },
  {
   "cell_type": "code",
   "execution_count": 64,
   "id": "874f6de7",
   "metadata": {},
   "outputs": [
    {
     "name": "stdout",
     "output_type": "stream",
     "text": [
      "True\n"
     ]
    }
   ],
   "source": [
    "a1 = \"255\"\n",
    "print(a1.isdecimal()) # returns True if all the characters are decimals (0-9)"
   ]
  },
  {
   "cell_type": "code",
   "execution_count": 65,
   "id": "b7876096",
   "metadata": {},
   "outputs": [
    {
     "name": "stdout",
     "output_type": "stream",
     "text": [
      "True\n"
     ]
    }
   ],
   "source": [
    "a1 =\"884\"\n",
    "print(a1.isnumeric()) # returns True if all characters are numeric (0-9)"
   ]
  },
  {
   "cell_type": "code",
   "execution_count": 66,
   "id": "ab444263",
   "metadata": {},
   "outputs": [
    {
     "name": "stdout",
     "output_type": "stream",
     "text": [
      "True\n"
     ]
    }
   ],
   "source": [
    "a1 =\"PPPDDDAA\"\n",
    "print(a1.isupper()) # returns True if all characters are in upper case"
   ]
  },
  {
   "cell_type": "code",
   "execution_count": 67,
   "id": "d3e303fc",
   "metadata": {},
   "outputs": [
    {
     "name": "stdout",
     "output_type": "stream",
     "text": [
      "True\n"
     ]
    }
   ],
   "source": [
    "a1 =\"sfbbb\"\n",
    "print(a1.islower()) # returns True if all characters are in lower case"
   ]
  },
  {
   "cell_type": "code",
   "execution_count": 68,
   "id": "f61e7381",
   "metadata": {},
   "outputs": [
    {
     "data": {
      "text/plain": [
       "'****** Hello Everyone**********'"
      ]
     },
     "execution_count": 68,
     "metadata": {},
     "output_type": "execute_result"
    }
   ],
   "source": [
    "a2 = \"****** Hello Everyone**********\"\n",
    "a2"
   ]
  },
  {
   "cell_type": "code",
   "execution_count": 69,
   "id": "d237e5cd",
   "metadata": {},
   "outputs": [
    {
     "data": {
      "text/plain": [
       "' Hello Everyone'"
      ]
     },
     "execution_count": 69,
     "metadata": {},
     "output_type": "execute_result"
    }
   ],
   "source": [
    "a2.strip('*') # Removes all \"*\" characters from begining and end..\n"
   ]
  },
  {
   "cell_type": "code",
   "execution_count": 70,
   "id": "d820d3e3",
   "metadata": {},
   "outputs": [
    {
     "data": {
      "text/plain": [
       "'****** Hello Everyone'"
      ]
     },
     "execution_count": 70,
     "metadata": {},
     "output_type": "execute_result"
    }
   ],
   "source": [
    "a2.rstrip('*') # Removes all \"*\" charactres at the end of string.."
   ]
  },
  {
   "cell_type": "code",
   "execution_count": 71,
   "id": "490450db",
   "metadata": {},
   "outputs": [
    {
     "data": {
      "text/plain": [
       "' Hello Everyone**********'"
      ]
     },
     "execution_count": 71,
     "metadata": {},
     "output_type": "execute_result"
    }
   ],
   "source": [
    "a2.lstrip(\"*\") #Removes all \"*\" characters at the begining of string.."
   ]
  },
  {
   "cell_type": "code",
   "execution_count": null,
   "id": "921095e5",
   "metadata": {},
   "outputs": [],
   "source": []
  }
 ],
 "metadata": {
  "kernelspec": {
   "display_name": "Python 3 (ipykernel)",
   "language": "python",
   "name": "python3"
  },
  "language_info": {
   "codemirror_mode": {
    "name": "ipython",
    "version": 3
   },
   "file_extension": ".py",
   "mimetype": "text/x-python",
   "name": "python",
   "nbconvert_exporter": "python",
   "pygments_lexer": "ipython3",
   "version": "3.9.7"
  }
 },
 "nbformat": 4,
 "nbformat_minor": 5
}
