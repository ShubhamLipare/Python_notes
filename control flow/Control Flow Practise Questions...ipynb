{
 "cells": [
  {
   "cell_type": "code",
   "execution_count": 2,
   "id": "496939b5",
   "metadata": {},
   "outputs": [
    {
     "name": "stdout",
     "output_type": "stream",
     "text": [
      "M ?\n",
      "y ?\n",
      "b ?\n",
      "l ?\n",
      "o ?\n",
      "g ?\n"
     ]
    }
   ],
   "source": [
    "for i in \"Myblog\":\n",
    "    print(i,'?')"
   ]
  },
  {
   "cell_type": "code",
   "execution_count": 5,
   "id": "0c70c96e",
   "metadata": {},
   "outputs": [
    {
     "name": "stdout",
     "output_type": "stream",
     "text": [
      "0\n",
      "1\n",
      "2\n",
      "3\n",
      "4\n"
     ]
    }
   ],
   "source": [
    "for i in range(5):\n",
    "    print(i)"
   ]
  },
  {
   "cell_type": "code",
   "execution_count": 7,
   "id": "06899b10",
   "metadata": {},
   "outputs": [
    {
     "name": "stdout",
     "output_type": "stream",
     "text": [
      "10\n",
      "11\n",
      "12\n",
      "13\n",
      "14\n"
     ]
    }
   ],
   "source": [
    "for i in range(10,15):\n",
    "    print(i)"
   ]
  },
  {
   "cell_type": "markdown",
   "id": "56d10bff",
   "metadata": {},
   "source": [
    "# Q2. Write a program to print first 10 natural number"
   ]
  },
  {
   "cell_type": "code",
   "execution_count": 8,
   "id": "d3a57615",
   "metadata": {},
   "outputs": [
    {
     "name": "stdout",
     "output_type": "stream",
     "text": [
      "1\n",
      "2\n",
      "3\n",
      "4\n",
      "5\n",
      "6\n",
      "7\n",
      "8\n",
      "9\n",
      "10\n"
     ]
    }
   ],
   "source": [
    "for i in range(1,11):\n",
    "      print(i)"
   ]
  },
  {
   "cell_type": "markdown",
   "id": "6ad01126",
   "metadata": {},
   "source": [
    "# Write a program to print first 10 even numbers."
   ]
  },
  {
   "cell_type": "code",
   "execution_count": 9,
   "id": "f6067641",
   "metadata": {},
   "outputs": [
    {
     "name": "stdout",
     "output_type": "stream",
     "text": [
      "2\n",
      "4\n",
      "6\n",
      "8\n",
      "10\n",
      "12\n",
      "14\n",
      "16\n",
      "18\n",
      "20\n"
     ]
    }
   ],
   "source": [
    "for i in range(2,22,2):\n",
    "     print(i)"
   ]
  },
  {
   "cell_type": "markdown",
   "id": "c12e5ee1",
   "metadata": {},
   "source": [
    "# Write a program to print first 10 odd numbers."
   ]
  },
  {
   "cell_type": "code",
   "execution_count": 2,
   "id": "8aad7ddf",
   "metadata": {},
   "outputs": [
    {
     "name": "stdout",
     "output_type": "stream",
     "text": [
      "1\n",
      "3\n",
      "5\n",
      "7\n",
      "9\n",
      "11\n",
      "13\n",
      "15\n",
      "17\n",
      "19\n"
     ]
    }
   ],
   "source": [
    "for i in range(1,20,2): \n",
    "      print(i)"
   ]
  },
  {
   "cell_type": "markdown",
   "id": "cfb0bf7d",
   "metadata": {},
   "source": [
    "# Write a program to print first 10 even numbers in reverse order."
   ]
  },
  {
   "cell_type": "code",
   "execution_count": 5,
   "id": "6a446144",
   "metadata": {},
   "outputs": [
    {
     "name": "stdout",
     "output_type": "stream",
     "text": [
      "20\n",
      "18\n",
      "16\n",
      "14\n",
      "12\n",
      "10\n",
      "8\n",
      "6\n",
      "4\n",
      "2\n"
     ]
    }
   ],
   "source": [
    "for i in range(20,0,-2):\n",
    "      print(i)"
   ]
  },
  {
   "cell_type": "markdown",
   "id": "f129ec0c",
   "metadata": {},
   "source": [
    "# Write a program to find the factorial of a number."
   ]
  },
  {
   "cell_type": "code",
   "execution_count": 12,
   "id": "2c43ab23",
   "metadata": {},
   "outputs": [
    {
     "name": "stdout",
     "output_type": "stream",
     "text": [
      "Enter any number22\n",
      "Factorial is 1124000727777607680000\n"
     ]
    }
   ],
   "source": [
    "num=int(input(\"Enter any number\"))\n",
    "f=1\n",
    "for i in range(1,num+1):\n",
    "    f=f*i\n",
    "print(\"Factorial is\",f)\n"
   ]
  },
  {
   "cell_type": "markdown",
   "id": "bc0602ed",
   "metadata": {},
   "source": [
    "# Write a program to find the sum of the digits of a number accepted from user"
   ]
  },
  {
   "cell_type": "code",
   "execution_count": 1,
   "id": "99ffb98e",
   "metadata": {},
   "outputs": [
    {
     "name": "stdout",
     "output_type": "stream",
     "text": [
      "Enter any number12\n",
      "Sum of digits is 2\n",
      "Sum of digits is 3\n"
     ]
    }
   ],
   "source": [
    "num=int(input(\"Enter any number\"))\n",
    "s=0\n",
    "while(num):\n",
    "    r=num%10\n",
    "    s=s+r\n",
    "    num=num//10\n",
    "    print(\"Sum of digits is\",s)\n",
    "\n",
    "a = 10"
   ]
  },
  {
   "cell_type": "markdown",
   "id": "5095e53c",
   "metadata": {},
   "source": [
    "#  Write a program to check whether a number is prime or not"
   ]
  },
  {
   "cell_type": "code",
   "execution_count": 2,
   "id": "a6df89ba",
   "metadata": {},
   "outputs": [
    {
     "name": "stdout",
     "output_type": "stream",
     "text": [
      "Enter any number13\n",
      "Number is prime\n"
     ]
    }
   ],
   "source": [
    "num=int(input(\"Enter any number\"))\n",
    "f=0\n",
    "if num==1 or num==0:\n",
    "     f=1\n",
    "for i in range(2,num):\n",
    "     if num%i==0:\n",
    "          f=1\n",
    "if f==1:\n",
    "     print(\"Number is not prime\")\n",
    "else:\n",
    "     print(\"Number is prime\")"
   ]
  },
  {
   "cell_type": "code",
   "execution_count": null,
   "id": "74192ea1",
   "metadata": {},
   "outputs": [],
   "source": [
    "for i in (1,10):\n",
    "       print(i)"
   ]
  },
  {
   "cell_type": "code",
   "execution_count": null,
   "id": "3c0d0195",
   "metadata": {},
   "outputs": [],
   "source": [
    "for i in (5,9):\n",
    "       print(i)"
   ]
  },
  {
   "cell_type": "code",
   "execution_count": null,
   "id": "1d1b37de",
   "metadata": {},
   "outputs": [],
   "source": [
    "for i in range(2,7):\n",
    "       print(i)"
   ]
  },
  {
   "cell_type": "code",
   "execution_count": 6,
   "id": "b3ece95c",
   "metadata": {},
   "outputs": [
    {
     "name": "stdout",
     "output_type": "stream",
     "text": [
      "c s i p l e a r n i n g h u b "
     ]
    }
   ],
   "source": [
    "for i in \"csiplearninghub\":\n",
    "       print(i,end = \" \")"
   ]
  },
  {
   "cell_type": "code",
   "execution_count": null,
   "id": "c853d2d2",
   "metadata": {},
   "outputs": [],
   "source": [
    " for i in \"python\":\n",
    "       print(i, end=' ')"
   ]
  },
  {
   "cell_type": "code",
   "execution_count": 4,
   "id": "2b130be9",
   "metadata": {},
   "outputs": [
    {
     "name": "stdout",
     "output_type": "stream",
     "text": [
      "p?y?t?h?o?n?"
     ]
    }
   ],
   "source": [
    "for i in \"python\":\n",
    "      print(i, end='?')"
   ]
  },
  {
   "cell_type": "code",
   "execution_count": null,
   "id": "38a8e2f5",
   "metadata": {},
   "outputs": [],
   "source": [
    "for i in (1,2,3,4):\n",
    "       print(i)"
   ]
  },
  {
   "cell_type": "markdown",
   "id": "88633ee1",
   "metadata": {},
   "source": [
    "# Write the output of the following codes"
   ]
  },
  {
   "cell_type": "code",
   "execution_count": 5,
   "id": "20406205",
   "metadata": {},
   "outputs": [
    {
     "name": "stdout",
     "output_type": "stream",
     "text": [
      "25\n",
      "64\n",
      "121\n",
      "196\n"
     ]
    }
   ],
   "source": [
    "x=5\n",
    "while(x<15):\n",
    "    print(x**2)\n",
    "    x+=3"
   ]
  },
  {
   "cell_type": "code",
   "execution_count": 6,
   "id": "dc7f52c2",
   "metadata": {},
   "outputs": [
    {
     "name": "stdout",
     "output_type": "stream",
     "text": [
      "12\n",
      "13\n"
     ]
    }
   ],
   "source": [
    "a=7\n",
    "b=5\n",
    "while(a<9):\n",
    "    print(a+b)\n",
    "    a+=1"
   ]
  },
  {
   "cell_type": "code",
   "execution_count": 1,
   "id": "5f8be023",
   "metadata": {},
   "outputs": [
    {
     "name": "stdout",
     "output_type": "stream",
     "text": [
      "H\n",
      "H\n",
      "H\n",
      "H\n"
     ]
    }
   ],
   "source": [
    "b=5\n",
    "while(b<9):\n",
    "    print(\"H\")\n",
    "    b+=1 # b = b +1"
   ]
  },
  {
   "cell_type": "code",
   "execution_count": 2,
   "id": "1417ff11",
   "metadata": {},
   "outputs": [
    {
     "name": "stdout",
     "output_type": "stream",
     "text": [
      "Hello\n",
      "Hello\n",
      "Hello\n"
     ]
    }
   ],
   "source": [
    "b=15\n",
    "while(b>9):\n",
    "    print(\"Hello\")\n",
    "    b=b-2"
   ]
  },
  {
   "cell_type": "code",
   "execution_count": 14,
   "id": "c5e5ae08",
   "metadata": {},
   "outputs": [
    {
     "name": "stdout",
     "output_type": "stream",
     "text": [
      "Hello\n"
     ]
    }
   ],
   "source": [
    "x=15\n",
    "while(x==15):\n",
    "    print(\"Hello\")\n",
    "    x=x-3"
   ]
  },
  {
   "cell_type": "code",
   "execution_count": 5,
   "id": "a47d0d0a",
   "metadata": {},
   "outputs": [
    {
     "name": "stdout",
     "output_type": "stream",
     "text": [
      "a\n",
      "a\n",
      "a\n"
     ]
    }
   ],
   "source": [
    "x = \"1\",\"2\",\"3\"\n",
    "for i in x:\n",
    "    print(\"a\")"
   ]
  },
  {
   "cell_type": "code",
   "execution_count": 1,
   "id": "d30a59a6",
   "metadata": {},
   "outputs": [],
   "source": [
    "i=12\n",
    "while True:\n",
    "    if i%3==0:\n",
    "        break\n",
    "    print(\"A\")"
   ]
  },
  {
   "cell_type": "code",
   "execution_count": 2,
   "id": "4744ddc5",
   "metadata": {},
   "outputs": [
    {
     "name": "stdout",
     "output_type": "stream",
     "text": [
      "a a a a a "
     ]
    }
   ],
   "source": [
    "a=6\n",
    "while(a<=10):\n",
    "    print(\"a\",end =\" \")\n",
    "    a+=1 # a = a +1"
   ]
  },
  {
   "cell_type": "code",
   "execution_count": 2,
   "id": "06216c84",
   "metadata": {},
   "outputs": [
    {
     "name": "stdout",
     "output_type": "stream",
     "text": [
      "0\n",
      "1\n",
      "2\n",
      "7\n"
     ]
    }
   ],
   "source": [
    "i=0\n",
    "while i<3:\n",
    "    print(i)\n",
    "    i=i+1\n",
    "else:\n",
    "    print(7)"
   ]
  },
  {
   "cell_type": "code",
   "execution_count": 3,
   "id": "e73a9e92",
   "metadata": {},
   "outputs": [
    {
     "name": "stdout",
     "output_type": "stream",
     "text": [
      "0\n",
      "0\n",
      "1\n",
      "0\n",
      "2\n",
      "0\n"
     ]
    }
   ],
   "source": [
    "i=0\n",
    "while i<3:\n",
    "    print(i)\n",
    "    i=i+1\n",
    "    print(0)"
   ]
  },
  {
   "cell_type": "code",
   "execution_count": 4,
   "id": "1c5b7d42",
   "metadata": {},
   "outputs": [],
   "source": [
    "i=100\n",
    "while i<57:\n",
    "    print(i)\n",
    "    i+=5"
   ]
  },
  {
   "cell_type": "code",
   "execution_count": 16,
   "id": "6443f625",
   "metadata": {},
   "outputs": [
    {
     "name": "stdout",
     "output_type": "stream",
     "text": [
      "1\n",
      "2\n",
      "2\n"
     ]
    }
   ],
   "source": [
    "i=2\n",
    "for x in range(i):\n",
    "    x+=1\n",
    "    print(x)\n",
    "print(x)"
   ]
  },
  {
   "cell_type": "markdown",
   "id": "0a933ef1",
   "metadata": {},
   "source": [
    "Write program to print the following pattern.\n",
    "\n",
    "a)\n",
    "\n",
    "1\n",
    "\n",
    "1 2\n",
    "\n",
    "1 2 3\n",
    "\n",
    "1 2 3 4\n",
    "\n",
    "b)\n",
    "\n",
    "# * * * *\n",
    "\n",
    "# * * *\n",
    "\n",
    "# * *\n",
    "\n",
    "# *\n",
    "\n"
   ]
  },
  {
   "cell_type": "code",
   "execution_count": null,
   "id": "7a8902b3",
   "metadata": {},
   "outputs": [],
   "source": [
    "for i in range(1,5):\n",
    "\n",
    "    for j in range(1,i+1):\n",
    "\n",
    "        print(j,end=\" \")\n",
    "\n",
    "    print()"
   ]
  },
  {
   "cell_type": "code",
   "execution_count": null,
   "id": "08a79bec",
   "metadata": {},
   "outputs": [],
   "source": [
    "for i in range(4,0,-1):\n",
    "\n",
    "    for j in range(i):\n",
    "\n",
    "        print(\"*\",end=\" \")\n"
   ]
  },
  {
   "cell_type": "code",
   "execution_count": 19,
   "id": "8305fae6",
   "metadata": {},
   "outputs": [
    {
     "name": "stdout",
     "output_type": "stream",
     "text": [
      "Enter number10\n",
      "Enter number20\n",
      "Enter number30\n",
      "Enter number40\n",
      "Enter number50\n",
      "Enter number60\n",
      "Enter number70\n",
      "Enter number80\n",
      "Enter number90\n",
      "Enter number100\n",
      "Average of 10 numbers is  55.0\n"
     ]
    }
   ],
   "source": [
    "# Accept 10 numbers from the user and display their average.\n",
    "s=0\n",
    "\n",
    "for i in range(10):\n",
    "\n",
    "    n=int(input(\"Enter number\"))\n",
    "    \n",
    "    s=s+n\n",
    "    \n",
    "print(\"Average of 10 numbers is \",s/10)"
   ]
  },
  {
   "cell_type": "code",
   "execution_count": 20,
   "id": "fdb0dd9b",
   "metadata": {},
   "outputs": [
    {
     "name": "stdout",
     "output_type": "stream",
     "text": [
      "121\n",
      "143\n",
      "165\n",
      "187\n",
      "209\n",
      "231\n",
      "253\n",
      "275\n",
      "297\n",
      "319\n",
      "341\n",
      "363\n",
      "385\n",
      "407\n",
      "429\n",
      "451\n",
      "473\n",
      "495\n"
     ]
    }
   ],
   "source": [
    "# Write a program to display all the numbers which are divisible by 11 but not by 2 between 100 and 500.\n",
    "\n",
    "for i in range(100,500):\n",
    "    \n",
    "    if i%11==0 and i%2!=0:\n",
    "        \n",
    "        print(i)"
   ]
  },
  {
   "cell_type": "code",
   "execution_count": 2,
   "id": "0cf94806",
   "metadata": {},
   "outputs": [],
   "source": [
    "def solve(a):\n",
    "    a =[2,3,4]\n",
    "    a = [3,4,5]\n",
    "    print(a)\n",
    "    solve(a)\n",
    "    print(a)"
   ]
  },
  {
   "cell_type": "code",
   "execution_count": 1,
   "id": "945e4f05",
   "metadata": {},
   "outputs": [
    {
     "name": "stdout",
     "output_type": "stream",
     "text": [
      "-6\n",
      "-3\n",
      "0\n",
      "3\n",
      "6\n",
      "9\n",
      "12\n",
      "15\n",
      "18\n",
      "21\n"
     ]
    }
   ],
   "source": [
    "c = -9 \n",
    "while c < 20:\n",
    "    c += 3\n",
    "    print(c)"
   ]
  },
  {
   "cell_type": "code",
   "execution_count": 3,
   "id": "5af1ec69",
   "metadata": {},
   "outputs": [
    {
     "ename": "TypeError",
     "evalue": "unsupported operand type(s) for +=: 'builtin_function_or_method' and 'int'",
     "output_type": "error",
     "traceback": [
      "\u001b[1;31m---------------------------------------------------------------------------\u001b[0m",
      "\u001b[1;31mTypeError\u001b[0m                                 Traceback (most recent call last)",
      "\u001b[1;32m<ipython-input-3-b9ea08377c4a>\u001b[0m in \u001b[0;36m<module>\u001b[1;34m\u001b[0m\n\u001b[0;32m      2\u001b[0m \u001b[0msum\u001b[0m \u001b[1;33m==\u001b[0m\u001b[1;36m0\u001b[0m\u001b[1;33m\u001b[0m\u001b[1;33m\u001b[0m\u001b[0m\n\u001b[0;32m      3\u001b[0m \u001b[1;32mfor\u001b[0m \u001b[0mele\u001b[0m \u001b[1;32min\u001b[0m \u001b[0ma\u001b[0m\u001b[1;33m:\u001b[0m\u001b[1;33m\u001b[0m\u001b[1;33m\u001b[0m\u001b[0m\n\u001b[1;32m----> 4\u001b[1;33m     \u001b[0msum\u001b[0m \u001b[1;33m+=\u001b[0m \u001b[0mele\u001b[0m\u001b[1;33m\u001b[0m\u001b[1;33m\u001b[0m\u001b[0m\n\u001b[0m\u001b[0;32m      5\u001b[0m     \u001b[0mprint\u001b[0m\u001b[1;33m(\u001b[0m\u001b[0msum\u001b[0m\u001b[1;33m)\u001b[0m\u001b[1;33m\u001b[0m\u001b[1;33m\u001b[0m\u001b[0m\n",
      "\u001b[1;31mTypeError\u001b[0m: unsupported operand type(s) for +=: 'builtin_function_or_method' and 'int'"
     ]
    }
   ],
   "source": [
    "a = [1,2,3,4,5]\n",
    "sum ==0\n",
    "for ele in a:\n",
    "    sum += ele\n",
    "    print(sum)"
   ]
  },
  {
   "cell_type": "markdown",
   "id": "d553849c",
   "metadata": {},
   "source": [
    "# 5 5 5 5 5\n",
    "\n",
    "# 4 4 4 4\n",
    "\n",
    "# 3 3 3\n",
    "\n",
    "# 2 2\n",
    "\n",
    "# 1"
   ]
  },
  {
   "cell_type": "code",
   "execution_count": 4,
   "id": "932da92c",
   "metadata": {},
   "outputs": [
    {
     "name": "stdout",
     "output_type": "stream",
     "text": [
      "<class 'float'>\n",
      "<class 'int'>\n"
     ]
    }
   ],
   "source": [
    "print(type(5/2))\n",
    "print(type(5//2))"
   ]
  },
  {
   "cell_type": "code",
   "execution_count": 6,
   "id": "a47a2075",
   "metadata": {},
   "outputs": [
    {
     "name": "stdout",
     "output_type": "stream",
     "text": [
      "5 5 5 5 5 \n",
      "4 4 4 4 \n",
      "3 3 3 \n",
      "2 2 \n",
      "1 \n"
     ]
    }
   ],
   "source": [
    "\n",
    "for i in range(5,0,-1):\n",
    "    \n",
    "    for j in range(1,i+1):\n",
    "        \n",
    "        print(i,end=\" \")\n",
    "    print()"
   ]
  },
  {
   "cell_type": "code",
   "execution_count": 3,
   "id": "680d08b2",
   "metadata": {},
   "outputs": [
    {
     "name": "stdout",
     "output_type": "stream",
     "text": [
      "5\n",
      "4\n",
      "3\n",
      "2\n",
      "1\n"
     ]
    }
   ],
   "source": [
    "a=5\n",
    "while a>0:\n",
    "    print(a)\n",
    "    a=a-1"
   ]
  },
  {
   "cell_type": "markdown",
   "id": "8a5251e9",
   "metadata": {},
   "source": [
    "# What is the difference between break and continue statements?\n",
    "\n",
    "* break statement terminates the loop as the condition matches. \n"
   ]
  },
  {
   "cell_type": "code",
   "execution_count": 6,
   "id": "58e36d73",
   "metadata": {},
   "outputs": [
    {
     "name": "stdout",
     "output_type": "stream",
     "text": [
      "4\n"
     ]
    }
   ],
   "source": [
    "a=5\n",
    "while a>0:\n",
    "    a=a-1\n",
    "    if a==3: #as this condition matches it terminates the loop\n",
    "        break\n",
    "    else:  \n",
    "        print(a)\n"
   ]
  },
  {
   "cell_type": "markdown",
   "id": "a0a9cf17",
   "metadata": {},
   "source": [
    "# Continue statement is used to skip a particular condition. for example\n"
   ]
  },
  {
   "cell_type": "code",
   "execution_count": 31,
   "id": "07985504",
   "metadata": {},
   "outputs": [
    {
     "name": "stdout",
     "output_type": "stream",
     "text": [
      "4\n",
      "2\n",
      "1\n",
      "0\n"
     ]
    }
   ],
   "source": [
    "a=5\n",
    "while a>0:\n",
    "    a=a-1\n",
    "    if a==3: #as this condition matches it goes to the next condition of the loop\n",
    "        continue\n",
    "    else:\n",
    "        print(a)"
   ]
  },
  {
   "cell_type": "code",
   "execution_count": 8,
   "id": "2ad7b661",
   "metadata": {},
   "outputs": [
    {
     "name": "stdout",
     "output_type": "stream",
     "text": [
      "10\n",
      "14\n",
      "18\n"
     ]
    }
   ],
   "source": [
    "#  Write the output of the following:\n",
    "for k in range(10,20,4):\n",
    "    print(k)"
   ]
  },
  {
   "cell_type": "code",
   "execution_count": null,
   "id": "0cee1165",
   "metadata": {},
   "outputs": [],
   "source": [
    "# Find errors in the following code:\n",
    "x =int(input(\"Enter the no\"))\n",
    "y = x\n",
    "for k in range(0,20):\n",
    "    \n",
    "    if y==k:\n",
    "        print(y+k)\n",
    "    else:\n",
    "        print(y-k)"
   ]
  },
  {
   "cell_type": "code",
   "execution_count": 1,
   "id": "cd66b473",
   "metadata": {},
   "outputs": [
    {
     "name": "stdout",
     "output_type": "stream",
     "text": [
      "Enter value11\n",
      "11\n",
      "10\n",
      "9\n",
      "8\n",
      "7\n",
      "6\n",
      "5\n",
      "4\n",
      "3\n",
      "2\n",
      "1\n",
      "22\n",
      "-1\n",
      "-2\n",
      "-3\n",
      "-4\n",
      "-5\n",
      "-6\n",
      "-7\n",
      "-8\n"
     ]
    }
   ],
   "source": [
    "x = int(input(\"Enter value\"))\n",
    "y = x\n",
    "for k in range(0,20):\n",
    "    if y==k:\n",
    "        print(y+k)\n",
    "    else:\n",
    "        print(y-k) "
   ]
  },
  {
   "cell_type": "code",
   "execution_count": 16,
   "id": "c14fb630",
   "metadata": {},
   "outputs": [
    {
     "name": "stdout",
     "output_type": "stream",
     "text": [
      "Bye\n"
     ]
    }
   ],
   "source": [
    "x,y=2,4\n",
    "if(x+y==10):\n",
    "    print(\"Thank you\")\n",
    "else:\n",
    "    print(\"Bye\")"
   ]
  },
  {
   "cell_type": "code",
   "execution_count": 18,
   "id": "4d2fe9db",
   "metadata": {},
   "outputs": [
    {
     "name": "stdout",
     "output_type": "stream",
     "text": [
      "6\n",
      "2\n"
     ]
    }
   ],
   "source": [
    "x=10\n",
    "y=1\n",
    "while x>y:\n",
    "    x=x-4\n",
    "    y=y+3\n",
    "    print(x)"
   ]
  },
  {
   "cell_type": "code",
   "execution_count": 23,
   "id": "bf96a1e0",
   "metadata": {},
   "outputs": [
    {
     "name": "stdout",
     "output_type": "stream",
     "text": [
      "Practice Questions of loops in python\n",
      "Practice Questions of loops in python\n",
      "Practice Questions of loops in python\n"
     ]
    }
   ],
   "source": [
    "for x in range(3):\n",
    "    for y in range(1):\n",
    "        print(\"Practice Questions of loops in python\")\n",
    "        "
   ]
  },
  {
   "cell_type": "code",
   "execution_count": null,
   "id": "44cd3f49",
   "metadata": {},
   "outputs": [],
   "source": []
  }
 ],
 "metadata": {
  "kernelspec": {
   "display_name": "Python 3",
   "language": "python",
   "name": "python3"
  },
  "language_info": {
   "codemirror_mode": {
    "name": "ipython",
    "version": 3
   },
   "file_extension": ".py",
   "mimetype": "text/x-python",
   "name": "python",
   "nbconvert_exporter": "python",
   "pygments_lexer": "ipython3",
   "version": "3.8.8"
  }
 },
 "nbformat": 4,
 "nbformat_minor": 5
}
