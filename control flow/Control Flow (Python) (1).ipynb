{
 "cells": [
  {
   "cell_type": "markdown",
   "id": "76bc614b",
   "metadata": {},
   "source": [
    "#  The if…elif…else statement is used in Python for decision making."
   ]
  },
  {
   "cell_type": "code",
   "execution_count": 2,
   "id": "ada2b610",
   "metadata": {},
   "outputs": [
    {
     "ename": "SyntaxError",
     "evalue": "invalid syntax (<ipython-input-2-e2756745370a>, line 2)",
     "output_type": "error",
     "traceback": [
      "\u001b[1;36m  File \u001b[1;32m\"<ipython-input-2-e2756745370a>\"\u001b[1;36m, line \u001b[1;32m2\u001b[0m\n\u001b[1;33m    if test expression:\u001b[0m\n\u001b[1;37m            ^\u001b[0m\n\u001b[1;31mSyntaxError\u001b[0m\u001b[1;31m:\u001b[0m invalid syntax\n"
     ]
    }
   ],
   "source": [
    "# if syntax\n",
    "if test expression:\n",
    "    statement(s) \n",
    "# Here, the program evaluates the test expression and will execute statement(s) only if the test expression is True.\n",
    "\n",
    "If the test expression is False, the statement(s) is not executed.\n",
    "    "
   ]
  },
  {
   "cell_type": "code",
   "execution_count": 1,
   "id": "1478ec0a",
   "metadata": {},
   "outputs": [
    {
     "name": "stdout",
     "output_type": "stream",
     "text": [
      "9 is a positive number.\n"
     ]
    }
   ],
   "source": [
    "# If the number is positive, we print an appropriate message\n",
    "\n",
    "a = -22\n",
    "if a > 0:\n",
    "    # test expression\n",
    "    print(3, \"is a positive number.\") # statement\n",
    "\n",
    "\n",
    " \n",
    "\n",
    "if a < 0:  # test expression\n",
    "    print(9, \"is a positive number.\")  # statement\n"
   ]
  },
  {
   "cell_type": "code",
   "execution_count": 7,
   "id": "a1402cfb",
   "metadata": {},
   "outputs": [
    {
     "name": "stdout",
     "output_type": "stream",
     "text": [
      "-3 is negative number.\n"
     ]
    }
   ],
   "source": [
    "a = -3\n",
    "if a<0:\n",
    "    print(a,\"is negative number.\")"
   ]
  },
  {
   "cell_type": "markdown",
   "id": "f52f77f7",
   "metadata": {},
   "source": [
    "#  Python if...else Statement"
   ]
  },
  {
   "cell_type": "code",
   "execution_count": 6,
   "id": "f3f4f6ab",
   "metadata": {},
   "outputs": [
    {
     "ename": "SyntaxError",
     "evalue": "invalid syntax (<ipython-input-6-80a5f26e4628>, line 2)",
     "output_type": "error",
     "traceback": [
      "\u001b[1;36m  File \u001b[1;32m\"<ipython-input-6-80a5f26e4628>\"\u001b[1;36m, line \u001b[1;32m2\u001b[0m\n\u001b[1;33m    if test expression:\u001b[0m\n\u001b[1;37m            ^\u001b[0m\n\u001b[1;31mSyntaxError\u001b[0m\u001b[1;31m:\u001b[0m invalid syntax\n"
     ]
    }
   ],
   "source": [
    "# Syntax of if...else\n",
    "if \n",
    "    Body of test expression:if\n",
    "else:\n",
    "    Body of else"
   ]
  },
  {
   "cell_type": "markdown",
   "id": "35580ca5",
   "metadata": {},
   "source": [
    "* The if..else statement evaluates test expression and will execute the body of if only when the test condition is True.\n",
    "\n",
    "* If the condition is False, the body of else is executed. Indentation is used to separate the blocks."
   ]
  },
  {
   "cell_type": "code",
   "execution_count": 7,
   "id": "53087e8d",
   "metadata": {},
   "outputs": [
    {
     "name": "stdout",
     "output_type": "stream",
     "text": [
      "Negative number\n"
     ]
    }
   ],
   "source": [
    "# Program checks if the number is positive or negative\n",
    "# And displays an appropriate message\n",
    "\n",
    "num = [11,22,33]\n",
    "\n",
    "# Try these two variations as well. \n",
    "# num = -5\n",
    "# num = 0\n",
    "\n",
    "if 11  not in num:print(\"Positive or Zero\")\n",
    "else: print(\"Negative number\")\n",
    "   "
   ]
  },
  {
   "cell_type": "code",
   "execution_count": 8,
   "id": "6f3c730a",
   "metadata": {},
   "outputs": [
    {
     "name": "stdout",
     "output_type": "stream",
     "text": [
      "Negtive no\n"
     ]
    }
   ],
   "source": [
    "a =\" \"\n",
    "if a == \"Pagal\":\n",
    "    print(\"positive or zero\")\n",
    "else:\n",
    "    print(\"Negtive no\")"
   ]
  },
  {
   "cell_type": "markdown",
   "id": "961e8509",
   "metadata": {},
   "source": [
    "#  Python if...elif...else Statement\n",
    "\n",
    "\n"
   ]
  },
  {
   "cell_type": "code",
   "execution_count": 8,
   "id": "c1077b0b",
   "metadata": {},
   "outputs": [
    {
     "ename": "SyntaxError",
     "evalue": "invalid syntax (<ipython-input-8-d64a63742138>, line 2)",
     "output_type": "error",
     "traceback": [
      "\u001b[1;36m  File \u001b[1;32m\"<ipython-input-8-d64a63742138>\"\u001b[1;36m, line \u001b[1;32m2\u001b[0m\n\u001b[1;33m    if test expression:\u001b[0m\n\u001b[1;37m            ^\u001b[0m\n\u001b[1;31mSyntaxError\u001b[0m\u001b[1;31m:\u001b[0m invalid syntax\n"
     ]
    }
   ],
   "source": [
    "# Syntax of if...elif...else\n",
    "if test expression:\n",
    "    Body of if\n",
    "elif test expression:\n",
    "    Body of elif\n",
    "else: \n",
    "    Body of else"
   ]
  },
  {
   "cell_type": "markdown",
   "id": "e6ad5ae5",
   "metadata": {},
   "source": [
    "* The elif is short for else if. It allows us to check for multiple expressions.\n",
    "\n",
    "* If the condition for if is False, it checks the condition of the next elif block and so on"
   ]
  },
  {
   "cell_type": "code",
   "execution_count": 2,
   "id": "bd499093",
   "metadata": {},
   "outputs": [
    {
     "name": "stdout",
     "output_type": "stream",
     "text": [
      "Greater than 10\n"
     ]
    },
    {
     "data": {
      "text/plain": [
       "int"
      ]
     },
     "execution_count": 2,
     "metadata": {},
     "output_type": "execute_result"
    }
   ],
   "source": [
    "'''In this program, \n",
    "we check if the number is positive or\n",
    "negative or zero and \n",
    "display an appropriate message'''\n",
    "\n",
    "num = 55\n",
    "\n",
    "# Try these two variations as well:\n",
    "# num =  0\n",
    "# num = -4.5\n",
    "\n",
    "if num < 0:# Test Expression\n",
    "    print(\"Positive number\") # Statement\n",
    "elif num == 0:       # Test Expression\n",
    "    print(\"Zero\")  # Statement\n",
    "elif num >= 10:\n",
    "    print(\"Greater than 10\")\n",
    "else:\n",
    "    print(\"Negative number\") # Statement\n",
    "type(num)"
   ]
  },
  {
   "cell_type": "code",
   "execution_count": 10,
   "id": "02e2ba01",
   "metadata": {},
   "outputs": [
    {
     "name": "stdout",
     "output_type": "stream",
     "text": [
      "negative no\n"
     ]
    },
    {
     "data": {
      "text/plain": [
       "int"
      ]
     },
     "execution_count": 10,
     "metadata": {},
     "output_type": "execute_result"
    }
   ],
   "source": [
    "b1 =-8\n",
    "if b1>0:\n",
    "    print(\"Positive no.\")\n",
    "    \n",
    "elif b1==0:\n",
    "    print(\"zero\")\n",
    "else:\n",
    "    print(\"negative no\")\n",
    "type(b1)\n",
    "        "
   ]
  },
  {
   "cell_type": "code",
   "execution_count": 10,
   "id": "3dce4e06",
   "metadata": {},
   "outputs": [],
   "source": [
    "# When variable num is positive, Positive number is printed.\n",
    "\n",
    "# If num is equal to 0, Zero is printed.\n",
    "\n",
    "# If num is negative, Negative number is printed."
   ]
  },
  {
   "cell_type": "markdown",
   "id": "b4aa0571",
   "metadata": {},
   "source": [
    "* The control flow statements are divided into three categories..\n",
    "1. Conditional statements(if,if-else,if-else-else)\n",
    "2. Transfer statements(for,while)\n",
    "3. Iterative statements(break,continue,pass)"
   ]
  },
  {
   "cell_type": "markdown",
   "id": "8a30883a",
   "metadata": {},
   "source": [
    "# Condition Statement\n",
    "\n",
    "* Condition statements act depending on whether a given condition is true or false.."
   ]
  },
  {
   "cell_type": "code",
   "execution_count": 3,
   "id": "357b3789",
   "metadata": {},
   "outputs": [
    {
     "name": "stdout",
     "output_type": "stream",
     "text": [
      "64\n"
     ]
    }
   ],
   "source": [
    "number = 8\n",
    "if number > 5: # test expression\n",
    "    # Calcuate square\n",
    "    print(number * number) # statement"
   ]
  },
  {
   "cell_type": "code",
   "execution_count": 3,
   "id": "bbeb852a",
   "metadata": {},
   "outputs": [
    {
     "name": "stdout",
     "output_type": "stream",
     "text": [
      "16\n"
     ]
    }
   ],
   "source": [
    "number = 4\n",
    "if number < 5:\n",
    "    # Calcuate square\n",
    "    print(number * number)"
   ]
  },
  {
   "cell_type": "code",
   "execution_count": 4,
   "id": "43f6ea46",
   "metadata": {},
   "outputs": [
    {
     "name": "stdout",
     "output_type": "stream",
     "text": [
      "b is not greater than a\n"
     ]
    }
   ],
   "source": [
    "a = 100\n",
    "b = 10\n",
    "if b>a:\n",
    "    print(\"b is greater than a\")\n",
    "else:\n",
    "    print(\"b is not greater than a\")"
   ]
  },
  {
   "cell_type": "code",
   "execution_count": 55,
   "id": "aa045da4",
   "metadata": {},
   "outputs": [
    {
     "name": "stdout",
     "output_type": "stream",
     "text": [
      " a and b are equal\n"
     ]
    }
   ],
   "source": [
    "a = 100\n",
    "b = 100\n",
    "if b>a:\n",
    "    print(\"b is greater than a\")\n",
    "elif a == b:\n",
    "    print(\" a and b are equal\")\n",
    "else:\n",
    "    print(\"a is greater than b\")"
   ]
  },
  {
   "cell_type": "code",
   "execution_count": 6,
   "id": "32920737",
   "metadata": {},
   "outputs": [
    {
     "name": "stdout",
     "output_type": "stream",
     "text": [
      "Enter your bank account details00000000\n"
     ]
    },
    {
     "data": {
      "text/plain": [
       "'00000000'"
      ]
     },
     "execution_count": 6,
     "metadata": {},
     "output_type": "execute_result"
    }
   ],
   "source": [
    "a = input(\"Enter your bank account details\")\n",
    "a"
   ]
  },
  {
   "cell_type": "code",
   "execution_count": 3,
   "id": "26e087a4",
   "metadata": {},
   "outputs": [
    {
     "name": "stdout",
     "output_type": "stream",
     "text": [
      "Enter the first number22\n",
      "Enter the second number22\n",
      "22 is greater than  22\n",
      "22 and 22 are equal\n"
     ]
    }
   ],
   "source": [
    "# Nested- if \n",
    "# a = 12\n",
    "# Check the type of a\n",
    "# str(a)\n",
    "# Now check the type of a\n",
    "a = int(input(\"Enter the first number\"))\n",
    "b = int(input(\"Enter the second number\"))\n",
    "if a >= b:\n",
    "    print(a, \"is greater than \", b)\n",
    "    if a == b:\n",
    "        print(a, \"and\", b, \"are equal\")\n",
    "else:\n",
    "    print(a,\"is smaller than\", b)"
   ]
  },
  {
   "cell_type": "code",
   "execution_count": 22,
   "id": "acae4c9a",
   "metadata": {},
   "outputs": [
    {
     "name": "stdout",
     "output_type": "stream",
     "text": [
      "Above Ten\n",
      " Above 10 but not above 20!\n"
     ]
    }
   ],
   "source": [
    "x = 55\n",
    "if x > 10:\n",
    "    print(\"Above Ten\")\n",
    "    if x > 10 and x <20 :\n",
    "         print(\"and also above 20!\")\n",
    "    else:\n",
    "         print(\" Above 10 but not above 20!\")"
   ]
  },
  {
   "cell_type": "code",
   "execution_count": 27,
   "id": "43fc1c9e",
   "metadata": {},
   "outputs": [
    {
     "name": "stdout",
     "output_type": "stream",
     "text": [
      "Enter the first number-22\n",
      "negative\n"
     ]
    }
   ],
   "source": [
    "# Instead of writing a block after the colon,we can write a statement immediately after the \n",
    "number = int(input(\"Enter the first number\"))\n",
    "if number > 0: print(\"positive\")\n",
    "    \n",
    "else:  print(\"negative\")\n",
    "   "
   ]
  },
  {
   "cell_type": "markdown",
   "id": "d3f66233",
   "metadata": {},
   "source": [
    "# Transfer statement\n",
    "\n",
    "* For Loop: Using for loop, we can iterate any sequence or iterable variable. The sequence can be string, list,dictionary, set or tuple."
   ]
  },
  {
   "cell_type": "code",
   "execution_count": 29,
   "id": "5bb93489",
   "metadata": {},
   "outputs": [
    {
     "name": "stdout",
     "output_type": "stream",
     "text": [
      "1\n",
      "2\n",
      "3\n",
      "4\n",
      "5\n",
      "6\n",
      "7\n",
      "8\n",
      "9\n",
      "10\n"
     ]
    }
   ],
   "source": [
    "for i in range(1,11):\n",
    "    print(i)"
   ]
  },
  {
   "cell_type": "code",
   "execution_count": 10,
   "id": "7b2b0f81",
   "metadata": {},
   "outputs": [
    {
     "name": "stdout",
     "output_type": "stream",
     "text": [
      "1 2 3 4 5 6 7 8 9 10 "
     ]
    }
   ],
   "source": [
    "for i in range(1,11):\n",
    "    print(i, end =\" \")    "
   ]
  },
  {
   "cell_type": "code",
   "execution_count": 6,
   "id": "e7926d3c",
   "metadata": {},
   "outputs": [
    {
     "name": "stdout",
     "output_type": "stream",
     "text": [
      "3\n",
      "6\n",
      "9\n",
      "12\n",
      "15\n",
      "18\n",
      "21\n",
      "24\n",
      "27\n",
      "30\n"
     ]
    }
   ],
   "source": [
    "for x in range(3,31,3):\n",
    "    print(x)"
   ]
  },
  {
   "cell_type": "code",
   "execution_count": 12,
   "id": "84d85dbb",
   "metadata": {},
   "outputs": [
    {
     "name": "stdout",
     "output_type": "stream",
     "text": [
      "apple\n",
      "banana\n",
      "cherry\n"
     ]
    }
   ],
   "source": [
    "fruits = [\"apple\",\"banana\",\"cherry\"]\n",
    "for i in fruits:\n",
    "    print(i)"
   ]
  },
  {
   "cell_type": "markdown",
   "id": "87d52001",
   "metadata": {},
   "source": [
    "# Nested for loop"
   ]
  },
  {
   "cell_type": "code",
   "execution_count": 9,
   "id": "88ebf40d",
   "metadata": {},
   "outputs": [
    {
     "name": "stdout",
     "output_type": "stream",
     "text": [
      "tasty apple\n",
      "tasty banana\n",
      "tasty cherry\n",
      "Bekaar apple\n",
      "Bekaar banana\n",
      "Bekaar cherry\n",
      "Bakwas apple\n",
      "Bakwas banana\n",
      "Bakwas cherry\n"
     ]
    }
   ],
   "source": [
    " adj = [\"tasty\",\"Bekaar\",\"Bakwas\"]\n",
    "fruits = [\"apple\",\"banana\",\"cherry\"]\n",
    "for x in adj:\n",
    "    for y in fruits:\n",
    "        print(x,y)"
   ]
  },
  {
   "cell_type": "markdown",
   "id": "3079aeba",
   "metadata": {},
   "source": [
    "# While Loop\n",
    "\n",
    "*  The while loop statement repetedly executes a code block while a particular condition is true/as long as condition is true."
   ]
  },
  {
   "cell_type": "code",
   "execution_count": 1,
   "id": "34e63401",
   "metadata": {},
   "outputs": [
    {
     "name": "stdout",
     "output_type": "stream",
     "text": [
      "1\n",
      "2\n",
      "3\n",
      "4\n",
      "5\n"
     ]
    }
   ],
   "source": [
    "i = 1\n",
    "while i <6:\n",
    "    print(i)\n",
    "    i +=  1 # i = i + 1 "
   ]
  },
  {
   "cell_type": "code",
   "execution_count": 3,
   "id": "9d832706",
   "metadata": {},
   "outputs": [],
   "source": [
    "# Example to calculate the sum of  first ten numbers.."
   ]
  },
  {
   "cell_type": "code",
   "execution_count": 2,
   "id": "bf5e1885",
   "metadata": {},
   "outputs": [
    {
     "name": "stdout",
     "output_type": "stream",
     "text": [
      "Sum of first 10 number is: 55\n"
     ]
    }
   ],
   "source": [
    "num = 10\n",
    "sum = 0\n",
    "i = 1\n",
    "while i <= num:\n",
    "    sum = sum + i \n",
    "    i = i + 1\n",
    "    \n",
    "print(\"Sum of first 10 number is:\", sum) "
   ]
  },
  {
   "cell_type": "markdown",
   "id": "c6164e60",
   "metadata": {},
   "source": [
    "# Break Statement\n",
    "\n",
    "* Python break statement brings control out of the loop.\n",
    "* If it matches the condition then it will end the loop instantly."
   ]
  },
  {
   "cell_type": "markdown",
   "id": "6bce3e71",
   "metadata": {},
   "source": [
    "# For loop with break statement"
   ]
  },
  {
   "cell_type": "code",
   "execution_count": 9,
   "id": "0c18f40b",
   "metadata": {},
   "outputs": [
    {
     "name": "stdout",
     "output_type": "stream",
     "text": [
      "1\n",
      "2\n"
     ]
    }
   ],
   "source": [
    "list = [1,2,3,4,5,6]\n",
    "for x in list:\n",
    "    if x >= 3:\n",
    "        break\n",
    "    print(x)"
   ]
  },
  {
   "cell_type": "code",
   "execution_count": 25,
   "id": "14b07065",
   "metadata": {},
   "outputs": [
    {
     "name": "stdout",
     "output_type": "stream",
     "text": [
      "0\n",
      "1\n",
      "2\n",
      "3\n",
      "4\n",
      "5\n"
     ]
    }
   ],
   "source": [
    "for num in range(10):\n",
    "    if num > 5:\n",
    "        break\n",
    "    print(num) \n"
   ]
  },
  {
   "cell_type": "markdown",
   "id": "ee717ca0",
   "metadata": {},
   "source": [
    "# For loop with continue statement\n",
    "\n",
    "* Python continue statement returns the control to the begining of the loop.If its matches the condition, then skip that value and continue the loop"
   ]
  },
  {
   "cell_type": "code",
   "execution_count": 10,
   "id": "b6553e7e",
   "metadata": {},
   "outputs": [
    {
     "name": "stdout",
     "output_type": "stream",
     "text": [
      "Current Letter N\n",
      "Current Letter e\n",
      "Current Letter e\n",
      "Current Letter c\n",
      "Current Letter h\n"
     ]
    }
   ],
   "source": [
    "for letter in \"Nettech\":\n",
    "    if letter == \"t\":\n",
    "        continue\n",
    "    print(\"Current Letter\", letter)"
   ]
  },
  {
   "cell_type": "code",
   "execution_count": 12,
   "id": "74b6c060",
   "metadata": {},
   "outputs": [
    {
     "name": "stdout",
     "output_type": "stream",
     "text": [
      "Current Letter N\n",
      "Current Letter e\n",
      "Current Letter e\n",
      "Current Letter c\n",
      "Current Letter h\n"
     ]
    }
   ],
   "source": [
    "for letter in \"Nettech\":\n",
    "    if letter == \"t\":\n",
    "        continue\n",
    "    print(\"Current Letter\", letter)"
   ]
  },
  {
   "cell_type": "code",
   "execution_count": 20,
   "id": "d82864dc",
   "metadata": {},
   "outputs": [
    {
     "name": "stdout",
     "output_type": "stream",
     "text": [
      "N t t c h "
     ]
    }
   ],
   "source": [
    "for letter in \"Nettech\":\n",
    "    if letter == \"e\":\n",
    "        continue\n",
    "    print( letter, end = \" \")"
   ]
  },
  {
   "cell_type": "code",
   "execution_count": 1,
   "id": "4eb71a43",
   "metadata": {},
   "outputs": [
    {
     "name": "stdout",
     "output_type": "stream",
     "text": [
      "3\n",
      "4\n"
     ]
    }
   ],
   "source": [
    "for num in range(3,8):\n",
    "    if num == 5:\n",
    "        continue # a lso check for break in the same code..\n",
    "    else:\n",
    "        print(num)"
   ]
  },
  {
   "cell_type": "markdown",
   "id": "5aabea82",
   "metadata": {},
   "source": [
    "# For loop with pass statement"
   ]
  },
  {
   "cell_type": "markdown",
   "id": "166637cf",
   "metadata": {},
   "source": [
    "* pass statement:- In python pass is a null statement. The interpreter does not ignore a pass statement,but nothing happend and statement results into no operation."
   ]
  },
  {
   "cell_type": "code",
   "execution_count": 3,
   "id": "bf96dc62",
   "metadata": {},
   "outputs": [
    {
     "name": "stdout",
     "output_type": "stream",
     "text": [
      "['Jan', 'Feb', 'March', 'May', 'June']\n",
      "['Jan', 'Feb', 'March', 'May', 'June']\n",
      "['Jan', 'Feb', 'March', 'May', 'June']\n",
      "['Jan', 'Feb', 'March', 'May', 'June']\n",
      "['Jan', 'Feb', 'March', 'May', 'June']\n"
     ]
    }
   ],
   "source": [
    "months = [\"Jan\",\"Feb\",\"March\",\"May\",\"June\"]\n",
    "for j in months:\n",
    "    \n",
    "    print(months)"
   ]
  },
  {
   "cell_type": "code",
   "execution_count": 6,
   "id": "c5cef11d",
   "metadata": {},
   "outputs": [
    {
     "name": "stdout",
     "output_type": "stream",
     "text": [
      "b is greater than a\n"
     ]
    }
   ],
   "source": [
    "a = 300 \n",
    "b = 0\n",
    "if b> a:\n",
    "    pass\n",
    "print(\"b is greater than a\")"
   ]
  },
  {
   "cell_type": "code",
   "execution_count": 19,
   "id": "6d93a025",
   "metadata": {},
   "outputs": [
    {
     "name": "stdout",
     "output_type": "stream",
     "text": [
      "b is greater than a\n"
     ]
    }
   ],
   "source": [
    "a = 3 \n",
    "b = 200\n",
    "if b> a:"
   ]
  },
  {
   "cell_type": "markdown",
   "id": "f9f4e352",
   "metadata": {},
   "source": [
    "# While loop with break statement"
   ]
  },
  {
   "cell_type": "code",
   "execution_count": 38,
   "id": "2a7eaaea",
   "metadata": {},
   "outputs": [
    {
     "name": "stdout",
     "output_type": "stream",
     "text": [
      "1\n",
      "2\n",
      "3\n"
     ]
    }
   ],
   "source": [
    "i = 1\n",
    "while i < 6:\n",
    "    print(i)\n",
    "    if i == 3:\n",
    "        break\n",
    "    i += 1 "
   ]
  },
  {
   "cell_type": "markdown",
   "id": "81aca8e8",
   "metadata": {},
   "source": [
    "#  While loop with continue statement"
   ]
  },
  {
   "cell_type": "code",
   "execution_count": 15,
   "id": "1964123f",
   "metadata": {},
   "outputs": [
    {
     "name": "stdout",
     "output_type": "stream",
     "text": [
      "2\n",
      "4\n",
      "5\n",
      "6\n"
     ]
    }
   ],
   "source": [
    "i = 1\n",
    "while i < 6:\n",
    "    i += 1\n",
    "    if  i == 3:\n",
    "        continue\n",
    "    print(i)"
   ]
  },
  {
   "cell_type": "markdown",
   "id": "67522cf3",
   "metadata": {},
   "source": [
    "# While loop with pass statement"
   ]
  },
  {
   "cell_type": "code",
   "execution_count": 43,
   "id": "dbe89d6a",
   "metadata": {},
   "outputs": [
    {
     "name": "stdout",
     "output_type": "stream",
     "text": [
      "3\n",
      "2\n",
      "1\n",
      "0\n"
     ]
    }
   ],
   "source": [
    "n = 4\n",
    "while n > 0:\n",
    "    n = n -1\n",
    "    pass\n",
    "    print(n)"
   ]
  },
  {
   "cell_type": "markdown",
   "id": "58f2746d",
   "metadata": {},
   "source": [
    " # For loop with else"
   ]
  },
  {
   "cell_type": "code",
   "execution_count": 17,
   "id": "00731cb7",
   "metadata": {},
   "outputs": [
    {
     "name": "stdout",
     "output_type": "stream",
     "text": [
      "1\n",
      "2\n",
      "3\n",
      "4\n",
      "No break\n"
     ]
    }
   ],
   "source": [
    "for i in range(1,5):\n",
    "    print(i)\n",
    "else:\n",
    "    print(\"No break\")"
   ]
  },
  {
   "cell_type": "markdown",
   "id": "fcd25d83",
   "metadata": {},
   "source": [
    "# While loop with else"
   ]
  },
  {
   "cell_type": "code",
   "execution_count": 19,
   "id": "d835baad",
   "metadata": {},
   "outputs": [
    {
     "name": "stdout",
     "output_type": "stream",
     "text": [
      "1\n",
      "2\n",
      "3\n",
      "4\n",
      "5\n",
      "i is no longer less than 6\n"
     ]
    }
   ],
   "source": [
    "i = 1\n",
    "while i < 6:\n",
    "    print(i)\n",
    "    i += 1\n",
    "else:\n",
    "    print(\"i is no longer less than 6\")"
   ]
  },
  {
   "cell_type": "markdown",
   "id": "9f7c02eb",
   "metadata": {},
   "source": [
    "# Nested for loop"
   ]
  },
  {
   "cell_type": "code",
   "execution_count": 23,
   "id": "c44f5bf3",
   "metadata": {},
   "outputs": [
    {
     "name": "stdout",
     "output_type": "stream",
     "text": [
      "1 2 3 4 5 6 7 8 9 10 \n",
      "2 4 6 8 10 12 14 16 18 20 \n",
      "3 6 9 12 15 18 21 24 27 30 \n",
      "4 8 12 16 20 24 28 32 36 40 \n",
      "5 10 15 20 25 30 35 40 45 50 \n",
      "6 12 18 24 30 36 42 48 54 60 \n",
      "7 14 21 28 35 42 49 56 63 70 \n",
      "8 16 24 32 40 48 56 64 72 80 \n",
      "9 18 27 36 45 54 63 72 81 90 \n",
      "10 20 30 40 50 60 70 80 90 100 \n"
     ]
    }
   ],
   "source": [
    "# Example : Write a nested for loop program to print multiplication table in python\n",
    "\n",
    "# outer loop\n",
    "for i in range(1,11):\n",
    "    # nested loop\n",
    "    # to iterate from 1 to 10\n",
    "    for j in range(1,11):\n",
    "        # print multiplication\n",
    "        print(i*j, end =\" \")\n",
    "    print()"
   ]
  },
  {
   "cell_type": "code",
   "execution_count": 36,
   "id": "178bc09a",
   "metadata": {},
   "outputs": [
    {
     "name": "stdout",
     "output_type": "stream",
     "text": [
      "*  \n",
      "* *  \n",
      "* * *  \n",
      "* * * *  \n",
      "* * * * *  \n"
     ]
    }
   ],
   "source": [
    "# Another most common use of nested loop is to print various star and number pattern..\n",
    "\n",
    "rows = 5\n",
    "# outer loop\n",
    "for i in range(1, rows + 1):\n",
    "    # inner loop\n",
    "    for j in range(1, i+1):\n",
    "        print(\"*\", end = \" \")\n",
    "    print(\" \")"
   ]
  },
  {
   "cell_type": "markdown",
   "id": "b9fc2bdb",
   "metadata": {},
   "source": [
    "# Nested while loop"
   ]
  },
  {
   "cell_type": "code",
   "execution_count": 35,
   "id": "58778f5b",
   "metadata": {},
   "outputs": [
    {
     "name": "stdout",
     "output_type": "stream",
     "text": [
      "apple apple apple apple \n",
      "banana banana banana banana \n",
      "cherry cherry cherry cherry \n"
     ]
    }
   ],
   "source": [
    "fruits = [\"apple\",\"banana\",\"cherry\"]\n",
    "\n",
    "# outer loop\n",
    "for x in fruits:\n",
    "    # inner loop\n",
    "    count = 0\n",
    "    while count < 4:\n",
    "        print(x, end =\" \")\n",
    "        # increment counter\n",
    "        count = count + 1\n",
    "    print()"
   ]
  },
  {
   "cell_type": "code",
   "execution_count": null,
   "id": "e1a7d48d",
   "metadata": {},
   "outputs": [],
   "source": []
  }
 ],
 "metadata": {
  "kernelspec": {
   "display_name": "Python 3 (ipykernel)",
   "language": "python",
   "name": "python3"
  },
  "language_info": {
   "codemirror_mode": {
    "name": "ipython",
    "version": 3
   },
   "file_extension": ".py",
   "mimetype": "text/x-python",
   "name": "python",
   "nbconvert_exporter": "python",
   "pygments_lexer": "ipython3",
   "version": "3.9.7"
  }
 },
 "nbformat": 4,
 "nbformat_minor": 5
}
