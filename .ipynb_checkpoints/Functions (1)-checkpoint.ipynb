{
 "cells": [
  {
   "cell_type": "markdown",
   "id": "cbb72b49",
   "metadata": {},
   "source": [
    "# Functions\n",
    "\n",
    "* A function is a block of organised code written to carry out a specific task.\n",
    "\n",
    "* Function help break our program into smaller and modular chunks for better readibility.\n",
    "\n",
    "* Information can be passed into a function as arguments.\n",
    "\n",
    "* Parameters are specified after the function name inside the parenthesis.\n",
    "\n",
    "* We can add as many parameters as we want. Parameters must be seprated with a comma.\n",
    "\n",
    "* A function may or may not return data.\n",
    "\n",
    "* In python a function is defined using the def keyword."
   ]
  },
  {
   "cell_type": "markdown",
   "id": "ba0b6ce6",
   "metadata": {},
   "source": [
    "# Parameters Vs Arguments"
   ]
  },
  {
   "cell_type": "markdown",
   "id": "b37dad79",
   "metadata": {},
   "source": [
    "* A parameter is the variable listed inside the parenthesis in the function defination.\n",
    "* An argument is the value that is sent to the function when it is called."
   ]
  },
  {
   "cell_type": "markdown",
   "id": "81d7e89b",
   "metadata": {},
   "source": [
    "# Three types of functions in python\n",
    "\n",
    "* Built - in Function: Python predefined functions that are readily avaliable for use like min(),max(), sum(),print() etc.\n",
    "\n",
    "* User defined Functions : Function that we define ourselves to perform a specific task.\n",
    "\n",
    "* Anonymous functions: Function that is defined without a name.Anonymous functions are also called as lambda functions.They are not declared with def keyword.\n"
   ]
  },
  {
   "cell_type": "code",
   "execution_count": 5,
   "id": "33c1c4b9",
   "metadata": {},
   "outputs": [
    {
     "name": "stdout",
     "output_type": "stream",
     "text": [
      "Happy Diwali..\n"
     ]
    },
    {
     "data": {
      "text/plain": [
       "' '"
      ]
     },
     "execution_count": 5,
     "metadata": {},
     "output_type": "execute_result"
    }
   ],
   "source": [
    "print(\"Happy Diwali..\")\n",
    "type(\"Happy Diwali..\")\n"
   ]
  },
  {
   "cell_type": "code",
   "execution_count": 6,
   "id": "27dea048",
   "metadata": {},
   "outputs": [
    {
     "name": "stdout",
     "output_type": "stream",
     "text": [
      "Hello Python Lovers\n"
     ]
    }
   ],
   "source": [
    "def myfunc():\n",
    "    print(\"Hello Python Lovers\")\n",
    "myfunc()\n"
   ]
  },
  {
   "cell_type": "code",
   "execution_count": 9,
   "id": "26fbb172",
   "metadata": {},
   "outputs": [
    {
     "data": {
      "text/plain": [
       "1000"
      ]
     },
     "execution_count": 9,
     "metadata": {},
     "output_type": "execute_result"
    }
   ],
   "source": [
    "def cube(m):\n",
    "    M = m * m *m\n",
    "    return M\n",
    "cube(10)"
   ]
  },
  {
   "cell_type": "code",
   "execution_count": 7,
   "id": "e9bc01d3",
   "metadata": {},
   "outputs": [
    {
     "data": {
      "text/plain": [
       "100"
      ]
     },
     "execution_count": 7,
     "metadata": {},
     "output_type": "execute_result"
    }
   ],
   "source": [
    "def square(n): # function to find square of a number \n",
    "    N = n*n\n",
    "    return N\n",
    "square(10) "
   ]
  },
  {
   "cell_type": "code",
   "execution_count": 2,
   "id": "6bba149e",
   "metadata": {},
   "outputs": [],
   "source": [
    "# a,b\n",
    "a = 12"
   ]
  },
  {
   "cell_type": "code",
   "execution_count": 11,
   "id": "7667215d",
   "metadata": {},
   "outputs": [
    {
     "name": "stdout",
     "output_type": "stream",
     "text": [
      "3 is odd number\n",
      "32 is even number\n",
      "0 is even number\n"
     ]
    }
   ],
   "source": [
    "def even_odd (num): # Even odd test \n",
    "     \n",
    "    \n",
    "    if num % 2 == 0:\n",
    "        print(num,\"is even number\")\n",
    "    elif num == 0:\n",
    "        print(\"Zero\")\n",
    "    else:\n",
    "            print(num, \"is odd number\")\n",
    "            \n",
    "even_odd(3)\n",
    "even_odd(32) \n",
    "even_odd(0) \n"
   ]
  },
  {
   "cell_type": "code",
   "execution_count": 12,
   "id": "b540b936",
   "metadata": {},
   "outputs": [
    {
     "name": "stdout",
     "output_type": "stream",
     "text": [
      "<function fullname at 0x000002219693CCA0>\n",
      "<function fullname at 0x000002219693CCA0>\n"
     ]
    }
   ],
   "source": [
    "    def fullname (firstname, middlename, lastname):  # Concatenate strings\n",
    "        \n",
    "        print(fullname)\n",
    "    fullname(\"Alia\",\"Ranbir\",\"Kapoor\")\n",
    "    print(fullname)"
   ]
  },
  {
   "cell_type": "code",
   "execution_count": 16,
   "id": "c678497b",
   "metadata": {},
   "outputs": [
    {
     "name": "stdout",
     "output_type": "stream",
     "text": [
      "Alia Ranbir Kapoor\n"
     ]
    }
   ],
   "source": [
    "def fullname (firstname=\"Alia\", middlename=\"Ranbir\", lastname=\"Kapoor\"): # Concatenate strings\n",
    "        fullname = \"{} {} {}\".format(firstname,middlename,lastname)\n",
    "        print(fullname)\n",
    "fullname() "
   ]
  },
  {
   "cell_type": "code",
   "execution_count": 17,
   "id": "37d3aa3e",
   "metadata": {},
   "outputs": [
    {
     "name": "stdout",
     "output_type": "stream",
     "text": [
      "Crackers,Crackers,Crackers\n"
     ]
    }
   ],
   "source": [
    "def Diwali():\n",
    "    Diwali = \"{0},{0},{0}\".format(\"Crackers\",\"Clothes\",\"Food\")\n",
    "    print(Diwali)\n",
    "Diwali()"
   ]
  },
  {
   "cell_type": "code",
   "execution_count": 17,
   "id": "fc1f3143",
   "metadata": {},
   "outputs": [
    {
     "name": "stdout",
     "output_type": "stream",
     "text": [
      "Most populated city:- Mumbai\n"
     ]
    }
   ],
   "source": [
    "def myfunc(city = \"Mumbai\"):\n",
    "    print(\"Most populated city:-\", city)\n",
    "myfunc() # When a function is called without an argument it will use default value"
   ]
  },
  {
   "cell_type": "markdown",
   "id": "5c04e543",
   "metadata": {},
   "source": [
    "# Global & Local Variable"
   ]
  },
  {
   "cell_type": "code",
   "execution_count": 18,
   "id": "8eaf08ed",
   "metadata": {},
   "outputs": [
    {
     "name": "stdout",
     "output_type": "stream",
     "text": [
      "100\n"
     ]
    },
    {
     "data": {
      "text/plain": [
       "50"
      ]
     },
     "execution_count": 18,
     "metadata": {},
     "output_type": "execute_result"
    }
   ],
   "source": [
    "var1 = 50# Variable with Global scope.\n",
    "def myfunc():\n",
    "    var1 = 100\n",
    "    \n",
    "    print(var1) # Value 100 will be displayed due to global scope of var1\n",
    "    \n",
    "myfunc()\n",
    "var1"
   ]
  },
  {
   "cell_type": "code",
   "execution_count": 19,
   "id": "6388cce6",
   "metadata": {},
   "outputs": [
    {
     "data": {
      "text/plain": [
       "50"
      ]
     },
     "execution_count": 19,
     "metadata": {},
     "output_type": "execute_result"
    }
   ],
   "source": [
    "var1"
   ]
  },
  {
   "cell_type": "code",
   "execution_count": 20,
   "id": "dbb5f0b0",
   "metadata": {},
   "outputs": [
    {
     "name": "stdout",
     "output_type": "stream",
     "text": [
      "10\n",
      "10\n"
     ]
    }
   ],
   "source": [
    "var2 = 10\n",
    "def myfunc1():\n",
    "     # variable with local scope\n",
    "    print( var2)\n",
    "\n",
    "def myfunc2():\n",
    "    print(var2) #This will throw error because var2 has a local scope.\n",
    "    \n",
    "myfunc1()\n",
    "myfunc2()"
   ]
  },
  {
   "cell_type": "code",
   "execution_count": 4,
   "id": "d6c834f5",
   "metadata": {},
   "outputs": [
    {
     "name": "stdout",
     "output_type": "stream",
     "text": [
      "99\n",
      "100\n"
     ]
    }
   ],
   "source": [
    "var1 = 100 # Variable with Global scope.\n",
    "def myfunc():\n",
    "    var1 = 99 # Local scope\n",
    "    print(var1)\n",
    "    \n",
    "myfunc()\n",
    "print(var1) # The orignal value of var1(100) will be retained due to global scope"
   ]
  },
  {
   "cell_type": "code",
   "execution_count": 21,
   "id": "2b1294c4",
   "metadata": {},
   "outputs": [
    {
     "name": "stdout",
     "output_type": "stream",
     "text": [
      "\"list1\" before calling the function:-  [11, 22, 33, 44, 55]\n",
      "\"list1 after calling the function:-\" [22, 33, 44, 55]\n"
     ]
    }
   ],
   "source": [
    "list1 = [11,22,33,44,55]\n",
    "def myfunc(list1):\n",
    "    del list1[0]\n",
    "print('\"list1\" before calling the function:- ' , list1)\n",
    "myfunc(list1) # Pass by reference  (any change in the parameter within the function)\n",
    "print('\"list1 after calling the function:-\"',list1)"
   ]
  },
  {
   "cell_type": "code",
   "execution_count": 22,
   "id": "e532bfdb",
   "metadata": {},
   "outputs": [
    {
     "name": "stdout",
     "output_type": "stream",
     "text": [
      "\"list1\" before calling the function:-  [11, 22, 33, 44, 55]\n",
      "\"list1 after calling the function:-\" [11, 22, 33, 44, 55, 100]\n"
     ]
    }
   ],
   "source": [
    "list1 = [11,22,33,44,55]\n",
    "def myfunc(list1):\n",
    "    list1.append(100)\n",
    "print('\"list1\" before calling the function:- ' , list1)\n",
    "myfunc(list1) # Pass by reference  (any change in the parameter within the function)\n",
    "print('\"list1 after calling the function:-\"',list1)"
   ]
  },
  {
   "cell_type": "code",
   "execution_count": 8,
   "id": "fdbb70c1",
   "metadata": {},
   "outputs": [
    {
     "data": {
      "text/plain": [
       "(10, 20)"
      ]
     },
     "execution_count": 8,
     "metadata": {},
     "output_type": "execute_result"
    }
   ],
   "source": [
    "a = 10\n",
    "b = 20\n",
    "def swap(a,b):\n",
    "    temp = a\n",
    "    a = b # link of \"a\" with previous object is broken now as new object is \n",
    "    b = temp # link of \"a\" with previous object is broken now as new object is \n",
    "    \n",
    "\n",
    "swap(a,b)\n",
    "a,b"
   ]
  },
  {
   "cell_type": "code",
   "execution_count": 28,
   "id": "20a0f470",
   "metadata": {},
   "outputs": [
    {
     "data": {
      "text/plain": [
       "24"
      ]
     },
     "execution_count": 28,
     "metadata": {},
     "output_type": "execute_result"
    }
   ],
   "source": [
    "def factorial(num): \n",
    "    if num<= 1:\n",
    "        return 1\n",
    "    else:\n",
    "        return num* factorial(num -1)\n",
    "factorial(4)"
   ]
  },
  {
   "cell_type": "code",
   "execution_count": 34,
   "id": "cd27d904",
   "metadata": {},
   "outputs": [
    {
     "data": {
      "text/plain": [
       "15"
      ]
     },
     "execution_count": 34,
     "metadata": {},
     "output_type": "execute_result"
    }
   ],
   "source": [
    "def add(num): # Sum of first n natural numbers\n",
    "    if num == 0:\n",
    "        return 0\n",
    "    else:\n",
    "        return num + add(num -1)\n",
    "add(5) # Sum of first 5 natural no(1+2+3+4+5)"
   ]
  },
  {
   "cell_type": "code",
   "execution_count": 13,
   "id": "64e6624e",
   "metadata": {},
   "outputs": [
    {
     "name": "stdout",
     "output_type": "stream",
     "text": [
      "How many fibonacci numbers you want to generate -10\n",
      "0\n",
      "1\n",
      "1\n",
      "2\n",
      "3\n",
      "5\n",
      "8\n",
      "13\n",
      "21\n",
      "34\n"
     ]
    }
   ],
   "source": [
    "def fibonacci(num):\n",
    "    if num <= 1:\n",
    "        return num\n",
    "     \n",
    "    else:\n",
    "        return(fibonacci(num - 1) + fibonacci(num - 2))\n",
    "nums = int(input(\"How many fibonacci numbers you want to generate -\"))\n",
    "\n",
    "for i in range(nums):\n",
    "    print(fibonacci(i)) # Generate Fibonacci series \n"
   ]
  },
  {
   "cell_type": "markdown",
   "id": "978f44ab",
   "metadata": {},
   "source": [
    "# Lambda function"
   ]
  },
  {
   "cell_type": "markdown",
   "id": "2e8dbe32",
   "metadata": {},
   "source": [
    "* A lambda function is an anonymous function(function without a name).\n",
    "\n",
    "* Lambda function can have any number of arguments but only one expression.The expression is evaluated and returned.\n",
    "\n",
    "* We use lambda function when we require a nameless function for a short period of time."
   ]
  },
  {
   "cell_type": "code",
   "execution_count": 20,
   "id": "7b3d88ea",
   "metadata": {},
   "outputs": [
    {
     "name": "stdout",
     "output_type": "stream",
     "text": [
      "15\n"
     ]
    }
   ],
   "source": [
    "addition = lambda a :a + 10 # This lambda function adds value 10 to an argument..\n",
    "print(addition(5)) "
   ]
  },
  {
   "cell_type": "code",
   "execution_count": 3,
   "id": "8298adfd",
   "metadata": {},
   "outputs": [
    {
     "name": "stdout",
     "output_type": "stream",
     "text": [
      "30\n"
     ]
    }
   ],
   "source": [
    "product = lambda a, b: a * b # This lambda function takes two arguments (a,b)\n",
    "print(product(5,6))"
   ]
  },
  {
   "cell_type": "code",
   "execution_count": 22,
   "id": "83d1f9d0",
   "metadata": {},
   "outputs": [
    {
     "name": "stdout",
     "output_type": "stream",
     "text": [
      "Hello Hii Hola\n"
     ]
    }
   ],
   "source": [
    "addition = lambda a,b,c : a + b + c # This lambda function takes three argument..\n",
    "print(addition(\"Hello\",\" Hii\",\" Hola\"))"
   ]
  },
  {
   "cell_type": "code",
   "execution_count": 1,
   "id": "ae5f4c9e",
   "metadata": {},
   "outputs": [
    {
     "name": "stdout",
     "output_type": "stream",
     "text": [
      "-1\n"
     ]
    }
   ],
   "source": [
    "product = lambda q,w,e:q+w-e\n",
    "print(product(5,6,12))"
   ]
  },
  {
   "cell_type": "code",
   "execution_count": 24,
   "id": "142fab6e",
   "metadata": {},
   "outputs": [
    {
     "name": "stdout",
     "output_type": "stream",
     "text": [
      "Padh Le Bhai Padh Le Bhai Padh Le Bhai \n"
     ]
    }
   ],
   "source": [
    "x = lambda a : a * 3\n",
    "print(x(\"Padh Le Bhai \"))"
   ]
  },
  {
   "cell_type": "code",
   "execution_count": 17,
   "id": "06da6fef",
   "metadata": {},
   "outputs": [
    {
     "name": "stdout",
     "output_type": "stream",
     "text": [
      "22\n"
     ]
    }
   ],
   "source": [
    "def myfunc(n):\n",
    "    return lambda a : a * n\n",
    "\n",
    "mydoubler = myfunc(2) #a function that always doubles the number you send\n",
    "\n",
    "print(mydoubler(11))"
   ]
  },
  {
   "cell_type": "code",
   "execution_count": 18,
   "id": "609ac8bd",
   "metadata": {
    "scrolled": false
   },
   "outputs": [
    {
     "name": "stdout",
     "output_type": "stream",
     "text": [
      "396\n"
     ]
    }
   ],
   "source": [
    "def myfunc(n):\n",
    "    return lambda a,b : a * b* n\n",
    "\n",
    "mytripler = myfunc(3) # a function that always triples the number you send \n",
    "\n",
    "print(mytripler(11,12))"
   ]
  },
  {
   "cell_type": "code",
   "execution_count": 1,
   "id": "d943d457",
   "metadata": {},
   "outputs": [
    {
     "name": "stdout",
     "output_type": "stream",
     "text": [
      "22\n",
      "30\n"
     ]
    }
   ],
   "source": [
    "def myfunc(n):\n",
    "     return lambda a : a * n\n",
    "\n",
    "mydoubler = myfunc(2)\n",
    "mytripler = myfunc(3)\n",
    "\n",
    "print(mydoubler(11))\n",
    "print(mytripler(10))"
   ]
  },
  {
   "cell_type": "code",
   "execution_count": 2,
   "id": "30a550ab",
   "metadata": {},
   "outputs": [
    {
     "name": "stdout",
     "output_type": "stream",
     "text": [
      "24\n",
      "35\n",
      "46\n"
     ]
    }
   ],
   "source": [
    "def myfunc(n):\n",
    "     return lambda a : a + n\n",
    "\n",
    "add20 = myfunc(20)\n",
    "add30 = myfunc(30)\n",
    "add40 = myfunc(40)\n",
    "\n",
    "print(add20(4))\n",
    "print(add30(5))\n",
    "print(add40(6))"
   ]
  },
  {
   "cell_type": "code",
   "execution_count": 2,
   "id": "8cb23753",
   "metadata": {},
   "outputs": [
    {
     "data": {
      "text/plain": [
       "[2, 4, 6, 8]"
      ]
     },
     "execution_count": 2,
     "metadata": {},
     "output_type": "execute_result"
    }
   ],
   "source": [
    "list1 = [1,2,3,4,5,6,7,8,9]\n",
    "# The below filter function filters \"list1\" and passes all odd numbers using lambda function\n",
    "even_num = list(filter(lambda n:n%2 == 0, list1))\n",
    "even_num"
   ]
  },
  {
   "cell_type": "code",
   "execution_count": 7,
   "id": "5cdb1722",
   "metadata": {},
   "outputs": [],
   "source": [
    "list1 = [1,2,3,4,5,6,7,8,9,10]\n",
    "even = list(filter(lambda n: n%2 ==0, list1)) # filter even numbers from the list\n",
    "odd  = list(filter(lambda n: n%2 !=0, list1)) # filter odd numbers fro the list"
   ]
  },
  {
   "cell_type": "code",
   "execution_count": 8,
   "id": "de00d928",
   "metadata": {},
   "outputs": [
    {
     "name": "stdout",
     "output_type": "stream",
     "text": [
      "[2, 4, 6, 8, 10]\n",
      "[1, 3, 5, 7, 9]\n"
     ]
    }
   ],
   "source": [
    "print(even)\n",
    "print(odd)"
   ]
  },
  {
   "cell_type": "code",
   "execution_count": 11,
   "id": "2eaa6f04",
   "metadata": {},
   "outputs": [],
   "source": [
    "list2 = [\"one\",\"two\",\"Three\",\"four\",\"five\",\"HELLO\",\"WAKE UP\"]\n",
    "upper = list(filter(lambda x:x.isupper(), list2))\n",
    "lower = list(filter(lambda x:x.islower(), list2))"
   ]
  },
  {
   "cell_type": "code",
   "execution_count": 12,
   "id": "7004c182",
   "metadata": {},
   "outputs": [
    {
     "name": "stdout",
     "output_type": "stream",
     "text": [
      "['HELLO', 'WAKE UP']\n",
      "['one', 'two', 'four', 'five']\n"
     ]
    }
   ],
   "source": [
    "print(upper)\n",
    "print(lower)"
   ]
  },
  {
   "cell_type": "markdown",
   "id": "09d39dec",
   "metadata": {},
   "source": [
    "# The map() function applies a given function to each item of an iterable (list,tuple etc.) and returns an iterator."
   ]
  },
  {
   "cell_type": "markdown",
   "id": "1f4114e5",
   "metadata": {},
   "source": [
    "# The map() function takes two parameters:\n",
    "\n",
    "# function - a function that perform some action to each element of an iterable\n",
    "\n",
    "# iterable - an iterable like sets, lists, tuples, etc\n"
   ]
  },
  {
   "cell_type": "code",
   "execution_count": 29,
   "id": "674ff695",
   "metadata": {},
   "outputs": [
    {
     "name": "stdout",
     "output_type": "stream",
     "text": [
      "<map object at 0x000002219695A5B0>\n",
      "{4, 5, 6, 7, 8}\n"
     ]
    }
   ],
   "source": [
    "output = map(lambda x: x +3 , [1,2,3,4,5])\n",
    "print(output)\n",
    "type(output)\n",
    "print(set(output))"
   ]
  },
  {
   "cell_type": "code",
   "execution_count": 5,
   "id": "44ec77ea",
   "metadata": {},
   "outputs": [
    {
     "name": "stdout",
     "output_type": "stream",
     "text": [
      "[1, 4, 9, 16]\n"
     ]
    }
   ],
   "source": [
    "# User defined map fn\n",
    "def new(x):\n",
    "    return x*x\n",
    "# map[]def_name,value]\n",
    "x = list(map(new,[1,2,3,4]))\n",
    "print(x)\n"
   ]
  },
  {
   "cell_type": "code",
   "execution_count": 13,
   "id": "dd49ab70",
   "metadata": {},
   "outputs": [
    {
     "name": "stdout",
     "output_type": "stream",
     "text": [
      "<map object at 0x000001A9FDD87700>\n",
      "[1, 4, 9, 16, 25, 36, 49, 64]\n"
     ]
    }
   ],
   "source": [
    "def new(a):\n",
    "    return a*a\n",
    "x = map(new,[1,2,3,4,5,6,7,8])\n",
    "print(x)\n",
    "print(list(x))"
   ]
  },
  {
   "cell_type": "code",
   "execution_count": 21,
   "id": "f59b8069",
   "metadata": {},
   "outputs": [
    {
     "name": "stdout",
     "output_type": "stream",
     "text": [
      "[75, 150, 245, 360]\n"
     ]
    }
   ],
   "source": [
    "def new(a,b):\n",
    "    return a*b\n",
    "x = list(map(new,[5,6,7,8],[15,25,35,45]))\n",
    "print(x)\n",
    "# print(list(x))"
   ]
  },
  {
   "cell_type": "code",
   "execution_count": 16,
   "id": "2eb54563",
   "metadata": {},
   "outputs": [
    {
     "name": "stdout",
     "output_type": "stream",
     "text": [
      "[4, 5, 6, 7, 8]\n"
     ]
    }
   ],
   "source": [
    "# lambda fn along with map fn(lambda fn provides i/p to other fns)\n",
    "a = [1,2,3,4,5]\n",
    "y = list(map(lambda x: x+3, a))\n",
    "print(y)"
   ]
  },
  {
   "cell_type": "code",
   "execution_count": 26,
   "id": "64ffbf8a",
   "metadata": {},
   "outputs": [
    {
     "data": {
      "text/plain": [
       "['asdasd', 'AffjnAffjn']"
      ]
     },
     "execution_count": 26,
     "metadata": {},
     "output_type": "execute_result"
    }
   ],
   "source": [
    "numbers = (\"asd\",\"Affjn\")\n",
    "result = map(lambda x: x+x, numbers)\n",
    "a =list(result)\n",
    "a\n",
    "\n",
    "# converting map object to set\n",
    "#numbersSquare = (result)\n",
    "#print(numbersSquare)"
   ]
  },
  {
   "cell_type": "code",
   "execution_count": 21,
   "id": "58e5b4a8",
   "metadata": {},
   "outputs": [
    {
     "name": "stdout",
     "output_type": "stream",
     "text": [
      "[9, 11, 13]\n"
     ]
    }
   ],
   "source": [
    "num1 = [4, 5, 6]\n",
    "num2 = [5, 6, 7]\n",
    "\n",
    "result = map(lambda n1, n2: n1+n2, num1, num2)\n",
    "print(list(result)) "
   ]
  },
  {
   "cell_type": "markdown",
   "id": "13ee98b6",
   "metadata": {},
   "source": [
    "# The filter() function returns an iterator were the items are filtered through a function to test if the item is accepted or not.\n",
    "\n",
    "# Syntax :- filter(function, iterable)"
   ]
  },
  {
   "cell_type": "code",
   "execution_count": 30,
   "id": "5264b5a7",
   "metadata": {},
   "outputs": [
    {
     "name": "stdout",
     "output_type": "stream",
     "text": [
      "[1, 3, 5, 13, 15, 21, 25, 45]\n",
      "[0, 2, 8, 18, 32, 52]\n"
     ]
    }
   ],
   "source": [
    "# a list contains both even and odd numbers.\n",
    "seq = [0, 1, 2, 3, 5, 8, 13,15,18,21,25,32,45,52]\n",
    "\n",
    "# result contains odd numbers of the list\n",
    "result = filter(lambda x: x % 2 != 0, seq)\n",
    "print(list(result))\n",
    "\n",
    "# result contains even numbers of the list\n",
    "result = filter(lambda x: x % 2 == 0, seq)\n",
    "print(list(result))\n"
   ]
  },
  {
   "cell_type": "code",
   "execution_count": 31,
   "id": "37344a61",
   "metadata": {},
   "outputs": [
    {
     "name": "stdout",
     "output_type": "stream",
     "text": [
      "['a', 'e', 'i', 'o']\n"
     ]
    }
   ],
   "source": [
    "letters = ['a', 'b', 'd', 'e', 'i', 'j', 'o','s','q','t','w']\n",
    "\n",
    "# a function that returns True if letter is vowel\n",
    "def filter_vowels(k):\n",
    "    vowels = ['a', 'e', 'i', 'o', 'u']\n",
    "    return True if k in vowels else False\n",
    "\n",
    "filtered_vowels = filter(filter_vowels, letters)\n",
    "\n",
    "\n",
    "\n",
    "print(list(filtered_vowels))"
   ]
  },
  {
   "cell_type": "code",
   "execution_count": 39,
   "id": "0eff784a",
   "metadata": {},
   "outputs": [],
   "source": [
    "# Here, the filter() function extracts only the vowel letters from the letters list. Here's how this code works:\n",
    "\n",
    "# Each element of the letters list is passed to the filter_vowels() function.\n",
    "\n",
    "#If filter_vowels() returns True, that element is extracted otherwise it's filtered out.\n"
   ]
  },
  {
   "cell_type": "code",
   "execution_count": 42,
   "id": "a6a8b813",
   "metadata": {},
   "outputs": [
    {
     "name": "stdout",
     "output_type": "stream",
     "text": [
      "[2, 4, 6, 14, 98, 66, 54]\n"
     ]
    }
   ],
   "source": [
    "numbers = [1, 2, 3, 4, 5, 6, 7,23,14,98,66,54,25,67]\n",
    "\n",
    "# the lambda function returns True for even numbers \n",
    "even_numbers_iterator = filter(lambda x: (x%2 == 0), numbers)\n",
    "\n",
    "# converting to list\n",
    "even_numbers = list(even_numbers_iterator)\n",
    "\n",
    "print(even_numbers)"
   ]
  },
  {
   "cell_type": "code",
   "execution_count": 44,
   "id": "e131a200",
   "metadata": {},
   "outputs": [
    {
     "name": "stdout",
     "output_type": "stream",
     "text": [
      "[1, 3, 5, 7, 11, 15, 19]\n"
     ]
    }
   ],
   "source": [
    "numbers = [1, 2, 3, 4, 5, 6, 7,11,12,14,15,18,19]\n",
    "\n",
    "# the lambda function returns True for odd numbers \n",
    "odd_numbers_iterator = filter(lambda x: (x%2 != 0), numbers)\n",
    "\n",
    "# converting to list\n",
    "odd_numbers = list(odd_numbers_iterator)\n",
    "\n",
    "print(odd_numbers)"
   ]
  },
  {
   "cell_type": "code",
   "execution_count": 6,
   "id": "3a75b913",
   "metadata": {},
   "outputs": [
    {
     "name": "stdout",
     "output_type": "stream",
     "text": [
      "[-5, (2+2j), True, '5']\n"
     ]
    }
   ],
   "source": [
    "# random list\n",
    "random_list = [-5, 2 + 2j, 0, False, True, '5']\n",
    "# When None is used as the first argument to the filter() function\n",
    "\n",
    "# all elements that are truthy values (gives True if converted to boolean) are extracted.\n",
    "\n",
    "filtered_iterator = filter(None, random_list)\n",
    "\n",
    "#converting to list\n",
    "filtered_list = list(filtered_iterator)\n",
    "\n",
    "print(filtered_list)"
   ]
  },
  {
   "cell_type": "markdown",
   "id": "ffd8ab93",
   "metadata": {},
   "source": [
    "# reduce() in Python"
   ]
  },
  {
   "cell_type": "markdown",
   "id": "f69d49d5",
   "metadata": {},
   "source": [
    "#  Python offers a function called reduce() that allows you to reduce a list in a more concise way."
   ]
  },
  {
   "cell_type": "code",
   "execution_count": 47,
   "id": "bcc5debf",
   "metadata": {},
   "outputs": [],
   "source": [
    "# Syntax ;-reduce(fn,list)"
   ]
  },
  {
   "cell_type": "code",
   "execution_count": 49,
   "id": "c962c474",
   "metadata": {},
   "outputs": [],
   "source": [
    "#Unlike the map() and filter() functions, the reduce() isn’t a built-in function in Python. \n",
    "\n",
    "# In fact, the reduce() function belongs to the functools module.\n",
    "\n",
    "#To use the reduce() function, you need to import it from the functools module."
   ]
  },
  {
   "cell_type": "code",
   "execution_count": 3,
   "id": "a0df6282",
   "metadata": {},
   "outputs": [],
   "source": [
    "from functools import reduce"
   ]
  },
  {
   "cell_type": "code",
   "execution_count": 7,
   "id": "3997a179",
   "metadata": {},
   "outputs": [
    {
     "name": "stdout",
     "output_type": "stream",
     "text": [
      "60\n"
     ]
    }
   ],
   "source": [
    "from functools import reduce\n",
    "# calculates the product of two elements\n",
    "def product(x,y):\n",
    "    return x*y\n",
    "\n",
    "ans = reduce(product, [2, 5,3,2])\n",
    "print(ans)"
   ]
  },
  {
   "cell_type": "code",
   "execution_count": 13,
   "id": "51ed9854",
   "metadata": {},
   "outputs": [
    {
     "name": "stdout",
     "output_type": "stream",
     "text": [
      "a=75, b=65, 75 + 65 =140\n",
      "a=140, b=80, 140 + 80 =220\n",
      "a=220, b=95, 220 + 95 =315\n",
      "a=315, b=50, 315 + 50 =365\n",
      "365\n"
     ]
    }
   ],
   "source": [
    "from functools import reduce\n",
    "\n",
    "def sum(a, b):\n",
    "    print(f\"a={a}, b={b}, {a} + {b} ={a+b}\")\n",
    "    return a + b\n",
    "\n",
    "\n",
    "scores = [75, 65, 80, 95, 50]\n",
    "total = reduce(sum, scores)\n",
    "print(total)"
   ]
  },
  {
   "cell_type": "code",
   "execution_count": 2,
   "id": "513b2d05",
   "metadata": {},
   "outputs": [
    {
     "name": "stdout",
     "output_type": "stream",
     "text": [
      "100\n"
     ]
    }
   ],
   "source": [
    "# Program to show the use of lambda functions\n",
    "double = lambda x: x * 2\n",
    "\n",
    "print(double(50))"
   ]
  },
  {
   "cell_type": "markdown",
   "id": "aae2b939",
   "metadata": {},
   "source": [
    "# Positional Argument"
   ]
  },
  {
   "cell_type": "code",
   "execution_count": 3,
   "id": "ac5f648c",
   "metadata": {},
   "outputs": [],
   "source": [
    "a = \"Hello\"\n",
    "def pp():\n",
    "    a = \"Kao\"\n",
    "    print(a)"
   ]
  },
  {
   "cell_type": "code",
   "execution_count": 4,
   "id": "fe19d158",
   "metadata": {},
   "outputs": [
    {
     "name": "stdout",
     "output_type": "stream",
     "text": [
      "Kao\n"
     ]
    }
   ],
   "source": [
    "pp()"
   ]
  },
  {
   "cell_type": "code",
   "execution_count": null,
   "id": "57c4834a",
   "metadata": {},
   "outputs": [],
   "source": [
    "a = \"Laila\""
   ]
  },
  {
   "cell_type": "code",
   "execution_count": null,
   "id": "ac8ab849",
   "metadata": {},
   "outputs": [],
   "source": [
    "# a is parameter\n",
    "# Laila is argument of the parameter"
   ]
  },
  {
   "cell_type": "code",
   "execution_count": null,
   "id": "f02dde36",
   "metadata": {},
   "outputs": [],
   "source": []
  },
  {
   "cell_type": "code",
   "execution_count": 54,
   "id": "86e8d543",
   "metadata": {},
   "outputs": [],
   "source": [
    "# reduce() function cumulatively adds two elements of the list from left to right and reduces the whole list into a single value."
   ]
  },
  {
   "cell_type": "code",
   "execution_count": 52,
   "id": "0a99e79f",
   "metadata": {},
   "outputs": [
    {
     "name": "stdout",
     "output_type": "stream",
     "text": [
      "365\n"
     ]
    }
   ],
   "source": [
    "from functools import reduce\n",
    "\n",
    "scores = [75, 65, 80, 95, 50]\n",
    "\n",
    "total = reduce(lambda a, b: a + b, scores)\n",
    "\n",
    "print(total)"
   ]
  },
  {
   "cell_type": "code",
   "execution_count": 53,
   "id": "e1a48407",
   "metadata": {},
   "outputs": [],
   "source": [
    "# Use the Python reduce() function to reduce a list into a single value."
   ]
  },
  {
   "cell_type": "code",
   "execution_count": 60,
   "id": "3d5d0466",
   "metadata": {},
   "outputs": [
    {
     "name": "stdout",
     "output_type": "stream",
     "text": [
      "The minimum in the given list is 1\n",
      "The maximum in the given list is 98\n"
     ]
    }
   ],
   "source": [
    "from functools import reduce\n",
    "\n",
    "# pre-defined function to calculate minimum\n",
    "def mini(a, b):\n",
    "    \n",
    "    return a if a < b else b\n",
    "\n",
    "# pre-defined function to calculate maximum\n",
    "def maxi(a, b):\n",
    "    \n",
    "    return a if a > b else b\n",
    "\n",
    "nums = [3, 5, 2, 4, 7, 1,11,17,98,88,54,66]\n",
    "\n",
    "# passing both functions in the reduce along with nums as iterable\n",
    "print(f'The minimum in the given list is {reduce(mini, nums)}')\n",
    "print(f'The maximum in the given list is {reduce(maxi, nums)}')"
   ]
  },
  {
   "cell_type": "code",
   "execution_count": 14,
   "id": "a2002dd1",
   "metadata": {},
   "outputs": [
    {
     "name": "stdout",
     "output_type": "stream",
     "text": [
      "False\n",
      "True\n"
     ]
    }
   ],
   "source": [
    "# creating a function to check if both arguments are True or not\n",
    "def is_true(a, b):\n",
    "    return bool(a and b)\n",
    "\n",
    "print(reduce(is_true, [1, 1,0, 1,0, 1, 0,0,0]))\n",
    "\n",
    "print(reduce(is_true, [1, 1, 1, 1, 1]))"
   ]
  },
  {
   "cell_type": "code",
   "execution_count": 65,
   "id": "a270d164",
   "metadata": {},
   "outputs": [],
   "source": [
    "# In the first example all elements in the iterable are 0,1 because of which reduce function returns false\n",
    "# while in the second example all elements are 1 which makes the whole iterable return True."
   ]
  },
  {
   "cell_type": "markdown",
   "id": "bd95c446",
   "metadata": {},
   "source": [
    "#  Difference Between Map and Reduce\n",
    "\n",
    "# After learning about Reduce you might have got confused between reduce and map function . \n",
    "\n",
    "# The main difference between these two is that map() is applied to every item of an iterable one at the time and in result an iterator is returned.\n",
    "\n"
   ]
  },
  {
   "cell_type": "code",
   "execution_count": 2,
   "id": "cf9eb14c",
   "metadata": {},
   "outputs": [
    {
     "name": "stdout",
     "output_type": "stream",
     "text": [
      "<class 'map'>\n",
      "(6, 10)\n"
     ]
    },
    {
     "data": {
      "text/plain": [
       "map"
      ]
     },
     "execution_count": 2,
     "metadata": {},
     "output_type": "execute_result"
    }
   ],
   "source": [
    "# using map function with lambda function on an iterable\n",
    "ans = map(lambda a: 2*a, [3, 5])\n",
    "\n",
    "# to check what is the type of map() \n",
    "print(type(ans))\n",
    " \n",
    "print(tuple(ans))\n",
    "type(ans)"
   ]
  },
  {
   "cell_type": "code",
   "execution_count": 1,
   "id": "faec57fa",
   "metadata": {},
   "outputs": [],
   "source": [
    "a = (1,2,3,[4,5,6],7)"
   ]
  },
  {
   "cell_type": "code",
   "execution_count": null,
   "id": "dead99fb",
   "metadata": {},
   "outputs": [],
   "source": [
    "b = [11,22,333,[44,55,66]]"
   ]
  },
  {
   "cell_type": "code",
   "execution_count": 6,
   "id": "0a505ebc",
   "metadata": {},
   "outputs": [],
   "source": [
    "def pp(n):\n",
    "    if n == 0:\n",
    "        return 1\n",
    "    else:\n",
    "        return n*pp(n-1)"
   ]
  },
  {
   "cell_type": "code",
   "execution_count": 7,
   "id": "05d2c780",
   "metadata": {},
   "outputs": [
    {
     "data": {
      "text/plain": [
       "24"
      ]
     },
     "execution_count": 7,
     "metadata": {},
     "output_type": "execute_result"
    }
   ],
   "source": [
    "pp(4)"
   ]
  },
  {
   "cell_type": "code",
   "execution_count": 12,
   "id": "ee3f5da0",
   "metadata": {},
   "outputs": [
    {
     "name": "stdout",
     "output_type": "stream",
     "text": [
      "Enter between 1-5    8\n"
     ]
    },
    {
     "data": {
      "text/plain": [
       "8"
      ]
     },
     "execution_count": 12,
     "metadata": {},
     "output_type": "execute_result"
    }
   ],
   "source": [
    "a = int(input(\"Enter between 1-5\"))\n",
    "a"
   ]
  },
  {
   "cell_type": "code",
   "execution_count": 19,
   "id": "2dd46c37",
   "metadata": {},
   "outputs": [
    {
     "data": {
      "text/plain": [
       "44"
      ]
     },
     "execution_count": 19,
     "metadata": {},
     "output_type": "execute_result"
    }
   ],
   "source": [
    "a = [22,33,44]\n",
    "max(a)"
   ]
  },
  {
   "cell_type": "code",
   "execution_count": 20,
   "id": "38051dd2",
   "metadata": {},
   "outputs": [
    {
     "data": {
      "text/plain": [
       "22"
      ]
     },
     "execution_count": 20,
     "metadata": {},
     "output_type": "execute_result"
    }
   ],
   "source": [
    "min(a)"
   ]
  },
  {
   "cell_type": "code",
   "execution_count": 22,
   "id": "842470e4",
   "metadata": {},
   "outputs": [
    {
     "data": {
      "text/plain": [
       "list"
      ]
     },
     "execution_count": 22,
     "metadata": {},
     "output_type": "execute_result"
    }
   ],
   "source": [
    "type(a)"
   ]
  },
  {
   "cell_type": "code",
   "execution_count": 23,
   "id": "5792b438",
   "metadata": {},
   "outputs": [],
   "source": [
    "import pandas as pd"
   ]
  },
  {
   "cell_type": "code",
   "execution_count": 27,
   "id": "0af32962",
   "metadata": {},
   "outputs": [],
   "source": [
    "a = pd.read_excel(\"FashionDataset.xlsx\")"
   ]
  },
  {
   "cell_type": "code",
   "execution_count": 26,
   "id": "22152353",
   "metadata": {},
   "outputs": [
    {
     "data": {
      "text/html": [
       "<div>\n",
       "<style scoped>\n",
       "    .dataframe tbody tr th:only-of-type {\n",
       "        vertical-align: middle;\n",
       "    }\n",
       "\n",
       "    .dataframe tbody tr th {\n",
       "        vertical-align: top;\n",
       "    }\n",
       "\n",
       "    .dataframe thead th {\n",
       "        text-align: right;\n",
       "    }\n",
       "</style>\n",
       "<table border=\"1\" class=\"dataframe\">\n",
       "  <thead>\n",
       "    <tr style=\"text-align: right;\">\n",
       "      <th></th>\n",
       "      <th>Unnamed: 0</th>\n",
       "      <th>work_year</th>\n",
       "      <th>experience_level</th>\n",
       "      <th>employment_type</th>\n",
       "      <th>job_title</th>\n",
       "      <th>salary</th>\n",
       "      <th>salary_currency</th>\n",
       "      <th>salary_in_usd</th>\n",
       "      <th>employee_residence</th>\n",
       "      <th>remote_ratio</th>\n",
       "      <th>company_location</th>\n",
       "      <th>company_size</th>\n",
       "    </tr>\n",
       "  </thead>\n",
       "  <tbody>\n",
       "    <tr>\n",
       "      <th>0</th>\n",
       "      <td>0</td>\n",
       "      <td>2020</td>\n",
       "      <td>MI</td>\n",
       "      <td>FT</td>\n",
       "      <td>Data Scientist</td>\n",
       "      <td>70000</td>\n",
       "      <td>EUR</td>\n",
       "      <td>79833</td>\n",
       "      <td>DE</td>\n",
       "      <td>0</td>\n",
       "      <td>DE</td>\n",
       "      <td>L</td>\n",
       "    </tr>\n",
       "    <tr>\n",
       "      <th>1</th>\n",
       "      <td>1</td>\n",
       "      <td>2020</td>\n",
       "      <td>SE</td>\n",
       "      <td>FT</td>\n",
       "      <td>Machine Learning Scientist</td>\n",
       "      <td>260000</td>\n",
       "      <td>USD</td>\n",
       "      <td>260000</td>\n",
       "      <td>JP</td>\n",
       "      <td>0</td>\n",
       "      <td>JP</td>\n",
       "      <td>S</td>\n",
       "    </tr>\n",
       "    <tr>\n",
       "      <th>2</th>\n",
       "      <td>2</td>\n",
       "      <td>2020</td>\n",
       "      <td>SE</td>\n",
       "      <td>FT</td>\n",
       "      <td>Big Data Engineer</td>\n",
       "      <td>85000</td>\n",
       "      <td>GBP</td>\n",
       "      <td>109024</td>\n",
       "      <td>GB</td>\n",
       "      <td>50</td>\n",
       "      <td>GB</td>\n",
       "      <td>M</td>\n",
       "    </tr>\n",
       "    <tr>\n",
       "      <th>3</th>\n",
       "      <td>3</td>\n",
       "      <td>2020</td>\n",
       "      <td>MI</td>\n",
       "      <td>FT</td>\n",
       "      <td>Product Data Analyst</td>\n",
       "      <td>20000</td>\n",
       "      <td>USD</td>\n",
       "      <td>20000</td>\n",
       "      <td>HN</td>\n",
       "      <td>0</td>\n",
       "      <td>HN</td>\n",
       "      <td>S</td>\n",
       "    </tr>\n",
       "    <tr>\n",
       "      <th>4</th>\n",
       "      <td>4</td>\n",
       "      <td>2020</td>\n",
       "      <td>SE</td>\n",
       "      <td>FT</td>\n",
       "      <td>Machine Learning Engineer</td>\n",
       "      <td>150000</td>\n",
       "      <td>USD</td>\n",
       "      <td>150000</td>\n",
       "      <td>US</td>\n",
       "      <td>50</td>\n",
       "      <td>US</td>\n",
       "      <td>L</td>\n",
       "    </tr>\n",
       "    <tr>\n",
       "      <th>5</th>\n",
       "      <td>5</td>\n",
       "      <td>2020</td>\n",
       "      <td>EN</td>\n",
       "      <td>FT</td>\n",
       "      <td>Data Analyst</td>\n",
       "      <td>72000</td>\n",
       "      <td>USD</td>\n",
       "      <td>72000</td>\n",
       "      <td>US</td>\n",
       "      <td>100</td>\n",
       "      <td>US</td>\n",
       "      <td>L</td>\n",
       "    </tr>\n",
       "    <tr>\n",
       "      <th>6</th>\n",
       "      <td>6</td>\n",
       "      <td>2020</td>\n",
       "      <td>SE</td>\n",
       "      <td>FT</td>\n",
       "      <td>Lead Data Scientist</td>\n",
       "      <td>190000</td>\n",
       "      <td>USD</td>\n",
       "      <td>190000</td>\n",
       "      <td>US</td>\n",
       "      <td>100</td>\n",
       "      <td>US</td>\n",
       "      <td>S</td>\n",
       "    </tr>\n",
       "    <tr>\n",
       "      <th>7</th>\n",
       "      <td>7</td>\n",
       "      <td>2020</td>\n",
       "      <td>MI</td>\n",
       "      <td>FT</td>\n",
       "      <td>Data Scientist</td>\n",
       "      <td>11000000</td>\n",
       "      <td>HUF</td>\n",
       "      <td>35735</td>\n",
       "      <td>HU</td>\n",
       "      <td>50</td>\n",
       "      <td>HU</td>\n",
       "      <td>L</td>\n",
       "    </tr>\n",
       "    <tr>\n",
       "      <th>8</th>\n",
       "      <td>8</td>\n",
       "      <td>2020</td>\n",
       "      <td>MI</td>\n",
       "      <td>FT</td>\n",
       "      <td>Business Data Analyst</td>\n",
       "      <td>135000</td>\n",
       "      <td>USD</td>\n",
       "      <td>135000</td>\n",
       "      <td>US</td>\n",
       "      <td>100</td>\n",
       "      <td>US</td>\n",
       "      <td>L</td>\n",
       "    </tr>\n",
       "    <tr>\n",
       "      <th>9</th>\n",
       "      <td>9</td>\n",
       "      <td>2020</td>\n",
       "      <td>SE</td>\n",
       "      <td>FT</td>\n",
       "      <td>Lead Data Engineer</td>\n",
       "      <td>125000</td>\n",
       "      <td>USD</td>\n",
       "      <td>125000</td>\n",
       "      <td>NZ</td>\n",
       "      <td>50</td>\n",
       "      <td>NZ</td>\n",
       "      <td>S</td>\n",
       "    </tr>\n",
       "  </tbody>\n",
       "</table>\n",
       "</div>"
      ],
      "text/plain": [
       "   Unnamed: 0  work_year experience_level employment_type  \\\n",
       "0           0       2020               MI              FT   \n",
       "1           1       2020               SE              FT   \n",
       "2           2       2020               SE              FT   \n",
       "3           3       2020               MI              FT   \n",
       "4           4       2020               SE              FT   \n",
       "5           5       2020               EN              FT   \n",
       "6           6       2020               SE              FT   \n",
       "7           7       2020               MI              FT   \n",
       "8           8       2020               MI              FT   \n",
       "9           9       2020               SE              FT   \n",
       "\n",
       "                    job_title    salary salary_currency  salary_in_usd  \\\n",
       "0              Data Scientist     70000             EUR          79833   \n",
       "1  Machine Learning Scientist    260000             USD         260000   \n",
       "2           Big Data Engineer     85000             GBP         109024   \n",
       "3        Product Data Analyst     20000             USD          20000   \n",
       "4   Machine Learning Engineer    150000             USD         150000   \n",
       "5                Data Analyst     72000             USD          72000   \n",
       "6         Lead Data Scientist    190000             USD         190000   \n",
       "7              Data Scientist  11000000             HUF          35735   \n",
       "8       Business Data Analyst    135000             USD         135000   \n",
       "9          Lead Data Engineer    125000             USD         125000   \n",
       "\n",
       "  employee_residence  remote_ratio company_location company_size  \n",
       "0                 DE             0               DE            L  \n",
       "1                 JP             0               JP            S  \n",
       "2                 GB            50               GB            M  \n",
       "3                 HN             0               HN            S  \n",
       "4                 US            50               US            L  \n",
       "5                 US           100               US            L  \n",
       "6                 US           100               US            S  \n",
       "7                 HU            50               HU            L  \n",
       "8                 US           100               US            L  \n",
       "9                 NZ            50               NZ            S  "
      ]
     },
     "execution_count": 26,
     "metadata": {},
     "output_type": "execute_result"
    }
   ],
   "source": [
    "a.head(10)"
   ]
  },
  {
   "cell_type": "code",
   "execution_count": 28,
   "id": "498441fc",
   "metadata": {},
   "outputs": [],
   "source": [
    "import numpy as np\n"
   ]
  },
  {
   "cell_type": "code",
   "execution_count": 29,
   "id": "2f215266",
   "metadata": {},
   "outputs": [],
   "source": [
    "a = np.array(4)"
   ]
  },
  {
   "cell_type": "code",
   "execution_count": 30,
   "id": "439fe951",
   "metadata": {},
   "outputs": [],
   "source": [
    "a1 = np.array([44,55,66])"
   ]
  },
  {
   "cell_type": "code",
   "execution_count": 31,
   "id": "50c60fde",
   "metadata": {},
   "outputs": [
    {
     "data": {
      "text/plain": [
       "array([44, 55, 66])"
      ]
     },
     "execution_count": 31,
     "metadata": {},
     "output_type": "execute_result"
    }
   ],
   "source": [
    "a1"
   ]
  },
  {
   "cell_type": "code",
   "execution_count": 32,
   "id": "fbd70ddc",
   "metadata": {},
   "outputs": [
    {
     "data": {
      "text/plain": [
       "array(4)"
      ]
     },
     "execution_count": 32,
     "metadata": {},
     "output_type": "execute_result"
    }
   ],
   "source": [
    "a"
   ]
  },
  {
   "cell_type": "code",
   "execution_count": 34,
   "id": "96430c92",
   "metadata": {},
   "outputs": [
    {
     "data": {
      "text/plain": [
       "numpy.ndarray"
      ]
     },
     "execution_count": 34,
     "metadata": {},
     "output_type": "execute_result"
    }
   ],
   "source": [
    "type(a1)"
   ]
  },
  {
   "cell_type": "code",
   "execution_count": 37,
   "id": "57432d62",
   "metadata": {},
   "outputs": [],
   "source": [
    "a = pd.Series([44,33 + 22j, 44.65])"
   ]
  },
  {
   "cell_type": "code",
   "execution_count": 38,
   "id": "653d8f19",
   "metadata": {},
   "outputs": [
    {
     "data": {
      "text/plain": [
       "0    44.00+0.00j\n",
       "1     33.0+22.0j\n",
       "2    44.65+0.00j\n",
       "dtype: complex128"
      ]
     },
     "execution_count": 38,
     "metadata": {},
     "output_type": "execute_result"
    }
   ],
   "source": [
    "a"
   ]
  },
  {
   "cell_type": "code",
   "execution_count": null,
   "id": "bdc3ae38",
   "metadata": {},
   "outputs": [],
   "source": []
  }
 ],
 "metadata": {
  "kernelspec": {
   "display_name": "Python 3 (ipykernel)",
   "language": "python",
   "name": "python3"
  },
  "language_info": {
   "codemirror_mode": {
    "name": "ipython",
    "version": 3
   },
   "file_extension": ".py",
   "mimetype": "text/x-python",
   "name": "python",
   "nbconvert_exporter": "python",
   "pygments_lexer": "ipython3",
   "version": "3.9.7"
  }
 },
 "nbformat": 4,
 "nbformat_minor": 5
}
