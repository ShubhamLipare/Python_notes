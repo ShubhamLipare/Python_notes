{
 "cells": [
  {
   "cell_type": "code",
   "execution_count": 1,
   "metadata": {
    "colab": {},
    "colab_type": "code",
    "id": "mRcQNUfC0UTS"
   },
   "outputs": [
    {
     "data": {
      "text/plain": [
       "['Happy', [2, 0, 1, 5]]"
      ]
     },
     "execution_count": 1,
     "metadata": {},
     "output_type": "execute_result"
    }
   ],
   "source": [
    "# empty list\n",
    "a = [ ]\n",
    "\n",
    "# list of integers\n",
    "a_1= [1, 2, 3] # Static typing\n",
    "\n",
    "# list with mixed datatypes\n",
    "a_2 = [1, \"Hello\", 3.4]\n",
    "# Dynamic Typing\n",
    "\n",
    "# nested list\n",
    "a_3 = [\"Happy\", [2,0,1,5]] # list inside a list\n",
    "a_3"
   ]
  },
  {
   "cell_type": "code",
   "execution_count": 2,
   "metadata": {
    "colab": {
     "base_uri": "https://localhost:8080/",
     "height": 34
    },
    "colab_type": "code",
    "executionInfo": {
     "elapsed": 2305,
     "status": "ok",
     "timestamp": 1575643359802,
     "user": {
      "displayName": "Alok Yadav",
      "photoUrl": "https://lh3.googleusercontent.com/a-/AAuE7mCoOPX57BUgY2lDZ55QM_P9IlAdFR6kykkAi76Yaw=s64",
      "userId": "13695401162967392961"
     },
     "user_tz": -330
    },
    "id": "GRMlJZtgqU19",
    "outputId": "3bcf7bff-bea6-4c54-cfec-34960cd44dd2"
   },
   "outputs": [
    {
     "data": {
      "text/plain": [
       "list"
      ]
     },
     "execution_count": 2,
     "metadata": {},
     "output_type": "execute_result"
    }
   ],
   "source": [
    "type(a_2)"
   ]
  },
  {
   "cell_type": "code",
   "execution_count": 3,
   "metadata": {
    "colab": {
     "base_uri": "https://localhost:8080/",
     "height": 34
    },
    "colab_type": "code",
    "executionInfo": {
     "elapsed": 825,
     "status": "ok",
     "timestamp": 1575643457832,
     "user": {
      "displayName": "Alok Yadav",
      "photoUrl": "https://lh3.googleusercontent.com/a-/AAuE7mCoOPX57BUgY2lDZ55QM_P9IlAdFR6kykkAi76Yaw=s64",
      "userId": "13695401162967392961"
     },
     "user_tz": -330
    },
    "id": "AMh47B9gqwV_",
    "outputId": "87a9240a-a9c5-460b-b778-65c6ad696472"
   },
   "outputs": [
    {
     "name": "stdout",
     "output_type": "stream",
     "text": [
      "I have 4 items to purchase.\n"
     ]
    }
   ],
   "source": [
    "b1 = ['apple', 'mango', 'carrot', 'banana']\n",
    "print('I have', len(b1), 'items to purchase.')"
   ]
  },
  {
   "cell_type": "code",
   "execution_count": 4,
   "metadata": {
    "colab": {
     "base_uri": "https://localhost:8080/",
     "height": 34
    },
    "colab_type": "code",
    "executionInfo": {
     "elapsed": 920,
     "status": "ok",
     "timestamp": 1575643607880,
     "user": {
      "displayName": "Alok Yadav",
      "photoUrl": "https://lh3.googleusercontent.com/a-/AAuE7mCoOPX57BUgY2lDZ55QM_P9IlAdFR6kykkAi76Yaw=s64",
      "userId": "13695401162967392961"
     },
     "user_tz": -330
    },
    "id": "K7U5H81zq-EB",
    "outputId": "87b48e07-d996-4962-abff-39b7cf771547"
   },
   "outputs": [
    {
     "data": {
      "text/plain": [
       "'banana'"
      ]
     },
     "execution_count": 4,
     "metadata": {},
     "output_type": "execute_result"
    }
   ],
   "source": [
    "b1[-1]"
   ]
  },
  {
   "cell_type": "code",
   "execution_count": 3,
   "metadata": {
    "colab": {
     "base_uri": "https://localhost:8080/",
     "height": 163
    },
    "colab_type": "code",
    "executionInfo": {
     "elapsed": 927,
     "status": "error",
     "timestamp": 1575643826956,
     "user": {
      "displayName": "Alok Yadav",
      "photoUrl": "https://lh3.googleusercontent.com/a-/AAuE7mCoOPX57BUgY2lDZ55QM_P9IlAdFR6kykkAi76Yaw=s64",
      "userId": "13695401162967392961"
     },
     "user_tz": -330
    },
    "id": "w2LJnD8ErypR",
    "outputId": "d135b7b2-9d2b-4c9f-f536-5b168774351f"
   },
   "outputs": [
    {
     "ename": "NameError",
     "evalue": "name 'b1' is not defined",
     "output_type": "error",
     "traceback": [
      "\u001b[1;31m---------------------------------------------------------------------------\u001b[0m",
      "\u001b[1;31mNameError\u001b[0m                                 Traceback (most recent call last)",
      "\u001b[1;32m~\\AppData\\Local\\Temp/ipykernel_8000/1056248647.py\u001b[0m in \u001b[0;36m<module>\u001b[1;34m\u001b[0m\n\u001b[1;32m----> 1\u001b[1;33m \u001b[0mb1\u001b[0m\u001b[1;33m.\u001b[0m\u001b[0mappend\u001b[0m\u001b[1;33m(\u001b[0m\u001b[1;34m'Brinjal'\u001b[0m\u001b[1;33m,\u001b[0m \u001b[1;34m'Potato'\u001b[0m\u001b[1;33m)\u001b[0m\u001b[1;33m\u001b[0m\u001b[1;33m\u001b[0m\u001b[0m\n\u001b[0m",
      "\u001b[1;31mNameError\u001b[0m: name 'b1' is not defined"
     ]
    }
   ],
   "source": [
    "b1.append('Brinjal', 'Potato')"
   ]
  },
  {
   "cell_type": "code",
   "execution_count": 2,
   "metadata": {
    "colab": {},
    "colab_type": "code",
    "id": "uQ31tD-R0UTt",
    "outputId": "bc993c18-63e3-40d0-d37b-910943a99f1c"
   },
   "outputs": [
    {
     "name": "stdout",
     "output_type": "stream",
     "text": [
      "\n",
      "I also have to buy rice.\n"
     ]
    },
    {
     "ename": "NameError",
     "evalue": "name 'b1' is not defined",
     "output_type": "error",
     "traceback": [
      "\u001b[1;31m---------------------------------------------------------------------------\u001b[0m",
      "\u001b[1;31mNameError\u001b[0m                                 Traceback (most recent call last)",
      "\u001b[1;32m~\\AppData\\Local\\Temp/ipykernel_8000/264645560.py\u001b[0m in \u001b[0;36m<module>\u001b[1;34m\u001b[0m\n\u001b[0;32m      4\u001b[0m \u001b[0mprint\u001b[0m\u001b[1;33m(\u001b[0m\u001b[1;34m'\\nI also have to buy rice.'\u001b[0m\u001b[1;33m)\u001b[0m\u001b[1;33m\u001b[0m\u001b[1;33m\u001b[0m\u001b[0m\n\u001b[0;32m      5\u001b[0m \u001b[1;33m\u001b[0m\u001b[0m\n\u001b[1;32m----> 6\u001b[1;33m \u001b[0mb1\u001b[0m\u001b[1;33m.\u001b[0m\u001b[0mappend\u001b[0m\u001b[1;33m(\u001b[0m\u001b[1;34m'rice'\u001b[0m\u001b[1;33m)\u001b[0m\u001b[1;33m\u001b[0m\u001b[1;33m\u001b[0m\u001b[0m\n\u001b[0m\u001b[0;32m      7\u001b[0m \u001b[0mprint\u001b[0m\u001b[1;33m(\u001b[0m\u001b[1;34m'My shopping list is now'\u001b[0m\u001b[1;33m,\u001b[0m \u001b[0mb1\u001b[0m\u001b[1;33m)\u001b[0m\u001b[1;33m\u001b[0m\u001b[1;33m\u001b[0m\u001b[0m\n\u001b[0;32m      8\u001b[0m \u001b[1;33m\u001b[0m\u001b[0m\n",
      "\u001b[1;31mNameError\u001b[0m: name 'b1' is not defined"
     ]
    }
   ],
   "source": [
    "# append to list\n",
    "# add one item to a list using append() method or \n",
    "# add several items using extend()\n",
    "print('\\nI also have to buy rice.')\n",
    "\n",
    "b1.append('rice')\n",
    "print('My shopping list is now', b1)\n",
    "\n",
    "b1.extend(['table', 'chair', 'pen']) #nested list\n",
    "print('My shopping list is now', b1)\n",
    "\n",
    "# use + operator to combine two lists. This is also called concatenation.\n",
    "b2 = ['a', 'b', 'c']\n",
    "\n",
    "b3  = b1 + b2\n",
    "print('My shopping list is now', b3)"
   ]
  },
  {
   "cell_type": "code",
   "execution_count": 7,
   "metadata": {},
   "outputs": [
    {
     "data": {
      "text/plain": [
       "[1, 2, 3, 4]"
      ]
     },
     "execution_count": 7,
     "metadata": {},
     "output_type": "execute_result"
    }
   ],
   "source": [
    "a = [1,2,3]\n",
    "a.append(4)\n",
    "a\n"
   ]
  },
  {
   "cell_type": "code",
   "execution_count": 8,
   "metadata": {},
   "outputs": [
    {
     "data": {
      "text/plain": [
       "[1, 2, 3, 4, 5, 6, 7, 8]"
      ]
     },
     "execution_count": 8,
     "metadata": {},
     "output_type": "execute_result"
    }
   ],
   "source": [
    "a.extend([5,6,7,8])\n",
    "a"
   ]
  },
  {
   "cell_type": "code",
   "execution_count": 9,
   "metadata": {
    "colab": {
     "base_uri": "https://localhost:8080/",
     "height": 90
    },
    "colab_type": "code",
    "executionInfo": {
     "elapsed": 953,
     "status": "ok",
     "timestamp": 1565276816897,
     "user": {
      "displayName": "Alok Yadav",
      "photoUrl": "https://lh6.googleusercontent.com/-9QaRCkEugog/AAAAAAAAAAI/AAAAAAAAAUQ/6iA5sNF8tos/s64/photo.jpg",
      "userId": "13695401162967392961"
     },
     "user_tz": -330
    },
    "id": "tsaK6DyG0UUA",
    "outputId": "46b5e2dd-7138-453c-bd0a-b79afb73fdb2"
   },
   "outputs": [
    {
     "name": "stdout",
     "output_type": "stream",
     "text": [
      "apple\n",
      "mango\n",
      "nana\n",
      "g\n"
     ]
    }
   ],
   "source": [
    "\n",
    "# accessing a list\n",
    "print(b3[0])\n",
    "print(b3[1])\n",
    "\n",
    "print(b3[ 3][2:7]) # First bracket for selecting the word & next for slicing..   \n",
    "\n",
    "print(b3[1][3]) # It does not support -ve indexing.."
   ]
  },
  {
   "cell_type": "code",
   "execution_count": null,
   "metadata": {
    "colab": {
     "base_uri": "https://localhost:8080/",
     "height": 54
    },
    "colab_type": "code",
    "executionInfo": {
     "elapsed": 1028,
     "status": "ok",
     "timestamp": 1565277022889,
     "user": {
      "displayName": "Alok Yadav",
      "photoUrl": "https://lh6.googleusercontent.com/-9QaRCkEugog/AAAAAAAAAAI/AAAAAAAAAUQ/6iA5sNF8tos/s64/photo.jpg",
      "userId": "13695401162967392961"
     },
     "user_tz": -330
    },
    "id": "C2SKOFJt0UUG",
    "outputId": "af23f88a-24f8-4920-e1e3-160203fdbce2"
   },
   "outputs": [],
   "source": [
    "# Negative indexing\n",
    "# Python allows negative indexing for its sequences. \n",
    "# The index of -1 refers to the last item, -2 to the second last item and so on.\n",
    "print(b3[-1])\n",
    "print(b3[-4])"
   ]
  },
  {
   "cell_type": "code",
   "execution_count": null,
   "metadata": {
    "colab": {},
    "colab_type": "code",
    "id": "PdVFZi900UUQ",
    "outputId": "8f1b15ba-82f4-4f5f-afa1-c1ced97d1331"
   },
   "outputs": [],
   "source": [
    "print(b3)"
   ]
  },
  {
   "cell_type": "code",
   "execution_count": 1,
   "metadata": {
    "colab": {},
    "colab_type": "code",
    "id": "X6BOafjv0UUX",
    "outputId": "9bf42ba7-fc80-4117-8556-b21501132b3b"
   },
   "outputs": [
    {
     "ename": "NameError",
     "evalue": "name 'b3' is not defined",
     "output_type": "error",
     "traceback": [
      "\u001b[1;31m---------------------------------------------------------------------------\u001b[0m",
      "\u001b[1;31mNameError\u001b[0m                                 Traceback (most recent call last)",
      "\u001b[1;32m~\\AppData\\Local\\Temp/ipykernel_8000/1912570397.py\u001b[0m in \u001b[0;36m<module>\u001b[1;34m\u001b[0m\n\u001b[0;32m      1\u001b[0m \u001b[1;31m# slice lists\u001b[0m\u001b[1;33m\u001b[0m\u001b[1;33m\u001b[0m\u001b[0m\n\u001b[0;32m      2\u001b[0m \u001b[1;31m# elements beginning to 3rd\u001b[0m\u001b[1;33m\u001b[0m\u001b[1;33m\u001b[0m\u001b[0m\n\u001b[1;32m----> 3\u001b[1;33m \u001b[0mprint\u001b[0m\u001b[1;33m(\u001b[0m\u001b[0mb3\u001b[0m\u001b[1;33m[\u001b[0m\u001b[1;36m1\u001b[0m\u001b[1;33m:\u001b[0m\u001b[1;36m4\u001b[0m\u001b[1;33m]\u001b[0m\u001b[1;33m)\u001b[0m\u001b[1;33m\u001b[0m\u001b[1;33m\u001b[0m\u001b[0m\n\u001b[0m\u001b[0;32m      4\u001b[0m \u001b[1;33m\u001b[0m\u001b[0m\n\u001b[0;32m      5\u001b[0m \u001b[1;31m# elements 2nd to end\u001b[0m\u001b[1;33m\u001b[0m\u001b[1;33m\u001b[0m\u001b[0m\n",
      "\u001b[1;31mNameError\u001b[0m: name 'b3' is not defined"
     ]
    }
   ],
   "source": [
    "# slice lists \n",
    "# elements beginning to 3rd\n",
    "print(b3[1:4])\n",
    "\n",
    "# elements 2nd to end\n",
    "print(b3[2:])\n",
    "\n",
    "# elements beginning to end\n",
    "print(b3[:])"
   ]
  },
  {
   "cell_type": "code",
   "execution_count": null,
   "metadata": {},
   "outputs": [],
   "source": [
    "b2"
   ]
  },
  {
   "cell_type": "code",
   "execution_count": null,
   "metadata": {
    "colab": {},
    "colab_type": "code",
    "id": "fu6Xa3Wh0UUd",
    "outputId": "359f33f2-c4e4-43e1-8ff4-fef18a2b9a2d"
   },
   "outputs": [],
   "source": [
    "# sort the list\n",
    "print('I will sort my list now')\n",
    "b3.sort() \n",
    "\n",
    "print('Sorted shopping list is', b3)\n"
   ]
  },
  {
   "cell_type": "code",
   "execution_count": null,
   "metadata": {
    "colab": {},
    "colab_type": "code",
    "id": "ht7Z8DiX0UUi",
    "outputId": "9f0d86a7-9db4-489d-b93b-03e99cb7d1fa"
   },
   "outputs": [],
   "source": [
    "# make changes to list\n",
    "b3[1] = \"new item\"\n",
    "print(b3[:])"
   ]
  },
  {
   "cell_type": "code",
   "execution_count": null,
   "metadata": {
    "colab": {},
    "colab_type": "code",
    "id": "Be0UowFx0UUo",
    "outputId": "5b53d36e-06d4-4304-b9fd-aace638feba9",
    "scrolled": true
   },
   "outputs": [],
   "source": [
    "# delete a list item\n",
    "print('The first item I will buy is', b3[0])\n",
    "olditem = b3[0]\n",
    "\n",
    "del b3\n",
    "print('I bought the', b3)\n",
    "print('My shopping list is now', b3)"
   ]
  },
  {
   "cell_type": "code",
   "execution_count": null,
   "metadata": {
    "colab": {},
    "colab_type": "code",
    "id": "hgJ0k1se0UUw"
   },
   "outputs": [],
   "source": [
    "# Remove method: takes a value as input, searches for it, \n",
    "# removes the first match. If the item is not found it errors out\n",
    "\n",
    "# del function: removes an item at a specific index, can delete all elements or a slice\n",
    "# pop method: by default, it removes and returns the last element but you \n",
    "# can pop any element by providing an index"
   ]
  },
  {
   "cell_type": "code",
   "execution_count": null,
   "metadata": {
    "colab": {},
    "colab_type": "code",
    "id": "xbT90g_K0UU1",
    "outputId": "bab6379d-3086-4939-92ca-70522bf49b92"
   },
   "outputs": [],
   "source": [
    "A = [1, 2, 4, 3,4 ]\n",
    "A.remove (4)\n",
    "\n",
    "# This will print [1, 2, 3, 4]\n",
    "print(\"Example 1 : A = {}\".format(A))"
   ]
  },
  {
   "cell_type": "code",
   "execution_count": null,
   "metadata": {
    "colab": {},
    "colab_type": "code",
    "id": "Hq4TLgPt0UU7",
    "outputId": "47e4beb9-0e24-45f2-916f-dab1e6170d3e"
   },
   "outputs": [],
   "source": [
    "# (2) Delete an item with index\n",
    "A = [1, 2, 4, 3, 4]\n",
    "del A[2]\n",
    "\n",
    "# This will print [1, 2, 3, 4]\n",
    "print(\"Example 2 : A = {}\".format(A))"
   ]
  },
  {
   "cell_type": "code",
   "execution_count": null,
   "metadata": {
    "colab": {},
    "colab_type": "code",
    "id": "5rP4rBjF0UVB",
    "outputId": "0b7f9f3e-377b-4cb1-c8ef-429d0136f978"
   },
   "outputs": [],
   "source": [
    "# (3) Delete all items\n",
    "A = [1, 2, 4, 3, 4]\n",
    "del A[:]\n",
    "\n",
    "# This will print []\n",
    "print(\"Example 3 : A = {}\".format(A))"
   ]
  },
  {
   "cell_type": "code",
   "execution_count": null,
   "metadata": {
    "colab": {},
    "colab_type": "code",
    "id": "lHZ5MhJBukav"
   },
   "outputs": [],
   "source": [
    "# (4) Delete a slice 2, 4\n",
    "A = [1, 2, 4, 3, 4]\n",
    "del A[1:3]\n",
    "A"
   ]
  },
  {
   "cell_type": "code",
   "execution_count": null,
   "metadata": {
    "colab": {
     "base_uri": "https://localhost:8080/",
     "height": 34
    },
    "colab_type": "code",
    "executionInfo": {
     "elapsed": 1181,
     "status": "ok",
     "timestamp": 1575644476587,
     "user": {
      "displayName": "Alok Yadav",
      "photoUrl": "https://lh3.googleusercontent.com/a-/AAuE7mCoOPX57BUgY2lDZ55QM_P9IlAdFR6kykkAi76Yaw=s64",
      "userId": "13695401162967392961"
     },
     "user_tz": -330
    },
    "id": "6mhbQe7uumTB",
    "outputId": "c63d9bca-0373-470d-82f6-7ae9e8945ddf"
   },
   "outputs": [],
   "source": [
    "print(A)"
   ]
  },
  {
   "cell_type": "code",
   "execution_count": null,
   "metadata": {
    "colab": {},
    "colab_type": "code",
    "id": "3J0Pc04x0UVK",
    "outputId": "9aedc895-39b6-4f11-c04e-6b16dee28c59"
   },
   "outputs": [],
   "source": [
    "# (4) Delete a slice 2, 4\n",
    "A = [1, 2, 4, 3, 4]\n",
    "del A[1:3]\n",
    "\n",
    "# This will print [1, 3, 4]\n",
    "print(\"Example 4 : A = {}\".format(A))"
   ]
  },
  {
   "cell_type": "code",
   "execution_count": null,
   "metadata": {
    "colab": {
     "base_uri": "https://localhost:8080/",
     "height": 54
    },
    "colab_type": "code",
    "executionInfo": {
     "elapsed": 1140,
     "status": "ok",
     "timestamp": 1565277179367,
     "user": {
      "displayName": "Alok Yadav",
      "photoUrl": "https://lh6.googleusercontent.com/-9QaRCkEugog/AAAAAAAAAAI/AAAAAAAAAUQ/6iA5sNF8tos/s64/photo.jpg",
      "userId": "13695401162967392961"
     },
     "user_tz": -330
    },
    "id": "L6up333p0UVS",
    "outputId": "09a87a6e-8758-44aa-d96e-d63d2eba4a74"
   },
   "outputs": [],
   "source": [
    "# (5) pop: remove and get the last item\n",
    "A = [1, 2, 4, 3, 4]\n",
    "x = A.pop(1)\n",
    "print(x)\n",
    "# This will print [1, 2, 4, 3]\n",
    "print(\"Example 5 : A = {}\".format(A))\n",
    "\n",
    "# This will print 4\n",
    "print(\"Example 5 : x = {}\".format(x))"
   ]
  },
  {
   "cell_type": "code",
   "execution_count": null,
   "metadata": {
    "colab": {},
    "colab_type": "code",
    "id": "e3I64Oa40UVY",
    "outputId": "31d35e76-0234-4cb9-9a0a-2b5f84f2d6d7"
   },
   "outputs": [],
   "source": [
    "# (6) pop with index: remove and get the second item\n",
    "A = [1, 2, 4, 3, 4]\n",
    "x = A.pop(1)\n",
    "x\n",
    "\n",
    "\n"
   ]
  },
  {
   "cell_type": "code",
   "execution_count": null,
   "metadata": {
    "colab": {},
    "colab_type": "code",
    "id": "GNoqZmuN0UVf"
   },
   "outputs": [],
   "source": [
    "# Python List Methods\n",
    "# Methods that are available with list object \n",
    "\n",
    "# Are accessed as list.method(). \n",
    "'''\n",
    "append() - Add an element to the end of the list\n",
    "extend() - Add all elements of a list to the another list\n",
    "insert() - Insert an item at the defined index\n",
    "remove() - Removes an item from the list\n",
    "pop() - Removes and returns an element at the given index\n",
    "clear() - Removes all items from the list\n",
    "index() - Returns the index of the first matched item\n",
    "count() - Returns the count of number of items passed as an argument\n",
    "sort() - Sort items in a list in ascending order\n",
    "reverse() - Reverse the order of items in the list\n",
    "copy() - Returns a shallow copy of the list\n",
    "'''"
   ]
  },
  {
   "cell_type": "code",
   "execution_count": null,
   "metadata": {
    "colab": {},
    "colab_type": "code",
    "id": "7C_f1Pko0UWH",
    "outputId": "71e7c167-8922-402d-ce98-80e3e8f40d6b"
   },
   "outputs": [],
   "source": [
    "# creating list of \n",
    "powerList = []\n",
    "for x in range(10):\n",
    "    powerList.append(2 ** x)\n",
    "\n",
    "print(powerList)\n"
   ]
  },
  {
   "cell_type": "code",
   "execution_count": null,
   "metadata": {
    "colab": {},
    "colab_type": "code",
    "id": "J-d7t7Fa0UWT"
   },
   "outputs": [],
   "source": [
    "# list comprehension\n",
    "# List comprehension consists of an expression followed by for statement \n",
    "# inside square ** x for x in range(10)e brackets.\n",
    "powerList = [2]"
   ]
  },
  {
   "cell_type": "code",
   "execution_count": null,
   "metadata": {
    "colab": {},
    "colab_type": "code",
    "id": "gF452RMm0UWX",
    "outputId": "d8d6f325-ea62-4528-8126-86a5905b9a08"
   },
   "outputs": [],
   "source": [
    "# list comprehension with if \n",
    "powerList = [2 ** x for x in range(10) ]\n",
    "\n",
    "print(powerList)"
   ]
  },
  {
   "cell_type": "code",
   "execution_count": null,
   "metadata": {
    "colab": {},
    "colab_type": "code",
    "id": "UstNBaFH0UWd",
    "outputId": "1f2fdecd-5188-4360-c0b9-b4289b9ca203"
   },
   "outputs": [],
   "source": [
    "  for x in range(10):\n",
    "    print(x)"
   ]
  },
  {
   "cell_type": "code",
   "execution_count": null,
   "metadata": {
    "colab": {},
    "colab_type": "code",
    "id": "zZFhpr3R0UWk",
    "outputId": "ed98916c-9ef8-4601-eecf-cca4fff0507e"
   },
   "outputs": [],
   "source": [
    "# build powerList of odd numbers\n",
    "oddpowerList = [ x for x in range(20) if x % 2 == 1]\n",
    "print(oddpowerList)\n",
    "oddpowerList = [ x for x in range(10)]\n",
    "print(oddpowerList)"
   ]
  },
  {
   "cell_type": "code",
   "execution_count": null,
   "metadata": {
    "colab": {},
    "colab_type": "code",
    "id": "jcwgLapz0UWx",
    "outputId": "7c4996cd-9196-4e6b-95c9-a72ccbb3eebd"
   },
   "outputs": [],
   "source": [
    "# build powerList of even numbers\n",
    "evenpowerList = [2 ** x for x in range(20) if x % 2 == 0]\n",
    "print(evenpowerList)"
   ]
  },
  {
   "cell_type": "code",
   "execution_count": null,
   "metadata": {
    "colab": {},
    "colab_type": "code",
    "id": "XZL4ucFw0UW7",
    "outputId": "266128df-99f3-40e3-a5ed-66cd07cb0a74"
   },
   "outputs": [],
   "source": [
    "# Iterating Through a List\n",
    "for listItem in shoplist:\n",
    "    print(\"I like - \", listItem)"
   ]
  },
  {
   "cell_type": "code",
   "execution_count": null,
   "metadata": {
    "colab": {},
    "colab_type": "code",
    "id": "-FZzEReq0UXB"
   },
   "outputs": [],
   "source": [
    "'''\n",
    "Built-in Functions with List\n",
    "all()\tReturn True if all elements of the list are true \n",
    "        (or if the list is empty).\n",
    "any()\tReturn True if any element of the list is true. \n",
    "        If the list is empty, return False.\n",
    "enumerate()\tReturn an enumerate object. It contains the index \n",
    "            and value of all the items of list as a tuple.\n",
    "len()\tReturn the length (the number of items) in the list.\n",
    "list()\tConvert an iterable (tuple, string, set, dictionary) to a list.\n",
    "max()\tReturn the largest item in the list.\n",
    "min()\tReturn the smallest item in the list\n",
    "sorted()\tReturn a new sorted list (does not sort the list itself).\n",
    "sum()\tReturn the sum of all elements in the list.\n",
    "'''"
   ]
  },
  {
   "cell_type": "code",
   "execution_count": null,
   "metadata": {
    "colab": {},
    "colab_type": "code",
    "id": "KSgiIm7p0UXH",
    "outputId": "06f5bb61-4150-4170-a095-9d081c1e2465"
   },
   "outputs": [],
   "source": [
    "lst = [\"hh\",\"ff\"]\n",
    "all(lst)\n"
   ]
  },
  {
   "cell_type": "code",
   "execution_count": null,
   "metadata": {
    "colab": {},
    "colab_type": "code",
    "id": "vitOAi6p0UXO",
    "outputId": "8be9314a-9994-43c9-ce6a-6e6f0285db33"
   },
   "outputs": [],
   "source": [
    "# enumerate()\n",
    "grocery = ['bread', 'milk', 'butter']\n",
    "\n",
    "enumerateGrocery = enumerate(grocery)\n",
    "\n",
    "print(list(enumerateGrocery))"
   ]
  },
  {
   "cell_type": "code",
   "execution_count": null,
   "metadata": {
    "colab": {},
    "colab_type": "code",
    "id": "afEVKySP0UXS",
    "outputId": "e8b1eb45-d4e7-4d76-be36-81b1a939da17"
   },
   "outputs": [],
   "source": [
    "enumerateGrocery = enumerate(grocery, 100)\n",
    "\n",
    "print(list(enumerateGrocery))"
   ]
  },
  {
   "cell_type": "code",
   "execution_count": null,
   "metadata": {
    "colab": {},
    "colab_type": "code",
    "id": "HsrWF8IX0UXe"
   },
   "outputs": [],
   "source": [
    "# Looping Over an Enumerate object\n",
    "for item in enumerateGrocery:\n",
    "    print(item)"
   ]
  },
  {
   "cell_type": "code",
   "execution_count": null,
   "metadata": {
    "colab": {},
    "colab_type": "code",
    "id": "lrIW0Ie60UXj",
    "outputId": "0f82a7fa-49e7-4b96-fccd-88e48f301f58"
   },
   "outputs": [],
   "source": [
    "# len()\n",
    "grocery = ['bread', 'milk', 'butter',]\n",
    "len(grocery)\n",
    "a = [11,234,7768,989,7675,3,634455]\n",
    "max(a)\n",
    "min(a)\n",
    "a."
   ]
  },
  {
   "cell_type": "code",
   "execution_count": null,
   "metadata": {
    "colab": {},
    "colab_type": "code",
    "id": "UqHzRnJ60UXp",
    "outputId": "c15dbaac-fd50-4876-e898-f95f8d87f369"
   },
   "outputs": [],
   "source": [
    "max(grocery)\n"
   ]
  },
  {
   "cell_type": "code",
   "execution_count": null,
   "metadata": {
    "colab": {},
    "colab_type": "code",
    "id": "qvWED2zN0UXu",
    "outputId": "c43ee8f7-e554-41a2-b8b5-067d00dcdc7b"
   },
   "outputs": [],
   "source": [
    "min(grocery)"
   ]
  },
  {
   "cell_type": "code",
   "execution_count": null,
   "metadata": {
    "colab": {},
    "colab_type": "code",
    "id": "JWZ6CvSA0UX2"
   },
   "outputs": [],
   "source": [
    "import sys"
   ]
  },
  {
   "cell_type": "code",
   "execution_count": null,
   "metadata": {},
   "outputs": [],
   "source": [
    "print(sys.getsizeof(grocery))# It give size in bytes"
   ]
  },
  {
   "cell_type": "code",
   "execution_count": null,
   "metadata": {},
   "outputs": [],
   "source": []
  }
 ],
 "metadata": {
  "colab": {
   "name": "python-data-structures-02-LIST.ipynb",
   "provenance": []
  },
  "kernelspec": {
   "display_name": "Python 3 (ipykernel)",
   "language": "python",
   "name": "python3"
  },
  "language_info": {
   "codemirror_mode": {
    "name": "ipython",
    "version": 3
   },
   "file_extension": ".py",
   "mimetype": "text/x-python",
   "name": "python",
   "nbconvert_exporter": "python",
   "pygments_lexer": "ipython3",
   "version": "3.9.7"
  }
 },
 "nbformat": 4,
 "nbformat_minor": 1
}
