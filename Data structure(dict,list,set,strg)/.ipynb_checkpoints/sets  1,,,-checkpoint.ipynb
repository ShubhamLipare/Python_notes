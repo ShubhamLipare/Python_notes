{
 "cells": [
  {
   "cell_type": "markdown",
   "id": "25fb1d43",
   "metadata": {},
   "source": [
    "# sets"
   ]
  },
  {
   "cell_type": "code",
   "execution_count": 11,
   "id": "ea3b553b",
   "metadata": {},
   "outputs": [],
   "source": [
    "a = {1,2,3,4,5,6,7}"
   ]
  },
  {
   "cell_type": "code",
   "execution_count": 12,
   "id": "03993cd4",
   "metadata": {},
   "outputs": [
    {
     "data": {
      "text/plain": [
       "{1, 2, 3, 4, 5, 6, 7}"
      ]
     },
     "execution_count": 12,
     "metadata": {},
     "output_type": "execute_result"
    }
   ],
   "source": [
    "a"
   ]
  },
  {
   "cell_type": "code",
   "execution_count": 13,
   "id": "7c807b62",
   "metadata": {},
   "outputs": [
    {
     "name": "stdout",
     "output_type": "stream",
     "text": [
      "{1, 2, 3, 4, 5, 6, 7}\n"
     ]
    }
   ],
   "source": [
    "print(a)"
   ]
  },
  {
   "cell_type": "code",
   "execution_count": null,
   "id": "328980e0",
   "metadata": {},
   "outputs": [],
   "source": []
  },
  {
   "cell_type": "code",
   "execution_count": null,
   "id": "7089f948",
   "metadata": {},
   "outputs": [],
   "source": []
  },
  {
   "cell_type": "code",
   "execution_count": 24,
   "id": "a66b5c22",
   "metadata": {},
   "outputs": [
    {
     "data": {
      "text/plain": [
       "set"
      ]
     },
     "execution_count": 24,
     "metadata": {},
     "output_type": "execute_result"
    }
   ],
   "source": [
    "type(a)"
   ]
  },
  {
   "cell_type": "code",
   "execution_count": 20,
   "id": "14700719",
   "metadata": {},
   "outputs": [
    {
     "data": {
      "text/plain": [
       "set"
      ]
     },
     "execution_count": 20,
     "metadata": {},
     "output_type": "execute_result"
    }
   ],
   "source": [
    " type(a)"
   ]
  },
  {
   "cell_type": "code",
   "execution_count": 22,
   "id": "9aff13a0",
   "metadata": {},
   "outputs": [
    {
     "data": {
      "text/plain": [
       "set"
      ]
     },
     "execution_count": 22,
     "metadata": {},
     "output_type": "execute_result"
    }
   ],
   "source": [
    " type(a)"
   ]
  },
  {
   "cell_type": "markdown",
   "id": "f2bfea75",
   "metadata": {},
   "source": [
    "# add sets"
   ]
  },
  {
   "cell_type": "markdown",
   "id": "c32f2514",
   "metadata": {},
   "source": [
    "# add...."
   ]
  },
  {
   "cell_type": "code",
   "execution_count": 11,
   "id": "41d35fdf",
   "metadata": {},
   "outputs": [],
   "source": [
    "a = {'apple','banana', \"cherry\"}"
   ]
  },
  {
   "cell_type": "code",
   "execution_count": 12,
   "id": "518fc7ab",
   "metadata": {},
   "outputs": [],
   "source": [
    "a.add('Ajinkya')"
   ]
  },
  {
   "cell_type": "code",
   "execution_count": 13,
   "id": "e8eefba6",
   "metadata": {},
   "outputs": [
    {
     "data": {
      "text/plain": [
       "{'Ajinkya', 'apple', 'banana', 'cherry'}"
      ]
     },
     "execution_count": 13,
     "metadata": {},
     "output_type": "execute_result"
    }
   ],
   "source": [
    "a"
   ]
  },
  {
   "cell_type": "code",
   "execution_count": 4,
   "id": "f7dd70ca",
   "metadata": {},
   "outputs": [],
   "source": [
    "a = {'moday','tuesday','wensday'}"
   ]
  },
  {
   "cell_type": "code",
   "execution_count": 5,
   "id": "54efca5b",
   "metadata": {},
   "outputs": [],
   "source": [
    "a.add('shubham')"
   ]
  },
  {
   "cell_type": "code",
   "execution_count": 6,
   "id": "237136b4",
   "metadata": {},
   "outputs": [
    {
     "data": {
      "text/plain": [
       "{'moday', 'shubham', 'tuesday', 'wensday'}"
      ]
     },
     "execution_count": 6,
     "metadata": {},
     "output_type": "execute_result"
    }
   ],
   "source": [
    "a"
   ]
  },
  {
   "cell_type": "code",
   "execution_count": 2,
   "id": "ed418b5f",
   "metadata": {},
   "outputs": [],
   "source": [
    "a = {32,6,14}"
   ]
  },
  {
   "cell_type": "code",
   "execution_count": 3,
   "id": "7411f49e",
   "metadata": {},
   "outputs": [],
   "source": [
    "a.add('dataraj')"
   ]
  },
  {
   "cell_type": "code",
   "execution_count": 4,
   "id": "013e7db0",
   "metadata": {},
   "outputs": [
    {
     "data": {
      "text/plain": [
       "{14, 32, 6, 'dataraj'}"
      ]
     },
     "execution_count": 4,
     "metadata": {},
     "output_type": "execute_result"
    }
   ],
   "source": [
    "a"
   ]
  },
  {
   "cell_type": "code",
   "execution_count": 6,
   "id": "0cf0fbbe",
   "metadata": {},
   "outputs": [],
   "source": [
    "b = {10,20,30,40}"
   ]
  },
  {
   "cell_type": "code",
   "execution_count": 7,
   "id": "fa893dc5",
   "metadata": {},
   "outputs": [],
   "source": [
    "b.add('aditya')"
   ]
  },
  {
   "cell_type": "code",
   "execution_count": 8,
   "id": "f98e5f36",
   "metadata": {},
   "outputs": [
    {
     "data": {
      "text/plain": [
       "{10, 20, 30, 40, 'aditya'}"
      ]
     },
     "execution_count": 8,
     "metadata": {},
     "output_type": "execute_result"
    }
   ],
   "source": [
    "b"
   ]
  },
  {
   "cell_type": "code",
   "execution_count": null,
   "id": "9bf353e9",
   "metadata": {},
   "outputs": [],
   "source": []
  },
  {
   "cell_type": "code",
   "execution_count": 2,
   "id": "6ed88e32",
   "metadata": {},
   "outputs": [],
   "source": [
    "c = {2,4,6,8,10,12}"
   ]
  },
  {
   "cell_type": "code",
   "execution_count": 3,
   "id": "093ef566",
   "metadata": {},
   "outputs": [],
   "source": [
    "c.add('ritesh')"
   ]
  },
  {
   "cell_type": "code",
   "execution_count": 4,
   "id": "ae715da4",
   "metadata": {},
   "outputs": [
    {
     "data": {
      "text/plain": [
       "{10, 12, 2, 4, 6, 8, 'ritesh'}"
      ]
     },
     "execution_count": 4,
     "metadata": {},
     "output_type": "execute_result"
    }
   ],
   "source": [
    "c"
   ]
  },
  {
   "cell_type": "code",
   "execution_count": 2,
   "id": "47759681",
   "metadata": {},
   "outputs": [],
   "source": [
    "d = {3,6,9,12,15,18,21}"
   ]
  },
  {
   "cell_type": "code",
   "execution_count": 3,
   "id": "746cce6c",
   "metadata": {},
   "outputs": [],
   "source": [
    "d.add('ram')"
   ]
  },
  {
   "cell_type": "code",
   "execution_count": 5,
   "id": "995a5f15",
   "metadata": {},
   "outputs": [
    {
     "data": {
      "text/plain": [
       "{12, 15, 18, 21, 3, 6, 9, 'ram'}"
      ]
     },
     "execution_count": 5,
     "metadata": {},
     "output_type": "execute_result"
    }
   ],
   "source": [
    "d"
   ]
  },
  {
   "cell_type": "code",
   "execution_count": 8,
   "id": "7c849b31",
   "metadata": {},
   "outputs": [],
   "source": [
    "b = {5,6,4,6,46,4,6,4,6}"
   ]
  },
  {
   "cell_type": "code",
   "execution_count": 9,
   "id": "6a45c01c",
   "metadata": {},
   "outputs": [],
   "source": [
    "b.add('ram')"
   ]
  },
  {
   "cell_type": "code",
   "execution_count": 10,
   "id": "30eff9f1",
   "metadata": {},
   "outputs": [
    {
     "data": {
      "text/plain": [
       "{4, 46, 5, 6, 'ram'}"
      ]
     },
     "execution_count": 10,
     "metadata": {},
     "output_type": "execute_result"
    }
   ],
   "source": [
    "b"
   ]
  },
  {
   "cell_type": "code",
   "execution_count": 11,
   "id": "b3cbcb2f",
   "metadata": {},
   "outputs": [],
   "source": [
    "xy = {1,2,3,4,5}"
   ]
  },
  {
   "cell_type": "code",
   "execution_count": 12,
   "id": "a30d1bfb",
   "metadata": {},
   "outputs": [],
   "source": [
    "xy.add('sham')"
   ]
  },
  {
   "cell_type": "code",
   "execution_count": 13,
   "id": "458ac1a6",
   "metadata": {},
   "outputs": [
    {
     "data": {
      "text/plain": [
       "{1, 2, 3, 4, 5, 'sham'}"
      ]
     },
     "execution_count": 13,
     "metadata": {},
     "output_type": "execute_result"
    }
   ],
   "source": [
    "xy"
   ]
  },
  {
   "cell_type": "code",
   "execution_count": 15,
   "id": "a64ff963",
   "metadata": {},
   "outputs": [],
   "source": [
    "yz = {2,4,6,8,10}"
   ]
  },
  {
   "cell_type": "code",
   "execution_count": 16,
   "id": "ffdc50ff",
   "metadata": {},
   "outputs": [],
   "source": [
    "yz.add('lakan')"
   ]
  },
  {
   "cell_type": "code",
   "execution_count": 17,
   "id": "8dc14f71",
   "metadata": {},
   "outputs": [
    {
     "data": {
      "text/plain": [
       "{10, 2, 4, 6, 8, 'lakan'}"
      ]
     },
     "execution_count": 17,
     "metadata": {},
     "output_type": "execute_result"
    }
   ],
   "source": [
    "yz"
   ]
  },
  {
   "cell_type": "code",
   "execution_count": 18,
   "id": "5bba580c",
   "metadata": {},
   "outputs": [],
   "source": [
    "am ={9,8,7,6,5,4}"
   ]
  },
  {
   "cell_type": "code",
   "execution_count": 19,
   "id": "db5911b5",
   "metadata": {},
   "outputs": [],
   "source": [
    "am.add('prashant')"
   ]
  },
  {
   "cell_type": "code",
   "execution_count": 20,
   "id": "ac9edf94",
   "metadata": {},
   "outputs": [
    {
     "data": {
      "text/plain": [
       "{4, 5, 6, 7, 8, 9, 'prashant'}"
      ]
     },
     "execution_count": 20,
     "metadata": {},
     "output_type": "execute_result"
    }
   ],
   "source": [
    "am"
   ]
  },
  {
   "cell_type": "code",
   "execution_count": 14,
   "id": "55c36322",
   "metadata": {},
   "outputs": [
    {
     "data": {
      "text/plain": [
       "{44, 54, 84}"
      ]
     },
     "execution_count": 14,
     "metadata": {},
     "output_type": "execute_result"
    }
   ],
   "source": [
    "a={54,84,44}\n",
    "a"
   ]
  },
  {
   "cell_type": "code",
   "execution_count": 16,
   "id": "e3f40d94",
   "metadata": {},
   "outputs": [
    {
     "data": {
      "text/plain": [
       "{22, 44, 54, 84}"
      ]
     },
     "execution_count": 16,
     "metadata": {},
     "output_type": "execute_result"
    }
   ],
   "source": [
    "a.add(22)\n",
    "a"
   ]
  },
  {
   "cell_type": "code",
   "execution_count": 22,
   "id": "d453ddc2",
   "metadata": {},
   "outputs": [
    {
     "data": {
      "text/plain": [
       "{54, 65, 645}"
      ]
     },
     "execution_count": 22,
     "metadata": {},
     "output_type": "execute_result"
    }
   ],
   "source": [
    "a={65,645,54}\n",
    "a"
   ]
  },
  {
   "cell_type": "code",
   "execution_count": 23,
   "id": "593b7265",
   "metadata": {},
   "outputs": [
    {
     "data": {
      "text/plain": [
       "{54, 55, 65, 645}"
      ]
     },
     "execution_count": 23,
     "metadata": {},
     "output_type": "execute_result"
    }
   ],
   "source": [
    "a.add(55)\n",
    "a"
   ]
  },
  {
   "cell_type": "code",
   "execution_count": 24,
   "id": "be02e2c3",
   "metadata": {},
   "outputs": [
    {
     "data": {
      "text/plain": [
       "{1, 2, 3, 4, 5}"
      ]
     },
     "execution_count": 24,
     "metadata": {},
     "output_type": "execute_result"
    }
   ],
   "source": [
    "a={1,2,3,4,5}\n",
    "a"
   ]
  },
  {
   "cell_type": "code",
   "execution_count": 25,
   "id": "121df267",
   "metadata": {},
   "outputs": [
    {
     "data": {
      "text/plain": [
       "{1, 2, 3, 4, 5, 8}"
      ]
     },
     "execution_count": 25,
     "metadata": {},
     "output_type": "execute_result"
    }
   ],
   "source": [
    "a.add(8)\n",
    "a"
   ]
  },
  {
   "cell_type": "code",
   "execution_count": null,
   "id": "683fa362",
   "metadata": {},
   "outputs": [],
   "source": []
  },
  {
   "cell_type": "code",
   "execution_count": 26,
   "id": "e451fce3",
   "metadata": {},
   "outputs": [],
   "source": [
    "a={5,6,8,97,11}"
   ]
  },
  {
   "cell_type": "code",
   "execution_count": 27,
   "id": "4d8b3fb8",
   "metadata": {},
   "outputs": [
    {
     "data": {
      "text/plain": [
       "{2, 5, 6, 8, 11, 97}"
      ]
     },
     "execution_count": 27,
     "metadata": {},
     "output_type": "execute_result"
    }
   ],
   "source": [
    "a.add(2)\n",
    "a"
   ]
  },
  {
   "cell_type": "code",
   "execution_count": 28,
   "id": "6d7fafab",
   "metadata": {},
   "outputs": [
    {
     "data": {
      "text/plain": [
       "{0, 1, 2, 22}"
      ]
     },
     "execution_count": 28,
     "metadata": {},
     "output_type": "execute_result"
    }
   ],
   "source": [
    "b={0,1,2,22}\n",
    "b"
   ]
  },
  {
   "cell_type": "code",
   "execution_count": 29,
   "id": "b25d1b17",
   "metadata": {},
   "outputs": [
    {
     "data": {
      "text/plain": [
       "{0, 1, 2, 4, 22}"
      ]
     },
     "execution_count": 29,
     "metadata": {},
     "output_type": "execute_result"
    }
   ],
   "source": [
    "b.add(4)\n",
    "b"
   ]
  },
  {
   "cell_type": "code",
   "execution_count": 17,
   "id": "639fb13a",
   "metadata": {},
   "outputs": [],
   "source": [
    "a.clear()"
   ]
  },
  {
   "cell_type": "code",
   "execution_count": null,
   "id": "c309111d",
   "metadata": {},
   "outputs": [],
   "source": []
  },
  {
   "cell_type": "markdown",
   "id": "c7a93997",
   "metadata": {},
   "source": [
    "# set clear()\n",
    "  remove all the element from the set"
   ]
  },
  {
   "cell_type": "markdown",
   "id": "099f74ec",
   "metadata": {},
   "source": [
    "# set copy\n",
    "return a copy of the set"
   ]
  },
  {
   "cell_type": "code",
   "execution_count": 32,
   "id": "5af2d3b9",
   "metadata": {},
   "outputs": [],
   "source": [
    "x = {'apple','banana','cherry'}\n",
    "y = {'google','apple','microsoft'}"
   ]
  },
  {
   "cell_type": "code",
   "execution_count": 33,
   "id": "0a9be204",
   "metadata": {},
   "outputs": [
    {
     "data": {
      "text/plain": [
       "{'apple', 'banana', 'cherry'}"
      ]
     },
     "execution_count": 33,
     "metadata": {},
     "output_type": "execute_result"
    }
   ],
   "source": [
    "x.copy()"
   ]
  },
  {
   "cell_type": "code",
   "execution_count": 7,
   "id": "be96a9a8",
   "metadata": {},
   "outputs": [],
   "source": [
    "a = {'monday','tuesday','wensday'}\n",
    "b = {'morning','monday','afternon'}"
   ]
  },
  {
   "cell_type": "code",
   "execution_count": 8,
   "id": "e7635c6c",
   "metadata": {},
   "outputs": [
    {
     "data": {
      "text/plain": [
       "{'monday', 'tuesday', 'wensday'}"
      ]
     },
     "execution_count": 8,
     "metadata": {},
     "output_type": "execute_result"
    }
   ],
   "source": [
    "a.copy()"
   ]
  },
  {
   "cell_type": "code",
   "execution_count": 28,
   "id": "bc824234",
   "metadata": {},
   "outputs": [],
   "source": [
    "a = {1,2,3}\n",
    "b = {4,1,6}"
   ]
  },
  {
   "cell_type": "code",
   "execution_count": 29,
   "id": "d5b43a98",
   "metadata": {},
   "outputs": [
    {
     "data": {
      "text/plain": [
       "{1, 2, 3}"
      ]
     },
     "execution_count": 29,
     "metadata": {},
     "output_type": "execute_result"
    }
   ],
   "source": [
    "a.copy()"
   ]
  },
  {
   "cell_type": "code",
   "execution_count": 24,
   "id": "fcb2d321",
   "metadata": {},
   "outputs": [],
   "source": [
    "a = {9,8,7,6,5,4,3,2}\n",
    "b = {1,80,70,60,50,4}"
   ]
  },
  {
   "cell_type": "code",
   "execution_count": 25,
   "id": "fedcb2ee",
   "metadata": {},
   "outputs": [
    {
     "data": {
      "text/plain": [
       "{2, 3, 4, 5, 6, 7, 8, 9}"
      ]
     },
     "execution_count": 25,
     "metadata": {},
     "output_type": "execute_result"
    }
   ],
   "source": [
    "a.copy()"
   ]
  },
  {
   "cell_type": "code",
   "execution_count": null,
   "id": "d5d8fbe7",
   "metadata": {},
   "outputs": [],
   "source": []
  },
  {
   "cell_type": "code",
   "execution_count": 30,
   "id": "efaa1491",
   "metadata": {},
   "outputs": [],
   "source": [
    "a = {'ram','sham'}\n",
    "b = {'mahesh','ram'}    "
   ]
  },
  {
   "cell_type": "code",
   "execution_count": 31,
   "id": "199e4dea",
   "metadata": {},
   "outputs": [
    {
     "data": {
      "text/plain": [
       "{'ram', 'sham'}"
      ]
     },
     "execution_count": 31,
     "metadata": {},
     "output_type": "execute_result"
    }
   ],
   "source": [
    "a.copy()"
   ]
  },
  {
   "cell_type": "code",
   "execution_count": 32,
   "id": "8b4bd17b",
   "metadata": {},
   "outputs": [],
   "source": [
    "x = {'apple','banana','chery'}\n",
    "y = {'microsoft','apple','google'}"
   ]
  },
  {
   "cell_type": "code",
   "execution_count": 34,
   "id": "c4374976",
   "metadata": {},
   "outputs": [
    {
     "data": {
      "text/plain": [
       "{'apple', 'banana', 'chery'}"
      ]
     },
     "execution_count": 34,
     "metadata": {},
     "output_type": "execute_result"
    }
   ],
   "source": [
    "x.copy()"
   ]
  },
  {
   "cell_type": "code",
   "execution_count": 41,
   "id": "8ceda91c",
   "metadata": {},
   "outputs": [],
   "source": [
    "a = {'sanket','mangesh','dataraj'}\n",
    "b ={'vikee','vikas','suraj'}"
   ]
  },
  {
   "cell_type": "code",
   "execution_count": 43,
   "id": "733941b2",
   "metadata": {},
   "outputs": [
    {
     "data": {
      "text/plain": [
       "{'suraj', 'vikas', 'vikee'}"
      ]
     },
     "execution_count": 43,
     "metadata": {},
     "output_type": "execute_result"
    }
   ],
   "source": [
    "b.copy()"
   ]
  },
  {
   "cell_type": "code",
   "execution_count": null,
   "id": "d6ab4063",
   "metadata": {},
   "outputs": [],
   "source": []
  },
  {
   "cell_type": "markdown",
   "id": "518cf215",
   "metadata": {},
   "source": [
    "# difference()\n",
    "difference between two or more sets"
   ]
  },
  {
   "cell_type": "code",
   "execution_count": 35,
   "id": "9ca73954",
   "metadata": {},
   "outputs": [],
   "source": [
    "a = {10,20,30,40,50,60} # Remove same value of two or more sets.\n",
    "b = {60,70,80,90,10}"
   ]
  },
  {
   "cell_type": "code",
   "execution_count": 36,
   "id": "9d509615",
   "metadata": {},
   "outputs": [
    {
     "data": {
      "text/plain": [
       "{20, 30, 40, 50}"
      ]
     },
     "execution_count": 36,
     "metadata": {},
     "output_type": "execute_result"
    }
   ],
   "source": [
    "a.difference(b)"
   ]
  },
  {
   "cell_type": "code",
   "execution_count": 9,
   "id": "43768aa3",
   "metadata": {},
   "outputs": [
    {
     "data": {
      "text/plain": [
       "{70, 80, 90, 100}"
      ]
     },
     "execution_count": 9,
     "metadata": {},
     "output_type": "execute_result"
    }
   ],
   "source": [
    "b.difference(a)"
   ]
  },
  {
   "cell_type": "code",
   "execution_count": 28,
   "id": "b84ee3c6",
   "metadata": {},
   "outputs": [],
   "source": [
    "a = {22,44,66,88}\n",
    "b ={'apple','banana',\"cherry\",22}"
   ]
  },
  {
   "cell_type": "code",
   "execution_count": 29,
   "id": "683e0ee7",
   "metadata": {},
   "outputs": [
    {
     "data": {
      "text/plain": [
       "{44, 66, 88}"
      ]
     },
     "execution_count": 29,
     "metadata": {},
     "output_type": "execute_result"
    }
   ],
   "source": [
    "a.difference(b)"
   ]
  },
  {
   "cell_type": "code",
   "execution_count": 30,
   "id": "b6f53166",
   "metadata": {},
   "outputs": [
    {
     "data": {
      "text/plain": [
       "{'apple', 'banana', 'cherry'}"
      ]
     },
     "execution_count": 30,
     "metadata": {},
     "output_type": "execute_result"
    }
   ],
   "source": [
    "b.difference(a)"
   ]
  },
  {
   "cell_type": "code",
   "execution_count": 32,
   "id": "991528a3",
   "metadata": {},
   "outputs": [],
   "source": [
    "a = {'apple','banana','cherry'}\n",
    "b = {\"google\",\"microsoft\",'apple'}"
   ]
  },
  {
   "cell_type": "code",
   "execution_count": 33,
   "id": "b2fb8850",
   "metadata": {},
   "outputs": [],
   "source": [
    "c = a.difference(b)"
   ]
  },
  {
   "cell_type": "code",
   "execution_count": 34,
   "id": "959f1aa4",
   "metadata": {},
   "outputs": [
    {
     "data": {
      "text/plain": [
       "{'banana', 'cherry'}"
      ]
     },
     "execution_count": 34,
     "metadata": {},
     "output_type": "execute_result"
    }
   ],
   "source": [
    "c"
   ]
  },
  {
   "cell_type": "code",
   "execution_count": null,
   "id": "75cd4009",
   "metadata": {},
   "outputs": [],
   "source": [
    "x ={'monday','tuesday','wensday'}\n",
    "y ={}   "
   ]
  },
  {
   "cell_type": "code",
   "execution_count": null,
   "id": "1825a292",
   "metadata": {},
   "outputs": [],
   "source": []
  },
  {
   "cell_type": "code",
   "execution_count": null,
   "id": "a8d58ba9",
   "metadata": {},
   "outputs": [],
   "source": []
  },
  {
   "cell_type": "code",
   "execution_count": null,
   "id": "0b61015c",
   "metadata": {},
   "outputs": [],
   "source": []
  },
  {
   "cell_type": "markdown",
   "id": "27daade0",
   "metadata": {},
   "source": [
    "# difference update()\n",
    "remove the item in this set that are also include in another,specifide set"
   ]
  },
  {
   "cell_type": "code",
   "execution_count": 1,
   "id": "10cdc8eb",
   "metadata": {},
   "outputs": [],
   "source": [
    "a = {10,20,40,30,50,60}\n",
    "b = {60,70,90,80,100}"
   ]
  },
  {
   "cell_type": "code",
   "execution_count": 2,
   "id": "afca6f5c",
   "metadata": {},
   "outputs": [],
   "source": [
    "a.difference_update(b)"
   ]
  },
  {
   "cell_type": "code",
   "execution_count": 3,
   "id": "149752da",
   "metadata": {},
   "outputs": [
    {
     "data": {
      "text/plain": [
       "{10, 20, 30, 40, 50}"
      ]
     },
     "execution_count": 3,
     "metadata": {},
     "output_type": "execute_result"
    }
   ],
   "source": [
    "a"
   ]
  },
  {
   "cell_type": "code",
   "execution_count": 4,
   "id": "5568a2a7",
   "metadata": {},
   "outputs": [],
   "source": [
    "b.difference_update(a)"
   ]
  },
  {
   "cell_type": "code",
   "execution_count": 5,
   "id": "32a54ce2",
   "metadata": {},
   "outputs": [
    {
     "data": {
      "text/plain": [
       "{60, 70, 80, 90, 100}"
      ]
     },
     "execution_count": 5,
     "metadata": {},
     "output_type": "execute_result"
    }
   ],
   "source": [
    "b"
   ]
  },
  {
   "cell_type": "code",
   "execution_count": null,
   "id": "4f757d3c",
   "metadata": {},
   "outputs": [],
   "source": []
  },
  {
   "cell_type": "code",
   "execution_count": null,
   "id": "54bb2199",
   "metadata": {},
   "outputs": [],
   "source": []
  },
  {
   "cell_type": "markdown",
   "id": "cc4e3e0b",
   "metadata": {},
   "source": [
    "# discard()\n",
    "remove the specifide item"
   ]
  },
  {
   "cell_type": "code",
   "execution_count": 38,
   "id": "db892e17",
   "metadata": {},
   "outputs": [],
   "source": [
    "a = {'apple','banana','cherry'}\n",
    "b = {'apple','microsoft','google'}"
   ]
  },
  {
   "cell_type": "code",
   "execution_count": 39,
   "id": "c257b0e6",
   "metadata": {},
   "outputs": [],
   "source": [
    "a.discard('apple')"
   ]
  },
  {
   "cell_type": "code",
   "execution_count": 40,
   "id": "69c8b984",
   "metadata": {},
   "outputs": [
    {
     "data": {
      "text/plain": [
       "{'banana', 'cherry'}"
      ]
     },
     "execution_count": 40,
     "metadata": {},
     "output_type": "execute_result"
    }
   ],
   "source": [
    "a"
   ]
  },
  {
   "cell_type": "code",
   "execution_count": 41,
   "id": "c6276335",
   "metadata": {},
   "outputs": [],
   "source": [
    " a ={10,20,30,40,50,60,70,80}"
   ]
  },
  {
   "cell_type": "code",
   "execution_count": 42,
   "id": "c0aa7da5",
   "metadata": {},
   "outputs": [],
   "source": [
    "a.discard(30)"
   ]
  },
  {
   "cell_type": "code",
   "execution_count": 43,
   "id": "c365aeb0",
   "metadata": {},
   "outputs": [
    {
     "data": {
      "text/plain": [
       "{10, 20, 40, 50, 60, 70, 80}"
      ]
     },
     "execution_count": 43,
     "metadata": {},
     "output_type": "execute_result"
    }
   ],
   "source": [
    "a"
   ]
  },
  {
   "cell_type": "markdown",
   "id": "62a3a5fc",
   "metadata": {},
   "source": [
    "# intersection\n",
    " intersection of two or more sets"
   ]
  },
  {
   "cell_type": "code",
   "execution_count": 44,
   "id": "47ac491c",
   "metadata": {},
   "outputs": [],
   "source": [
    "x = {22,44,46,48,50,56}\n",
    "b = {50,55,46,44,12,33}"
   ]
  },
  {
   "cell_type": "code",
   "execution_count": 45,
   "id": "1b4fcf56",
   "metadata": {},
   "outputs": [],
   "source": [
    "z = x.intersection(b)"
   ]
  },
  {
   "cell_type": "code",
   "execution_count": 46,
   "id": "0b144551",
   "metadata": {},
   "outputs": [
    {
     "data": {
      "text/plain": [
       "{44, 46, 50}"
      ]
     },
     "execution_count": 46,
     "metadata": {},
     "output_type": "execute_result"
    }
   ],
   "source": [
    "z"
   ]
  },
  {
   "cell_type": "markdown",
   "id": "539faa68",
   "metadata": {},
   "source": [
    "# intersection update()\n",
    "   remove the items in this set that are not present in other specified or not"
   ]
  },
  {
   "cell_type": "code",
   "execution_count": 47,
   "id": "72cd30ae",
   "metadata": {},
   "outputs": [],
   "source": [
    "a = {1,2,3,4,5}\n",
    "b = {5,6,7,8,9}  "
   ]
  },
  {
   "cell_type": "code",
   "execution_count": 48,
   "id": "07da389b",
   "metadata": {},
   "outputs": [
    {
     "data": {
      "text/plain": [
       "{5}"
      ]
     },
     "execution_count": 48,
     "metadata": {},
     "output_type": "execute_result"
    }
   ],
   "source": [
    " a.intersection(b)"
   ]
  },
  {
   "cell_type": "code",
   "execution_count": 49,
   "id": "42c487c4",
   "metadata": {},
   "outputs": [],
   "source": [
    "x = {10,20,30,40,50}\n",
    "y = {20,65,45,65}   "
   ]
  },
  {
   "cell_type": "code",
   "execution_count": 50,
   "id": "42f91078",
   "metadata": {},
   "outputs": [
    {
     "data": {
      "text/plain": [
       "{20}"
      ]
     },
     "execution_count": 50,
     "metadata": {},
     "output_type": "execute_result"
    }
   ],
   "source": [
    "x.intersection(y)"
   ]
  },
  {
   "cell_type": "markdown",
   "id": "2fd6187e",
   "metadata": {},
   "source": [
    "# symmetric difference"
   ]
  },
  {
   "cell_type": "code",
   "execution_count": null,
   "id": "71af56c4",
   "metadata": {},
   "outputs": [],
   "source": [
    "remove the common valuve of two or more sets"
   ]
  },
  {
   "cell_type": "code",
   "execution_count": 55,
   "id": "bbe15843",
   "metadata": {},
   "outputs": [],
   "source": [
    "i = {2,3,4,5,6,7,8,9}\n",
    "j = {5,6,7}   "
   ]
  },
  {
   "cell_type": "code",
   "execution_count": 56,
   "id": "fa54bb10",
   "metadata": {},
   "outputs": [
    {
     "data": {
      "text/plain": [
       "{2, 3, 4, 8, 9}"
      ]
     },
     "execution_count": 56,
     "metadata": {},
     "output_type": "execute_result"
    }
   ],
   "source": [
    "i.symmetric_difference(j)"
   ]
  },
  {
   "cell_type": "markdown",
   "id": "8053e3c7",
   "metadata": {},
   "source": [
    "# symmetric update()\n",
    "difference from this set and another"
   ]
  },
  {
   "cell_type": "code",
   "execution_count": 3,
   "id": "4f1a59f8",
   "metadata": {},
   "outputs": [],
   "source": [
    "a = {2,3,4}\n",
    "b = {5,5,7}"
   ]
  },
  {
   "cell_type": "code",
   "execution_count": 6,
   "id": "039f0a6e",
   "metadata": {},
   "outputs": [
    {
     "data": {
      "text/plain": [
       "{5, 7}"
      ]
     },
     "execution_count": 6,
     "metadata": {},
     "output_type": "execute_result"
    }
   ],
   "source": [
    "b.symmetric_difference_update(a)\n",
    "b"
   ]
  },
  {
   "cell_type": "markdown",
   "id": "143068bc",
   "metadata": {},
   "source": [
    "# union()\n",
    " Return a set containing the union of sets"
   ]
  },
  {
   "cell_type": "code",
   "execution_count": 66,
   "id": "7761a99b",
   "metadata": {},
   "outputs": [],
   "source": [
    "x = {'apple','banana','cherry','microsoft'} # two or more value are same then only one value of the output\n",
    "y = {'microsoft','google'}"
   ]
  },
  {
   "cell_type": "code",
   "execution_count": 64,
   "id": "4e14af12",
   "metadata": {},
   "outputs": [],
   "source": [
    "z = x.union(y)"
   ]
  },
  {
   "cell_type": "code",
   "execution_count": 65,
   "id": "55fa4ff2",
   "metadata": {},
   "outputs": [
    {
     "data": {
      "text/plain": [
       "{'apple', 'banana', 'cherry', 'google', 'microsoft'}"
      ]
     },
     "execution_count": 65,
     "metadata": {},
     "output_type": "execute_result"
    }
   ],
   "source": [
    "z"
   ]
  },
  {
   "cell_type": "code",
   "execution_count": 8,
   "id": "b7316a29",
   "metadata": {},
   "outputs": [],
   "source": [
    "a = {10,20,30,40,50}\n",
    "b = {60,70,80,90,100}"
   ]
  },
  {
   "cell_type": "code",
   "execution_count": 9,
   "id": "b12f6dfd",
   "metadata": {},
   "outputs": [
    {
     "data": {
      "text/plain": [
       "{60, 70, 80, 90, 100}"
      ]
     },
     "execution_count": 9,
     "metadata": {},
     "output_type": "execute_result"
    }
   ],
   "source": [
    "b.union (a)\n",
    "b"
   ]
  },
  {
   "cell_type": "markdown",
   "id": "a28e4d00",
   "metadata": {},
   "source": [
    "# update\n",
    " update the set with another set or any other iterable"
   ]
  },
  {
   "cell_type": "code",
   "execution_count": 1,
   "id": "1f50939b",
   "metadata": {},
   "outputs": [],
   "source": [
    "a = {100,200,300,400,500}\n",
    "b = {600,700,800,900,100}"
   ]
  },
  {
   "cell_type": "code",
   "execution_count": 2,
   "id": "6e583b61",
   "metadata": {},
   "outputs": [
    {
     "data": {
      "text/plain": [
       "{100, 200, 300, 400, 500, 600, 700, 800, 900}"
      ]
     },
     "execution_count": 2,
     "metadata": {},
     "output_type": "execute_result"
    }
   ],
   "source": [
    "a.update(b)\n",
    "a"
   ]
  },
  {
   "cell_type": "code",
   "execution_count": 27,
   "id": "d55c2ad8",
   "metadata": {},
   "outputs": [],
   "source": [
    "x = {10,20,30,40,10}"
   ]
  },
  {
   "cell_type": "code",
   "execution_count": 28,
   "id": "59d1b1fe",
   "metadata": {},
   "outputs": [],
   "source": [
    "x.update('Aditya')"
   ]
  },
  {
   "cell_type": "code",
   "execution_count": 29,
   "id": "e68587ee",
   "metadata": {},
   "outputs": [
    {
     "data": {
      "text/plain": [
       "{10, 20, 30, 40, 'A', 'a', 'd', 'i', 't', 'y'}"
      ]
     },
     "execution_count": 29,
     "metadata": {},
     "output_type": "execute_result"
    }
   ],
   "source": [
    "x"
   ]
  },
  {
   "cell_type": "markdown",
   "id": "3301ddbd",
   "metadata": {},
   "source": [
    "# set pop"
   ]
  },
  {
   "cell_type": "code",
   "execution_count": 7,
   "id": "153edd9c",
   "metadata": {},
   "outputs": [],
   "source": [
    "a = {3,6,9,12,15,18}"
   ]
  },
  {
   "cell_type": "code",
   "execution_count": 8,
   "id": "0216eb73",
   "metadata": {},
   "outputs": [
    {
     "data": {
      "text/plain": [
       "6"
      ]
     },
     "execution_count": 8,
     "metadata": {},
     "output_type": "execute_result"
    }
   ],
   "source": [
    "a.pop()\n",
    "a.pop()\n",
    "a.pop()"
   ]
  },
  {
   "cell_type": "code",
   "execution_count": 6,
   "id": "1d260c96",
   "metadata": {},
   "outputs": [
    {
     "data": {
      "text/plain": [
       "{9, 12, 15}"
      ]
     },
     "execution_count": 6,
     "metadata": {},
     "output_type": "execute_result"
    }
   ],
   "source": [
    "a"
   ]
  },
  {
   "cell_type": "code",
   "execution_count": null,
   "id": "9a73b406",
   "metadata": {},
   "outputs": [],
   "source": []
  },
  {
   "cell_type": "code",
   "execution_count": null,
   "id": "cff59147",
   "metadata": {},
   "outputs": [],
   "source": []
  },
  {
   "cell_type": "code",
   "execution_count": null,
   "id": "61b65a9b",
   "metadata": {},
   "outputs": [],
   "source": []
  },
  {
   "cell_type": "code",
   "execution_count": 14,
   "id": "0fa69d5f",
   "metadata": {},
   "outputs": [],
   "source": [
    "a ={45,65,65,87,15,25}\n",
    "b ={65,65,85,84,84,94}"
   ]
  },
  {
   "cell_type": "code",
   "execution_count": 15,
   "id": "e408afc1",
   "metadata": {},
   "outputs": [],
   "source": [
    "a.difference_update(b)"
   ]
  },
  {
   "cell_type": "markdown",
   "id": "bbeb6d27",
   "metadata": {},
   "source": [
    "##  isdisjoint()..."
   ]
  },
  {
   "cell_type": "code",
   "execution_count": 28,
   "id": "2960b865",
   "metadata": {},
   "outputs": [],
   "source": [
    "x = {'banana','cherry'}\n",
    "y = {'apple','microsoft','google'}"
   ]
  },
  {
   "cell_type": "code",
   "execution_count": 29,
   "id": "7b8c9d6e",
   "metadata": {},
   "outputs": [],
   "source": [
    "z = y.isdisjoint(x)"
   ]
  },
  {
   "cell_type": "code",
   "execution_count": 30,
   "id": "df5aea81",
   "metadata": {},
   "outputs": [
    {
     "data": {
      "text/plain": [
       "True"
      ]
     },
     "execution_count": 30,
     "metadata": {},
     "output_type": "execute_result"
    }
   ],
   "source": [
    "z"
   ]
  },
  {
   "cell_type": "code",
   "execution_count": 17,
   "id": "012cc7a8",
   "metadata": {},
   "outputs": [],
   "source": [
    "a = {22,24,26,28}\n",
    "b = {30,32,34,36}"
   ]
  },
  {
   "cell_type": "code",
   "execution_count": 18,
   "id": "cd3d6818",
   "metadata": {},
   "outputs": [
    {
     "data": {
      "text/plain": [
       "True"
      ]
     },
     "execution_count": 18,
     "metadata": {},
     "output_type": "execute_result"
    }
   ],
   "source": [
    "a.isdisjoint(b)"
   ]
  },
  {
   "cell_type": "code",
   "execution_count": null,
   "id": "51bffc1d",
   "metadata": {},
   "outputs": [],
   "source": [
    "a = {12,54,66,45}\n",
    "b = {15,63,33,65}"
   ]
  },
  {
   "cell_type": "code",
   "execution_count": 19,
   "id": "8b7e7aee",
   "metadata": {},
   "outputs": [
    {
     "data": {
      "text/plain": [
       "True"
      ]
     },
     "execution_count": 19,
     "metadata": {},
     "output_type": "execute_result"
    }
   ],
   "source": [
    "a.isdisjoint(b)"
   ]
  },
  {
   "cell_type": "code",
   "execution_count": null,
   "id": "776a16c0",
   "metadata": {},
   "outputs": [],
   "source": [
    "a = {45654256}\n",
    "b = {51655631}"
   ]
  },
  {
   "cell_type": "code",
   "execution_count": 20,
   "id": "0247a01e",
   "metadata": {},
   "outputs": [
    {
     "data": {
      "text/plain": [
       "True"
      ]
     },
     "execution_count": 20,
     "metadata": {},
     "output_type": "execute_result"
    }
   ],
   "source": [
    "a.isdisjoint(b)"
   ]
  },
  {
   "cell_type": "code",
   "execution_count": 26,
   "id": "3599f289",
   "metadata": {},
   "outputs": [],
   "source": [
    "a = {54,54,63,65,12}\n",
    "b = {32,12,22,32,11}\n",
    "c = {11,13,14}"
   ]
  },
  {
   "cell_type": "code",
   "execution_count": 27,
   "id": "933948fc",
   "metadata": {},
   "outputs": [
    {
     "data": {
      "text/plain": [
       "False"
      ]
     },
     "execution_count": 27,
     "metadata": {},
     "output_type": "execute_result"
    }
   ],
   "source": [
    "a.isdisjoint(b)"
   ]
  },
  {
   "cell_type": "code",
   "execution_count": null,
   "id": "29399039",
   "metadata": {},
   "outputs": [],
   "source": []
  }
 ],
 "metadata": {
  "kernelspec": {
   "display_name": "Python 3 (ipykernel)",
   "language": "python",
   "name": "python3"
  },
  "language_info": {
   "codemirror_mode": {
    "name": "ipython",
    "version": 3
   },
   "file_extension": ".py",
   "mimetype": "text/x-python",
   "name": "python",
   "nbconvert_exporter": "python",
   "pygments_lexer": "ipython3",
   "version": "3.9.7"
  }
 },
 "nbformat": 4,
 "nbformat_minor": 5
}
