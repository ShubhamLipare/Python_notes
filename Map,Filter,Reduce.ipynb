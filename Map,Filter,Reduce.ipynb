{
  "nbformat": 4,
  "nbformat_minor": 0,
  "metadata": {
    "colab": {
      "provenance": [],
      "authorship_tag": "ABX9TyMA2FGFKxW0Yf738CUAOPrB",
      "include_colab_link": true
    },
    "kernelspec": {
      "name": "python3",
      "display_name": "Python 3"
    },
    "language_info": {
      "name": "python"
    }
  },
  "cells": [
    {
      "cell_type": "markdown",
      "metadata": {
        "id": "view-in-github",
        "colab_type": "text"
      },
      "source": [
        "<a href=\"https://colab.research.google.com/github/ShubhamLipare/Python_notes/blob/main/Map%2CFilter%2CReduce.ipynb\" target=\"_parent\"><img src=\"https://colab.research.google.com/assets/colab-badge.svg\" alt=\"Open In Colab\"/></a>"
      ]
    },
    {
      "cell_type": "markdown",
      "source": [
        "## map(function, iterable)\n",
        "- Purpose: Applies a function to each item in an iterable.\n",
        "\n",
        "- Returns: A map object (iterator) which can be converted to a list."
      ],
      "metadata": {
        "id": "BBv7vfnInVH6"
      }
    },
    {
      "cell_type": "code",
      "execution_count": 1,
      "metadata": {
        "colab": {
          "base_uri": "https://localhost:8080/"
        },
        "id": "bAgBclKinQeA",
        "outputId": "328a013e-60df-4e65-ece1-046b0f89b8e7"
      },
      "outputs": [
        {
          "output_type": "stream",
          "name": "stdout",
          "text": [
            "[1, 4, 9, 16]\n"
          ]
        }
      ],
      "source": [
        "numbers = [1, 2, 3, 4]\n",
        "squared = map(lambda x: x**2, numbers)\n",
        "print(list(squared))  # [1, 4, 9, 16]"
      ]
    },
    {
      "cell_type": "markdown",
      "source": [
        "## filter(function, iterable)\n",
        "- Purpose: Filters items from an iterable for which the function returns True.\n",
        "\n",
        "- Returns: A filter object (iterator)."
      ],
      "metadata": {
        "id": "DgSlWRLfogkT"
      }
    },
    {
      "cell_type": "code",
      "source": [
        "numbers = [1, 2, 3, 4, 5, 6]\n",
        "even = filter(lambda x: x % 2 == 0, numbers)\n",
        "print(list(even))  # [2, 4, 6]\n"
      ],
      "metadata": {
        "colab": {
          "base_uri": "https://localhost:8080/"
        },
        "id": "M2v4MB6Rnklb",
        "outputId": "665d0c8b-d2e1-453b-da3b-c28eb4eb8ffd"
      },
      "execution_count": 2,
      "outputs": [
        {
          "output_type": "stream",
          "name": "stdout",
          "text": [
            "[2, 4, 6]\n"
          ]
        }
      ]
    },
    {
      "cell_type": "markdown",
      "source": [
        "## reduce(function, iterable)\n",
        "- Purpose: Applies a function cumulatively to the items of a sequence, from left to right, to reduce it to a single value.\n",
        "\n",
        "- Requires: from functools import reduce.\n",
        "\n",
        "- The reduce() function reduces a list (or iterable) to a single value by repeatedly applying a binary function (a function that takes two arguments).\n",
        "\n",
        "- It’s not built-in directly, so you must import it:\n",
        "\n",
        "from functools import reduce\n",
        "\n",
        "syntax:\n",
        "\n",
        "reduce(function, iterable, [initializer]) initializer is initial value.\n",
        "\n",
        "- reduce(lambda x, y: x + y, [1, 2, 3], 10)\n",
        "- Starts with 10: 10 + 1 = 11\n",
        "- 11 + 2 = 13\n",
        "- 13 + 3 = 16\n",
        "- Final result = 16\n",
        "\n"
      ],
      "metadata": {
        "id": "uBqPXMPZosET"
      }
    },
    {
      "cell_type": "code",
      "source": [
        "from functools import reduce\n",
        "data = [2, 3, 4]\n",
        "product = reduce(lambda x, y: x * y, data)\n",
        "print(product)  # Output: 24\n"
      ],
      "metadata": {
        "colab": {
          "base_uri": "https://localhost:8080/"
        },
        "id": "9HSQ5M4AomEa",
        "outputId": "235f4426-ac43-4b3d-85df-96540a50fbd2"
      },
      "execution_count": 3,
      "outputs": [
        {
          "output_type": "stream",
          "name": "stdout",
          "text": [
            "24\n"
          ]
        }
      ]
    },
    {
      "cell_type": "code",
      "source": [
        "data = [5, 3, 9, 1]\n",
        "maximum = reduce(lambda x, y: x if x > y else y, data)\n",
        "print(maximum)  # Output: 9\n"
      ],
      "metadata": {
        "colab": {
          "base_uri": "https://localhost:8080/"
        },
        "id": "c1GJIBOhpW6T",
        "outputId": "6872d700-cb92-4f1b-d63f-cf35028cdbe9"
      },
      "execution_count": 4,
      "outputs": [
        {
          "output_type": "stream",
          "name": "stdout",
          "text": [
            "9\n"
          ]
        }
      ]
    },
    {
      "cell_type": "markdown",
      "source": [
        "### Combining all there in single code\n"
      ],
      "metadata": {
        "id": "2I-J5l9UpcIM"
      }
    },
    {
      "cell_type": "markdown",
      "source": [
        "You’re using the filter() and map() iterators one after the other without storing them as lists first. But Python iterators (like filter() and map()) are exhausted after one use."
      ],
      "metadata": {
        "id": "uQHZ65XUpm2r"
      }
    },
    {
      "cell_type": "code",
      "source": [
        "from functools import reduce\n",
        "\n",
        "ls = [1, 2, 3, 4, 5, 6, 7, 8, 9]\n",
        "\n",
        "# Step 1: Filter even numbers\n",
        "even_numbers = list(filter(lambda x: x % 2 == 0, ls))\n",
        "print(\"Even numbers:\", even_numbers)  # [2, 4, 6, 8]\n",
        "\n",
        "# Step 2: Square each even number\n",
        "squares = list(map(lambda x: x ** 2, even_numbers))\n",
        "print(\"Squared values:\", squares)  # [4, 16, 36, 64]\n",
        "\n",
        "# Step 3: Sum the squared values\n",
        "total_sum = reduce(lambda x, y: x + y, squares, 0)\n",
        "print(\"Total sum:\", total_sum)  # 120\n"
      ],
      "metadata": {
        "colab": {
          "base_uri": "https://localhost:8080/"
        },
        "id": "ZnbklesjpYki",
        "outputId": "c76cdce3-6a4f-4668-cb36-deb7a1633554"
      },
      "execution_count": 5,
      "outputs": [
        {
          "output_type": "stream",
          "name": "stdout",
          "text": [
            "Even numbers: [2, 4, 6, 8]\n",
            "Squared values: [4, 16, 36, 64]\n",
            "Total sum: 120\n"
          ]
        }
      ]
    },
    {
      "cell_type": "code",
      "source": [],
      "metadata": {
        "id": "gAJWBK0Ipg26"
      },
      "execution_count": null,
      "outputs": []
    }
  ]
}